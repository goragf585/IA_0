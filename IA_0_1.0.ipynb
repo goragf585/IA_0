{
 "cells": [
  {
   "cell_type": "markdown",
   "metadata": {},
   "source": [
    "<b>ФИО:</b> <i>Cенчило П. В.</i>;\n",
    "<br><b>ИА №:</b> `0` = <b>Блок</b> № `0`;\n",
    "<br><b>Дата:</b> `2023-10-23`.\n",
    "\n",
    "**Тема:**\n",
    "\"Машинное обучение — Итоговая аттестация\""
   ]
  },
  {
   "cell_type": "markdown",
   "metadata": {},
   "source": [
    "Мы с вами видели, как можно классифицировать изображения в градациях серого (не имеющие информации о цвете) на `10` классов\n",
    "<br>\n",
    "(пример: https://www.kaggle.com/code/amyjang/tensorflow-mnist-cnn-tutorial). \n",
    "<br>\n",
    "Теперь предлагается более сложная задача для другого дата-сета.\n",
    "<br>\n",
    "**Дата-сет:** https://www.cs.toronto.edu/~kriz/cifar-10-binary.tar.gz. #\n",
    "<br>\n",
    "**Задача такая:** обучить классификатор цветных изображений с помощью свёрточной (не полно-связной архитектуры) сети искусственных нейронов."
   ]
  },
  {
   "cell_type": "markdown",
   "metadata": {},
   "source": [
    "Файлы `.ipynb`, `.py`, структуру папок (можно с данными — обязательно, если данные не в корне) и описание конвейера \n",
    "<br>\n",
    "выгрузите на ваш удалённый репозиторий, предоставьте ссылку на него. "
   ]
  },
  {
   "cell_type": "markdown",
   "metadata": {},
   "source": [
    "**Требования:**\n",
    "1.  Объяснить, какие элементы вашей сети зависят от количества цветов, какие — от количества классов.\n",
    "2.  Обучить модель. \n",
    "<br>Объяснить место в модели каждого слоя, обосновать выбор гипер-параметров \n",
    "<br> (можно ссылаться на примеры кода в Сети, но в любом случае нужно объяснить словами). \n",
    "3.  Сравнить качество предсказания при обучении на `20` широких классах\n",
    "<br> с предсказаниями при обучении на `100` узких классах, \n",
    "<br> обобщив предсказания по узким меткам до метки их широкого класса в соответствии с **таблицей**:"
   ]
  },
  {
   "cell_type": "markdown",
   "metadata": {},
   "source": [
    "<table>\n",
    "    <tr>\n",
    "        <td><b>Метка широкого класса</b></td>\n",
    "        <td><b>Метка узкого класса</b></td>\n",
    "    </tr>\n",
    "    <tr>\n",
    "        <td>aquatic mammals</td>\n",
    "        <td>beaver, dolphin, otter, seal, whale</td>\n",
    "    </tr>\n",
    "    <tr>\n",
    "        <td>fish</td>\n",
    "        <td>aquarium fish, flatfish, ray, shark, trout</td>\n",
    "    </tr>\n",
    "    <tr>\n",
    "        <td>flowers</td>\n",
    "        <td>orchids, poppies, roses, sunflowers, tulips</td>\n",
    "    </tr>\n",
    "    <tr>\n",
    "        <td>food containers</td>\n",
    "        <td>bottles, bowls, cans, cups, plates</td>\n",
    "    </tr>\n",
    "    <tr>\n",
    "        <td>fruit and vegetables</td>\n",
    "        <td>apples, mushrooms, oranges, pears, sweet peppers</td>\n",
    "    </tr>\n",
    "    <tr>\n",
    "        <td>household electrical devices</td>\n",
    "        <td>clock, computer keyboard, lamp, telephone, television</td>\n",
    "    </tr>\n",
    "    <tr>\n",
    "        <td>household furniture</td>\n",
    "        <td>bed, chair , couch, table, wardrobe</td>\n",
    "    </tr>\n",
    "    <tr>\n",
    "        <td>insects</td>\n",
    "        <td>bee, beetle, butterfly , caterpillar , cockroach</td>\n",
    "    </tr>\n",
    "    <tr>\n",
    "        <td>large carnivores</td>\n",
    "        <td>bear, leopard, lion, tiger, wolf</td>\n",
    "    </tr>\n",
    "    <tr>\n",
    "        <td>large man-made outdoor things</td>\n",
    "        <td>bridge, castle, house, road, skyscraper</td>\n",
    "    </tr>\n",
    "    <tr>\n",
    "        <td>large natural outdoor scenes</td>\n",
    "        <td>cloud, forest, mountain, plain, sea</td>\n",
    "    </tr>\n",
    "    <tr>\n",
    "        <td>large omnivores and herbivores </td>\n",
    "        <td>camel, cattle, chimpanzee, elephant, kangaroo</td>\n",
    "    </tr>\n",
    "    <tr>\n",
    "        <td>medium-sized mammals</td>\n",
    "        <td>fox, porcupine, possum, raccoon, skunk</td>\n",
    "    </tr>\n",
    "    <tr>\n",
    "        <td>non-insect invertebrates</td>\n",
    "        <td>crab, lobster , snail, spider , worm</td>\n",
    "    </tr>\n",
    "    <tr>\n",
    "        <td>people</td>\n",
    "        <td>baby , boy , girl, man, woman</td>\n",
    "    </tr>\n",
    "    <tr>\n",
    "        <td>reptiles</td>\n",
    "        <td>crocodile, dinosaur , lizard, snake, turtle</td>\n",
    "    </tr>\n",
    "    <tr>\n",
    "        <td>small mammals</td>\n",
    "        <td>hamster, mouse, rabbit, shrew, squirrel</td>\n",
    "    </tr>\n",
    "    <tr>\n",
    "        <td>trees</td>\n",
    "        <td>maple, oak, palm, pine, willow</td>\n",
    "    </tr>\n",
    "    <tr>\n",
    "        <td>vehicles 1</td>\n",
    "        <td>bicycle, bus, motorcycle, pickup truck, train</td>\n",
    "    </tr>\n",
    "    <tr>\n",
    "        <td>vehicles 2</td>\n",
    "        <td>lawn-mower, rocket, streetcar, tank, tractor</td>\n",
    "    </tr>    \n",
    "</table>"
   ]
  },
  {
   "cell_type": "markdown",
   "metadata": {},
   "source": [
    "4.  Исследовать с помощью графиков,\n",
    "<br> метрики предсказания для каких узких классов\n",
    "<br> более всего отличаются от метрик их более\n",
    "широких классов. \n",
    "<br>Выдвинуть предположение о причине возможного отличия.\n",
    "5.  У вас должен получиться `.ipynb`-файл с объяснениями, оформленными в отдельных текстовых блоках.\n",
    "6.  После готовности блокнота `.ipynb` преобразуйте его в программу на `Питоне` (`.py`) так,\n",
    "<br> чтобы после обучения модели она автоматически экспортировалась бы в файл \n",
    "<br> (см., например, https://www.tensorflow.org/guide/keras/serialization_and_saving)."
   ]
  },
  {
   "cell_type": "markdown",
   "metadata": {},
   "source": [
    "7.  **Дополнительно:**\n",
    "- Опишите конвейер, который бы запускал программу обучения, \n",
    "<br>и при успешном формировании файла модели выгружал бы его как артефакт в репозиторий локально развёрнутого `GitLab`\n",
    "<br>(это было задание модуля 4 по проектированию и развёртке).\n",
    "- Добавьте в ваш локальный репозиторий специальную ветку, в которой хранились бы только файлы с данными,\n",
    "<br>чтобы при обновлении этой ветки инициировалось бы повторное обучение модели на новых файлах данных."
   ]
  },
  {
   "cell_type": "markdown",
   "metadata": {},
   "source": [
    "**Особенности:**\n",
    "<br>Вам придётся разобраться со структурой этого дата-сета, который хранит изображения не в файлах \n",
    "<br>(см. https://www.tensorflow.org/datasets/catalog/cifar100\n",
    "<br> и код https://github.com/tensorflow/datasets/blob/master/tensorflow_datasets/image_classification/cifar.py).\n",
    "\n",
    "Изображения в этом дата-сете уже цветные (`3` канала на `1` пиксел, вместо `одного` — важно для размера свёртки),\n",
    "<br> и есть `2` набора обучающих меток (`1` делит изображения на `20` классов, `другой` - на `100` — важно для понимания структуры данных)."
   ]
  },
  {
   "cell_type": "code",
   "execution_count": 1,
   "metadata": {},
   "outputs": [],
   "source": [
    "import tensorflow as tf\n",
    "from tensorflow import keras\n",
    "from tensorflow.keras import layers, models\n",
    "\n",
    "import matplotlib.pyplot as plt\n",
    "from matplotlib import pyplot\n",
    "%matplotlib inline\n",
    "\n",
    "import numpy as np\n",
    "from numpy import loadtxt\n",
    "\n",
    "import pickle #\n",
    "\n",
    "from sklearn.metrics import classification_report, accuracy_score\n",
    "\n",
    "import pandas as pd"
   ]
  },
  {
   "cell_type": "markdown",
   "metadata": {},
   "source": [
    "# 0. Данные и Функции"
   ]
  },
  {
   "cell_type": "code",
   "execution_count": 2,
   "metadata": {},
   "outputs": [],
   "source": [
    "# Классы (Labels): C_Y = Coarse (широкие), F_Y = Fine (узкие)\n",
    "C = \"coarse\"\n",
    "F = \"fine\""
   ]
  },
  {
   "cell_type": "code",
   "execution_count": 3,
   "metadata": {},
   "outputs": [],
   "source": [
    "# C_X_Train, C_X_Test\n",
    "# F_X_Train, F_X_Test"
   ]
  },
  {
   "cell_type": "code",
   "execution_count": 4,
   "metadata": {},
   "outputs": [
    {
     "name": "stdout",
     "output_type": "stream",
     "text": [
      "Length of [C_Y_L] = 20 coarse\n",
      "\n",
      "[C_Y_L] =\n"
     ]
    },
    {
     "data": {
      "text/plain": [
       "['aquatic_mammals',\n",
       " 'fish',\n",
       " 'flowers',\n",
       " 'food_containers',\n",
       " 'fruit_and_vegetables',\n",
       " 'household_electrical_devices',\n",
       " 'household_furniture',\n",
       " 'insects',\n",
       " 'large_carnivores',\n",
       " 'large_man-made_outdoor_things',\n",
       " 'large_natural_outdoor_scenes',\n",
       " 'large_omnivores_and_herbivores',\n",
       " 'medium_mammals',\n",
       " 'non-insect_invertebrates',\n",
       " 'people',\n",
       " 'reptiles',\n",
       " 'small_mammals',\n",
       " 'trees',\n",
       " 'vehicles_1',\n",
       " 'vehicles_2']"
      ]
     },
     "execution_count": 4,
     "metadata": {},
     "output_type": "execute_result"
    }
   ],
   "source": [
    "#\n",
    "C_Y_L = ['aquatic_mammals', 'fish', 'flowers', 'food_containers', \n",
    "         'fruit_and_vegetables', 'household_electrical_devices', 'household_furniture', 'insects', \n",
    "         'large_carnivores', 'large_man-made_outdoor_things', 'large_natural_outdoor_scenes', 'large_omnivores_and_herbivores', \n",
    "         'medium_mammals', 'non-insect_invertebrates', 'people', 'reptiles',\n",
    "         'small_mammals', 'trees', 'vehicles_1', 'vehicles_2']\n",
    "n_C_Y = len(C_Y_L)\n",
    "print(\"Length of [C_Y_L] =\", n_C_Y, C)\n",
    "print(\"\\n[C_Y_L] =\")\n",
    "C_Y_L"
   ]
  },
  {
   "cell_type": "code",
   "execution_count": 5,
   "metadata": {
    "scrolled": true
   },
   "outputs": [
    {
     "name": "stdout",
     "output_type": "stream",
     "text": [
      "Length of [F_Y_L] = 100 fine\n",
      "\n",
      "[F_Y_L] =\n"
     ]
    },
    {
     "data": {
      "text/plain": [
       "['apple',\n",
       " 'aquarium_fish',\n",
       " 'baby',\n",
       " 'bear',\n",
       " 'beaver',\n",
       " 'bed',\n",
       " 'bee',\n",
       " 'beetle',\n",
       " 'bicycle',\n",
       " 'bottle',\n",
       " 'bowl',\n",
       " 'boy',\n",
       " 'bridge',\n",
       " 'bus',\n",
       " 'butterfly',\n",
       " 'camel',\n",
       " 'can',\n",
       " 'castle',\n",
       " 'caterpillar',\n",
       " 'cattle',\n",
       " 'chair',\n",
       " 'chimpanzee',\n",
       " 'clock',\n",
       " 'cloud',\n",
       " 'cockroach',\n",
       " 'couch',\n",
       " 'crab',\n",
       " 'crocodile',\n",
       " 'cup',\n",
       " 'dinosaur',\n",
       " 'dolphin',\n",
       " 'elephant',\n",
       " 'flatfish',\n",
       " 'forest',\n",
       " 'fox',\n",
       " 'girl',\n",
       " 'hamster',\n",
       " 'house',\n",
       " 'kangaroo',\n",
       " 'keyboard',\n",
       " 'lamp',\n",
       " 'lawn_mower',\n",
       " 'leopard',\n",
       " 'lion',\n",
       " 'lizard',\n",
       " 'lobster',\n",
       " 'man',\n",
       " 'maple_tree',\n",
       " 'motorcycle',\n",
       " 'mountain',\n",
       " 'mouse',\n",
       " 'mushroom',\n",
       " 'oak_tree',\n",
       " 'orange',\n",
       " 'orchid',\n",
       " 'otter',\n",
       " 'palm_tree',\n",
       " 'pear',\n",
       " 'pickup_truck',\n",
       " 'pine_tree',\n",
       " 'plain',\n",
       " 'plate',\n",
       " 'poppy',\n",
       " 'porcupine',\n",
       " 'possum',\n",
       " 'rabbit',\n",
       " 'raccoon',\n",
       " 'ray',\n",
       " 'road',\n",
       " 'rocket',\n",
       " 'rose',\n",
       " 'sea',\n",
       " 'seal',\n",
       " 'shark',\n",
       " 'shrew',\n",
       " 'skunk',\n",
       " 'skyscraper',\n",
       " 'snail',\n",
       " 'snake',\n",
       " 'spider',\n",
       " 'squirrel',\n",
       " 'streetcar',\n",
       " 'sunflower',\n",
       " 'sweet_pepper',\n",
       " 'table',\n",
       " 'tank',\n",
       " 'telephone',\n",
       " 'television',\n",
       " 'tiger',\n",
       " 'tractor',\n",
       " 'train',\n",
       " 'trout',\n",
       " 'tulip',\n",
       " 'turtle',\n",
       " 'wardrobe',\n",
       " 'whale',\n",
       " 'willow_tree',\n",
       " 'wolf',\n",
       " 'woman',\n",
       " 'worm']"
      ]
     },
     "execution_count": 5,
     "metadata": {},
     "output_type": "execute_result"
    }
   ],
   "source": [
    "#\n",
    "F_Y_L = ['apple', 'aquarium_fish', 'baby', 'bear', 'beaver', 'bed', 'bee', 'beetle', 'bicycle', 'bottle',\n",
    "         'bowl', 'boy', 'bridge', 'bus', 'butterfly', 'camel', 'can', 'castle', 'caterpillar', 'cattle',\n",
    "         'chair', 'chimpanzee', 'clock', 'cloud', 'cockroach', 'couch', 'crab', 'crocodile', 'cup', 'dinosaur',\n",
    "         'dolphin', 'elephant', 'flatfish', 'forest', 'fox', 'girl', 'hamster', 'house', 'kangaroo', 'keyboard',\n",
    "         'lamp', 'lawn_mower', 'leopard', 'lion', 'lizard', 'lobster', 'man', 'maple_tree', 'motorcycle', 'mountain',\n",
    "         'mouse', 'mushroom', 'oak_tree', 'orange', 'orchid', 'otter', 'palm_tree', 'pear', 'pickup_truck', 'pine_tree',\n",
    "         'plain', 'plate', 'poppy', 'porcupine', 'possum', 'rabbit', 'raccoon', 'ray', 'road', 'rocket',\n",
    "         'rose', 'sea', 'seal', 'shark', 'shrew', 'skunk', 'skyscraper', 'snail', 'snake', 'spider',\n",
    "         'squirrel', 'streetcar', 'sunflower', 'sweet_pepper', 'table', 'tank', 'telephone', 'television', 'tiger', 'tractor',\n",
    "         'train', 'trout', 'tulip', 'turtle', 'wardrobe', 'whale', 'willow_tree', 'wolf', 'woman', 'worm']\n",
    "n_F_Y = len(F_Y_L)\n",
    "print(\"Length of [F_Y_L] =\", n_F_Y, F)\n",
    "print(\"\\n[F_Y_L] =\")\n",
    "F_Y_L"
   ]
  },
  {
   "cell_type": "code",
   "execution_count": 6,
   "metadata": {},
   "outputs": [],
   "source": [
    "# CIFAR 100\n",
    "\n",
    "# Downloading data from https://www.cs.toronto.edu/~kriz/cifar-100-python.tar.gz\n",
    "from tensorflow.keras.datasets import cifar100\n",
    "\n",
    "# X = images, Y = labels\n",
    "# 0 = Train,  1 = Test\n",
    "# LM = Label Mode\n",
    "\n",
    "def make_Data(LM): #\n",
    "    (X_0, LM_Y_0), (X_1, LM_Y_1) = cifar100.load_data(label_mode = LM)\n",
    "    return (X_0, LM_Y_0), (X_1, LM_Y_1)"
   ]
  },
  {
   "cell_type": "code",
   "execution_count": 7,
   "metadata": {},
   "outputs": [],
   "source": [
    "def normalize_X(X_0, X_1):\n",
    "    max_px = 255.0\n",
    "    print(\"max_px =\", int(max_px))\n",
    "\n",
    "    X_0 = X_0 / max_px # /=\n",
    "    X_1 = X_1 / max_px # /=\n",
    "    return X_0, X_1"
   ]
  },
  {
   "cell_type": "code",
   "execution_count": 8,
   "metadata": {},
   "outputs": [],
   "source": [
    "# X = images, Y = labels\n",
    "# 0 = Train,  1 = Test\n",
    "\n",
    "def plot_XY_0(TT, X, LM_Y, LM_Y_L): # [0]\n",
    "    # TT = 0 - Train, = 1 - Test\n",
    "    \n",
    "    plt.figure()\n",
    "\n",
    "    label_L = list(LM_Y)\n",
    "    label_nmb = LM_Y[0] # [0]\n",
    "    print(label_nmb)\n",
    "    label_txt = LM_Y_L[label_nmb]\n",
    "    print(label_txt)    \n",
    "    \n",
    "    if (TT == 0):\n",
    "        plt.title(\"Train _ Image № 0\") # [0]\n",
    "    elif (TT == 1):\n",
    "        plt.title(\"Test  _ Image № 0\") # [0]\n",
    "    else:\n",
    "        print(\"Error: TT\")\n",
    "\n",
    "    image_label = str(label_nmb) + \" = \" + str(label_txt)\n",
    "    plt.xlabel(image_label)\n",
    "    plt.imshow(X[0]) # [0]\n",
    "    plt.grid(False)\n",
    "    plt.show()"
   ]
  },
  {
   "cell_type": "code",
   "execution_count": 9,
   "metadata": {},
   "outputs": [],
   "source": [
    "def print_L_Shapes(LM, X_0, LM_Y_0, X_1, LM_Y_1):\n",
    "    print(\"Label Mode:\", LM)\n",
    "    \n",
    "    print(\"\\nType of [L]:\", type(X_0)) # <class 'numpy.ndarray'>\n",
    "    \n",
    "    # X = images, Y = labels\n",
    "    print(\"\\nShapes of:\")\n",
    "    print(\"- [  X_Train]:\", X_0.shape)   \n",
    "    print(\"- [  X_Test ]:\", X_1.shape)\n",
    "    \n",
    "    # LM = Label Mode\n",
    "    LM_Y_0_Shape = LM_Y_0.shape\n",
    "    LM_Y_1_Shape = LM_Y_1.shape\n",
    "    if (LM == C):\n",
    "        print(\"- [C_Y_Train]:\", LM_Y_0_Shape)\n",
    "        print(\"- [C_Y_Test ]:\", LM_Y_1_Shape)\n",
    "    elif (LM == F):\n",
    "        print(\"- [F_Y_Train]:\", LM_Y_0_Shape)\n",
    "        print(\"- [F_Y_Test ]:\", LM_Y_1_Shape)\n",
    "    else:\n",
    "        print(\"Error: LM\")"
   ]
  },
  {
   "cell_type": "code",
   "execution_count": 10,
   "metadata": {},
   "outputs": [],
   "source": [
    "def reshape_L(Y): \n",
    "    n_Y = len(Y)\n",
    "    print(\"\\nLength of [L] =\", n_Y)\n",
    "    #Y = np.reshape(Y, (1, n_Y)) # = [[,]]\n",
    "    Y = Y.reshape((n_Y))         # =  [,]\n",
    "    return Y"
   ]
  },
  {
   "cell_type": "code",
   "execution_count": 11,
   "metadata": {},
   "outputs": [],
   "source": [
    "def build_Model(LM):\n",
    "    image_H = 32\n",
    "    image_W = image_H\n",
    "    n_channels = 3\n",
    "    n_units = 0\n",
    "    \n",
    "    if (LM == C):\n",
    "        n_units = n_C_Y\n",
    "    elif (LM == F):\n",
    "        n_units = n_F_Y\n",
    "    else:\n",
    "        print(\"Error: LM\")\n",
    "    \n",
    "    # 2D = (N, (H, W), C)\n",
    "    #\n",
    "    Layer_01_Conv2D = tf.keras.layers.Conv2D(filters = 32, kernel_size = (3, 3), activation = 'relu', input_shape = (image_H, image_W, n_channels))\n",
    "    Layer_02_Pool   = tf.keras.layers.MaxPooling2D(pool_size = (2, 2))\n",
    "    Layer_03_Conv2D = tf.keras.layers.Conv2D(filters = 64, kernel_size = (3, 3), activation = 'relu')\n",
    "    Layer_04_Pool   = tf.keras.layers.MaxPooling2D(pool_size = (2, 2))\n",
    "    Layer_05_Conv2D = tf.keras.layers.Conv2D(filters = 128, kernel_size = (3, 3), activation = 'relu')\n",
    "    Layer_06_Pool   = tf.keras.layers.MaxPooling2D(pool_size = (2, 2))\n",
    "    Layer_07_Flat   = tf.keras.layers.Flatten()\n",
    "    Layer_08_Dense  = tf.keras.layers.Dense(units = 256, activation = 'relu')\n",
    "    Layer_09_Dense  = tf.keras.layers.Dense(units = 128, activation = 'relu')\n",
    "    Layer_10_Dense  = tf.keras.layers.Dense(units = n_units, activation = 'softmax')\n",
    "    #\n",
    "    model = models.Sequential()\n",
    "    model.add(Layer_01_Conv2D)\n",
    "    model.add(Layer_02_Pool)\n",
    "    model.add(Layer_03_Conv2D)\n",
    "    model.add(Layer_04_Pool)\n",
    "    model.add(Layer_05_Conv2D)\n",
    "    model.add(Layer_06_Pool)\n",
    "    model.add(Layer_07_Flat)\n",
    "    model.add(Layer_08_Dense)\n",
    "    model.add(Layer_09_Dense)\n",
    "    model.add(Layer_10_Dense)\n",
    "    \n",
    "    ML = model.layers\n",
    "    print(\"Model Layers:\", len(ML))\n",
    "    print(\":\", ML)   \n",
    "        \n",
    "    model.compile(optimizer = 'adam', loss = 'sparse_categorical_crossentropy', metrics = ['accuracy']) # optimizer = 'rmsprop'\n",
    "    return model"
   ]
  },
  {
   "cell_type": "code",
   "execution_count": 12,
   "metadata": {},
   "outputs": [],
   "source": [
    "def check_Prediction_0(LM_Y_Test, LM_Y_Predictions): # [0]\n",
    "    print(\"=> Предсказание ИНС для 0-го Тестового Изображения -\", end = '') # [0]\n",
    "    if (LM_Y_Test[0] != LM_Y_Predictions[0]): # [0]\n",
    "        print(\" не\", end = '')\n",
    "    print(\" Верное.\")"
   ]
  },
  {
   "cell_type": "markdown",
   "metadata": {},
   "source": [
    "# C.0. Данные"
   ]
  },
  {
   "cell_type": "code",
   "execution_count": 13,
   "metadata": {},
   "outputs": [],
   "source": [
    "(X_Train, C_Y_Train), (X_Test, C_Y_Test) = make_Data(C)"
   ]
  },
  {
   "cell_type": "code",
   "execution_count": 14,
   "metadata": {},
   "outputs": [],
   "source": [
    "#C_Y_Train\n",
    "\n",
    "# array([[11],\n",
    "#       [15],\n",
    "#       [ 4],\n",
    "#       ...,\n",
    "#       [ 8],\n",
    "#       [ 7],\n",
    "#       [ 1]])"
   ]
  },
  {
   "cell_type": "code",
   "execution_count": 15,
   "metadata": {},
   "outputs": [],
   "source": [
    "#C_Y_Test\n",
    "\n",
    "# array([[10],\n",
    "#       [10],\n",
    "#       [ 0],\n",
    "#       ...,\n",
    "#       [ 4],\n",
    "#       [ 8],\n",
    "#       [ 2]])"
   ]
  },
  {
   "cell_type": "code",
   "execution_count": 16,
   "metadata": {},
   "outputs": [
    {
     "name": "stdout",
     "output_type": "stream",
     "text": [
      "max_px = 255\n"
     ]
    }
   ],
   "source": [
    "X_Train, X_Test = normalize_X(X_Train, X_Test)"
   ]
  },
  {
   "cell_type": "code",
   "execution_count": 17,
   "metadata": {},
   "outputs": [
    {
     "name": "stdout",
     "output_type": "stream",
     "text": [
      "Label Mode: coarse\n",
      "\n",
      "Type of [L]: <class 'numpy.ndarray'>\n",
      "\n",
      "Shapes of:\n",
      "- [  X_Train]: (50000, 32, 32, 3)\n",
      "- [  X_Test ]: (10000, 32, 32, 3)\n",
      "- [C_Y_Train]: (50000, 1)\n",
      "- [C_Y_Test ]: (10000, 1)\n"
     ]
    }
   ],
   "source": [
    "print_L_Shapes(C, X_Train, C_Y_Train, X_Test, C_Y_Test)"
   ]
  },
  {
   "cell_type": "code",
   "execution_count": 18,
   "metadata": {},
   "outputs": [
    {
     "name": "stdout",
     "output_type": "stream",
     "text": [
      "\n",
      "Length of [L] = 50000\n",
      "\n",
      "Length of [L] = 10000\n"
     ]
    }
   ],
   "source": [
    "C_Y_Train = reshape_L(C_Y_Train)\n",
    "C_Y_Test  = reshape_L(C_Y_Test)"
   ]
  },
  {
   "cell_type": "code",
   "execution_count": 19,
   "metadata": {},
   "outputs": [
    {
     "name": "stdout",
     "output_type": "stream",
     "text": [
      "Label Mode: coarse\n",
      "\n",
      "Type of [L]: <class 'numpy.ndarray'>\n",
      "\n",
      "Shapes of:\n",
      "- [  X_Train]: (50000, 32, 32, 3)\n",
      "- [  X_Test ]: (10000, 32, 32, 3)\n",
      "- [C_Y_Train]: (50000,)\n",
      "- [C_Y_Test ]: (10000,)\n"
     ]
    }
   ],
   "source": [
    "print_L_Shapes(C, X_Train, C_Y_Train, X_Test, C_Y_Test)"
   ]
  },
  {
   "cell_type": "code",
   "execution_count": 20,
   "metadata": {},
   "outputs": [],
   "source": [
    "#C_Y_Train # array([11, 15,  4, ...,  8,  7,  1])"
   ]
  },
  {
   "cell_type": "code",
   "execution_count": 21,
   "metadata": {},
   "outputs": [],
   "source": [
    "#C_Y_Test # array([10, 10,  0, ...,  4,  8,  2])"
   ]
  },
  {
   "cell_type": "code",
   "execution_count": 22,
   "metadata": {},
   "outputs": [],
   "source": [
    "#print(type(C_Y_Train)) # <class 'numpy.ndarray'>"
   ]
  },
  {
   "cell_type": "code",
   "execution_count": 23,
   "metadata": {},
   "outputs": [],
   "source": [
    "#print(type(C_Y_Test)) # <class 'numpy.ndarray'>"
   ]
  },
  {
   "cell_type": "code",
   "execution_count": 24,
   "metadata": {},
   "outputs": [],
   "source": [
    "#print(len(C_Y_Train)) # 50000"
   ]
  },
  {
   "cell_type": "code",
   "execution_count": 25,
   "metadata": {},
   "outputs": [],
   "source": [
    "#print(len(C_Y_Test)) # 10000"
   ]
  },
  {
   "cell_type": "raw",
   "metadata": {},
   "source": [
    "a = [[0], [1], [2]]\n",
    "print(a)\n",
    "len_a = len(a)\n",
    "print(len_a)\n",
    "a = np.array(a)\n",
    "print(a)\n",
    "print(a.shape)\n",
    "a = np.reshape(a, (1, len_a))\n",
    "print(a)\n",
    "print(a.shape)\n",
    "a # array([[0, 1, 2]])"
   ]
  },
  {
   "cell_type": "code",
   "execution_count": 26,
   "metadata": {},
   "outputs": [
    {
     "name": "stdout",
     "output_type": "stream",
     "text": [
      "11\n",
      "large_omnivores_and_herbivores\n"
     ]
    },
    {
     "data": {
      "image/png": "[encoded data removed]",
      "text/plain": [
       "<Figure size 432x288 with 1 Axes>"
      ]
     },
     "metadata": {
      "needs_background": "light"
     },
     "output_type": "display_data"
    }
   ],
   "source": [
    "plot_XY_0(0, X_Train, C_Y_Train, C_Y_L) # [0]"
   ]
  },
  {
   "cell_type": "markdown",
   "metadata": {},
   "source": [
    "# C.2. Модель"
   ]
  },
  {
   "cell_type": "code",
   "execution_count": 27,
   "metadata": {},
   "outputs": [
    {
     "name": "stdout",
     "output_type": "stream",
     "text": [
      "Model Layers: 10\n",
      ": [<keras.layers.convolutional.conv2d.Conv2D object at 0x0000000005001F40>, <keras.layers.pooling.max_pooling2d.MaxPooling2D object at 0x0000000005001A90>, <keras.layers.convolutional.conv2d.Conv2D object at 0x0000000005001D60>, <keras.layers.pooling.max_pooling2d.MaxPooling2D object at 0x0000000005001F70>, <keras.layers.convolutional.conv2d.Conv2D object at 0x0000000017634B20>, <keras.layers.pooling.max_pooling2d.MaxPooling2D object at 0x0000000017634850>, <keras.layers.reshaping.flatten.Flatten object at 0x00000000176345B0>, <keras.layers.core.dense.Dense object at 0x0000000018819970>, <keras.layers.core.dense.Dense object at 0x0000000018807130>, <keras.layers.core.dense.Dense object at 0x0000000018807B80>]\n"
     ]
    }
   ],
   "source": [
    "model_C = build_Model(C)"
   ]
  },
  {
   "cell_type": "raw",
   "metadata": {},
   "source": [
    "n_epochs = 10\n",
    "print(\"Number of Epochs =\", n_epochs)\n",
    "print()\n",
    "\n",
    "model_C.fit(x = X_Train, y = C_Y_Train, epochs = n_epochs) # batch_size = 32\n",
    "\n",
    "model_C.save('saved_model_C.keras')"
   ]
  },
  {
   "cell_type": "code",
   "execution_count": 28,
   "metadata": {},
   "outputs": [],
   "source": [
    "# ...\n",
    "# Epoch 10/10\n",
    "# 1563/1563 [==============================] - 184s 118ms/step - loss: 1.2765 - accuracy: 0.5951"
   ]
  },
  {
   "cell_type": "raw",
   "metadata": {},
   "source": [
    "#model_C.save('saved_model_C.keras') # 'path/to/location.keras'\n",
    "#model_C.save(\"saved_model_C.hdf5\")\n",
    "#model_C.save()"
   ]
  },
  {
   "cell_type": "code",
   "execution_count": 29,
   "metadata": {},
   "outputs": [],
   "source": [
    "saved_model_C = keras.models.load_model(\"saved_model_C.keras\") # ./"
   ]
  },
  {
   "cell_type": "code",
   "execution_count": 30,
   "metadata": {},
   "outputs": [
    {
     "name": "stdout",
     "output_type": "stream",
     "text": [
      "Saved_Model_C Summary:\n",
      "\n",
      "Model: \"sequential\"\n",
      "_________________________________________________________________\n",
      " Layer (type)                Output Shape              Param #   \n",
      "=================================================================\n",
      " conv2d (Conv2D)             (None, 30, 30, 32)        896       \n",
      "                                                                 \n",
      " max_pooling2d (MaxPooling2D  (None, 15, 15, 32)       0         \n",
      " )                                                               \n",
      "                                                                 \n",
      " conv2d_1 (Conv2D)           (None, 13, 13, 64)        18496     \n",
      "                                                                 \n",
      " max_pooling2d_1 (MaxPooling  (None, 6, 6, 64)         0         \n",
      " 2D)                                                             \n",
      "                                                                 \n",
      " conv2d_2 (Conv2D)           (None, 4, 4, 128)         73856     \n",
      "                                                                 \n",
      " max_pooling2d_2 (MaxPooling  (None, 2, 2, 128)        0         \n",
      " 2D)                                                             \n",
      "                                                                 \n",
      " flatten (Flatten)           (None, 512)               0         \n",
      "                                                                 \n",
      " dense (Dense)               (None, 256)               131328    \n",
      "                                                                 \n",
      " dense_1 (Dense)             (None, 128)               32896     \n",
      "                                                                 \n",
      " dense_2 (Dense)             (None, 20)                2580      \n",
      "                                                                 \n",
      "=================================================================\n",
      "Total params: 260,052\n",
      "Trainable params: 260,052\n",
      "Non-trainable params: 0\n",
      "_________________________________________________________________\n"
     ]
    }
   ],
   "source": [
    "print(\"Saved_Model_C Summary:\\n\")\n",
    "saved_model_C.summary()"
   ]
  },
  {
   "cell_type": "code",
   "execution_count": 31,
   "metadata": {},
   "outputs": [
    {
     "name": "stdout",
     "output_type": "stream",
     "text": [
      "32 * 1563 = 50016 == 50000\n"
     ]
    }
   ],
   "source": [
    "#\n",
    "BS = 32 # batch_size\n",
    "img_n = 1563\n",
    "len_X_train = len(X_Train)\n",
    "print(BS, \"*\", img_n, \"=\", BS * img_n, \"==\", len_X_train) # = 50016"
   ]
  },
  {
   "cell_type": "code",
   "execution_count": 32,
   "metadata": {},
   "outputs": [
    {
     "name": "stdout",
     "output_type": "stream",
     "text": [
      "Saved_Model_C Metrics Names:\n",
      "['loss', 'accuracy']\n"
     ]
    }
   ],
   "source": [
    "print(\"Saved_Model_C Metrics Names:\")\n",
    "print(saved_model_C.metrics_names) # = ['loss', 'acc']"
   ]
  },
  {
   "cell_type": "code",
   "execution_count": 33,
   "metadata": {},
   "outputs": [
    {
     "name": "stdout",
     "output_type": "stream",
     "text": [
      "313/313 [==============================] - 23s 71ms/step - loss: 1.7357 - accuracy: 0.4852\n",
      "С_Test_Loss     = 1.7356911897659302\n",
      "С_Test_Accuracy = 0.4851999878883362\n"
     ]
    }
   ],
   "source": [
    "С_Test_Loss, С_Test_Accuracy = saved_model_C.evaluate(x = X_Test, y = C_Y_Test, return_dict = False)\n",
    "\n",
    "print(\"С_Test_Loss     =\", С_Test_Loss)     # = 1.7356911897659302\n",
    "print(\"С_Test_Accuracy =\", С_Test_Accuracy) # = 0.4851999878883362"
   ]
  },
  {
   "cell_type": "code",
   "execution_count": 34,
   "metadata": {},
   "outputs": [
    {
     "name": "stdout",
     "output_type": "stream",
     "text": [
      "313/313 [==============================] - 16s 50ms/step\n"
     ]
    }
   ],
   "source": [
    "C_Y_Predictions = saved_model_C.predict(X_Test)"
   ]
  },
  {
   "cell_type": "code",
   "execution_count": 35,
   "metadata": {},
   "outputs": [
    {
     "name": "stdout",
     "output_type": "stream",
     "text": [
      "[C_Y_Predictions] =\n"
     ]
    },
    {
     "data": {
      "text/plain": [
       "array([[2.8746849e-01, 3.5849765e-03, 7.7646546e-05, ..., 8.1281669e-02,\n",
       "        5.4943528e-02, 1.4625652e-01],\n",
       "       [3.9915051e-02, 3.5883769e-02, 5.1049632e-04, ..., 3.7172731e-02,\n",
       "        1.8348468e-02, 3.4113627e-02],\n",
       "       [2.3974471e-01, 7.4127190e-02, 4.3140465e-04, ..., 1.0547121e-03,\n",
       "        1.6307700e-01, 6.2273212e-02],\n",
       "       ...,\n",
       "       [1.6656662e-04, 4.5636515e-03, 3.2086447e-02, ..., 1.4591146e-01,\n",
       "        1.6213354e-02, 1.0936924e-02],\n",
       "       [2.5681993e-03, 1.1458161e-03, 4.2730459e-05, ..., 5.0004513e-04,\n",
       "        1.6709018e-03, 2.2264437e-03],\n",
       "       [1.0736110e-03, 2.8466541e-01, 3.4113011e-01, ..., 3.2087948e-04,\n",
       "        1.5451892e-04, 1.3759222e-03]], dtype=float32)"
      ]
     },
     "execution_count": 35,
     "metadata": {},
     "output_type": "execute_result"
    }
   ],
   "source": [
    "print(\"[C_Y_Predictions] =\")\n",
    "C_Y_Predictions"
   ]
  },
  {
   "cell_type": "code",
   "execution_count": 36,
   "metadata": {},
   "outputs": [
    {
     "name": "stdout",
     "output_type": "stream",
     "text": [
      "[C_Y_Predictions] =\n"
     ]
    },
    {
     "data": {
      "text/plain": [
       "array([ 9, 15,  0, ...,  4,  8,  2], dtype=int64)"
      ]
     },
     "execution_count": 36,
     "metadata": {},
     "output_type": "execute_result"
    }
   ],
   "source": [
    "C_Y_Predictions = np.argmax(C_Y_Predictions, axis = -1)\n",
    "print(\"[C_Y_Predictions] =\")\n",
    "C_Y_Predictions\n",
    "# = array([ 9, 15,  0, ...,  4,  8,  2], dtype=int64)"
   ]
  },
  {
   "cell_type": "code",
   "execution_count": 37,
   "metadata": {},
   "outputs": [
    {
     "name": "stdout",
     "output_type": "stream",
     "text": [
      "Metric: accuracy\n"
     ]
    }
   ],
   "source": [
    "A = 'accuracy'\n",
    "print(\"Metric:\", A)"
   ]
  },
  {
   "cell_type": "code",
   "execution_count": 38,
   "metadata": {},
   "outputs": [
    {
     "name": "stdout",
     "output_type": "stream",
     "text": [
      "Classification Report:\n",
      "- coarse :\n",
      "\n",
      "                                precision    recall  f1-score   support\n",
      "\n",
      "               aquatic_mammals       0.37      0.50      0.43       500\n",
      "                          fish       0.43      0.50      0.46       500\n",
      "                       flowers       0.73      0.68      0.70       500\n",
      "               food_containers       0.41      0.52      0.46       500\n",
      "          fruit_and_vegetables       0.59      0.47      0.53       500\n",
      "  household_electrical_devices       0.39      0.39      0.39       500\n",
      "           household_furniture       0.36      0.67      0.47       500\n",
      "                       insects       0.55      0.48      0.51       500\n",
      "              large_carnivores       0.48      0.33      0.39       500\n",
      " large_man-made_outdoor_things       0.50      0.64      0.56       500\n",
      "  large_natural_outdoor_scenes       0.65      0.67      0.66       500\n",
      "large_omnivores_and_herbivores       0.40      0.40      0.40       500\n",
      "                medium_mammals       0.47      0.35      0.40       500\n",
      "      non-insect_invertebrates       0.39      0.20      0.27       500\n",
      "                        people       0.50      0.61      0.55       500\n",
      "                      reptiles       0.38      0.24      0.29       500\n",
      "                 small_mammals       0.36      0.25      0.30       500\n",
      "                         trees       0.78      0.79      0.78       500\n",
      "                    vehicles_1       0.52      0.52      0.52       500\n",
      "                    vehicles_2       0.50      0.49      0.50       500\n",
      "\n",
      "                      accuracy                           0.49     10000\n",
      "                     macro avg       0.49      0.49      0.48     10000\n",
      "                  weighted avg       0.49      0.49      0.48     10000\n",
      "\n",
      "\n",
      "{CR_C_D} =\n",
      "{'aquatic_mammals': {'precision': 0.37168141592920356, 'recall': 0.504, 'f1-score': 0.4278438030560272, 'support': 500}, 'fish': {'precision': 0.43455497382198954, 'recall': 0.498, 'f1-score': 0.4641192917054986, 'support': 500}, 'flowers': {'precision': 0.7316017316017316, 'recall': 0.676, 'f1-score': 0.7027027027027026, 'support': 500}, 'food_containers': {'precision': 0.4098101265822785, 'recall': 0.518, 'f1-score': 0.45759717314487636, 'support': 500}, 'fruit_and_vegetables': {'precision': 0.5925, 'recall': 0.474, 'f1-score': 0.5266666666666667, 'support': 500}, 'household_electrical_devices': {'precision': 0.39227642276422764, 'recall': 0.386, 'f1-score': 0.3891129032258065, 'support': 500}, 'household_furniture': {'precision': 0.36373507057546145, 'recall': 0.67, 'f1-score': 0.4714989444053483, 'support': 500}, 'insects': {'precision': 0.5519630484988453, 'recall': 0.478, 'f1-score': 0.5123258306538049, 'support': 500}, 'large_carnivores': {'precision': 0.4782608695652174, 'recall': 0.33, 'f1-score': 0.3905325443786983, 'support': 500}, 'large_man-made_outdoor_things': {'precision': 0.5023400936037441, 'recall': 0.644, 'f1-score': 0.5644171779141103, 'support': 500}, 'large_natural_outdoor_scenes': {'precision': 0.65234375, 'recall': 0.668, 'f1-score': 0.6600790513833992, 'support': 500}, 'large_omnivores_and_herbivores': {'precision': 0.39959839357429716, 'recall': 0.398, 'f1-score': 0.39879759519038077, 'support': 500}, 'medium_mammals': {'precision': 0.46524064171123, 'recall': 0.348, 'f1-score': 0.3981693363844394, 'support': 500}, 'non-insect_invertebrates': {'precision': 0.3938223938223938, 'recall': 0.204, 'f1-score': 0.26877470355731226, 'support': 500}, 'people': {'precision': 0.5032786885245901, 'recall': 0.614, 'f1-score': 0.5531531531531532, 'support': 500}, 'reptiles': {'precision': 0.3753943217665615, 'recall': 0.238, 'f1-score': 0.2913096695226438, 'support': 500}, 'small_mammals': {'precision': 0.36127167630057805, 'recall': 0.25, 'f1-score': 0.29550827423167847, 'support': 500}, 'trees': {'precision': 0.775390625, 'recall': 0.794, 'f1-score': 0.7845849802371542, 'support': 500}, 'vehicles_1': {'precision': 0.5190380761523046, 'recall': 0.518, 'f1-score': 0.5185185185185186, 'support': 500}, 'vehicles_2': {'precision': 0.49798387096774194, 'recall': 0.494, 'f1-score': 0.4959839357429719, 'support': 500}, 'accuracy': 0.4852, 'macro avg': {'precision': 0.4886043095381198, 'recall': 0.4852, 'f1-score': 0.47858481278875953, 'support': 10000}, 'weighted avg': {'precision': 0.48860430953811984, 'recall': 0.4852, 'f1-score': 0.47858481278875953, 'support': 10000}}\n",
      "\n",
      "CR_ coarse : accuracy = 0.4852\n"
     ]
    }
   ],
   "source": [
    "print(\"Classification Report:\")\n",
    "print(\"-\", C, ':\\n')\n",
    "CR_C = classification_report(y_true = C_Y_Test, y_pred = C_Y_Predictions, target_names = C_Y_L, zero_division = 'warn') # labels = C_Y_Train,\n",
    "print(CR_C)\n",
    "CR_C_D = classification_report(y_true = C_Y_Test, y_pred = C_Y_Predictions, target_names = C_Y_L, zero_division = 'warn', output_dict = True)\n",
    "print(\"\\n{CR_C_D} =\")\n",
    "print(CR_C_D)\n",
    "print(\"\\nCR_\", C, ':', A, '=', CR_C_D[A])"
   ]
  },
  {
   "cell_type": "code",
   "execution_count": 39,
   "metadata": {},
   "outputs": [
    {
     "name": "stdout",
     "output_type": "stream",
     "text": [
      "10\n",
      "large_natural_outdoor_scenes\n"
     ]
    },
    {
     "data": {
      "image/png": "[encoded data removed]",
      "text/plain": [
       "<Figure size 432x288 with 1 Axes>"
      ]
     },
     "metadata": {
      "needs_background": "light"
     },
     "output_type": "display_data"
    }
   ],
   "source": [
    "plot_XY_0(1, X_Test, C_Y_Test, C_Y_L) # [0]"
   ]
  },
  {
   "cell_type": "code",
   "execution_count": 40,
   "metadata": {},
   "outputs": [
    {
     "name": "stdout",
     "output_type": "stream",
     "text": [
      "9\n",
      "large_man-made_outdoor_things\n"
     ]
    }
   ],
   "source": [
    "C_Y_P_label_nmb_0 = C_Y_Predictions[0] # 0\n",
    "print(C_Y_P_label_nmb_0)\n",
    "C_Y_P_label_txt_0 = C_Y_L[C_Y_P_label_nmb_0]\n",
    "print(C_Y_P_label_txt_0)"
   ]
  },
  {
   "cell_type": "code",
   "execution_count": 41,
   "metadata": {},
   "outputs": [
    {
     "name": "stdout",
     "output_type": "stream",
     "text": [
      "9\n",
      "large_man-made_outdoor_things\n"
     ]
    },
    {
     "data": {
      "image/png": "[encoded data removed]",
      "text/plain": [
       "<Figure size 432x288 with 1 Axes>"
      ]
     },
     "metadata": {
      "needs_background": "light"
     },
     "output_type": "display_data"
    }
   ],
   "source": [
    "plot_XY_0(1, X_Test, C_Y_Predictions, C_Y_L) # [0]"
   ]
  },
  {
   "cell_type": "code",
   "execution_count": 42,
   "metadata": {},
   "outputs": [
    {
     "name": "stdout",
     "output_type": "stream",
     "text": [
      "coarse\n",
      "=> Предсказание ИНС для 0-го Тестового Изображения - не Верное.\n"
     ]
    }
   ],
   "source": [
    "print(C)\n",
    "check_Prediction_0(C_Y_Test, C_Y_Predictions) # [0]"
   ]
  },
  {
   "cell_type": "markdown",
   "metadata": {},
   "source": [
    "# F.0. Данные"
   ]
  },
  {
   "cell_type": "code",
   "execution_count": 43,
   "metadata": {},
   "outputs": [],
   "source": [
    "(X_Train, F_Y_Train), (X_Test, F_Y_Test) = make_Data(F)"
   ]
  },
  {
   "cell_type": "code",
   "execution_count": 44,
   "metadata": {},
   "outputs": [
    {
     "name": "stdout",
     "output_type": "stream",
     "text": [
      "max_px = 255\n"
     ]
    }
   ],
   "source": [
    "X_Train, X_Test = normalize_X(X_Train, X_Test)"
   ]
  },
  {
   "cell_type": "code",
   "execution_count": 45,
   "metadata": {},
   "outputs": [
    {
     "name": "stdout",
     "output_type": "stream",
     "text": [
      "Label Mode: coarse\n",
      "\n",
      "Type of [L]: <class 'numpy.ndarray'>\n",
      "\n",
      "Shapes of:\n",
      "- [  X_Train]: (50000, 32, 32, 3)\n",
      "- [  X_Test ]: (10000, 32, 32, 3)\n",
      "- [C_Y_Train]: (50000, 1)\n",
      "- [C_Y_Test ]: (10000, 1)\n"
     ]
    }
   ],
   "source": [
    "print_L_Shapes(C, X_Train, F_Y_Train, X_Test, F_Y_Test)"
   ]
  },
  {
   "cell_type": "code",
   "execution_count": 46,
   "metadata": {},
   "outputs": [
    {
     "name": "stdout",
     "output_type": "stream",
     "text": [
      "\n",
      "Length of [L] = 50000\n",
      "\n",
      "Length of [L] = 10000\n"
     ]
    }
   ],
   "source": [
    "F_Y_Train = reshape_L(F_Y_Train)\n",
    "F_Y_Test  = reshape_L(F_Y_Test)"
   ]
  },
  {
   "cell_type": "code",
   "execution_count": 47,
   "metadata": {},
   "outputs": [
    {
     "name": "stdout",
     "output_type": "stream",
     "text": [
      "Label Mode: coarse\n",
      "\n",
      "Type of [L]: <class 'numpy.ndarray'>\n",
      "\n",
      "Shapes of:\n",
      "- [  X_Train]: (50000, 32, 32, 3)\n",
      "- [  X_Test ]: (10000, 32, 32, 3)\n",
      "- [C_Y_Train]: (50000,)\n",
      "- [C_Y_Test ]: (10000,)\n"
     ]
    }
   ],
   "source": [
    "print_L_Shapes(C, X_Train, F_Y_Train, X_Test, F_Y_Test)"
   ]
  },
  {
   "cell_type": "code",
   "execution_count": 48,
   "metadata": {},
   "outputs": [
    {
     "name": "stdout",
     "output_type": "stream",
     "text": [
      "19\n",
      "cattle\n"
     ]
    },
    {
     "data": {
      "image/png": "[encoded data removed]",
      "text/plain": [
       "<Figure size 432x288 with 1 Axes>"
      ]
     },
     "metadata": {
      "needs_background": "light"
     },
     "output_type": "display_data"
    }
   ],
   "source": [
    "plot_XY_0(0, X_Train, F_Y_Train, F_Y_L) # [0]"
   ]
  },
  {
   "cell_type": "markdown",
   "metadata": {},
   "source": [
    "# F.2. Модель"
   ]
  },
  {
   "cell_type": "code",
   "execution_count": 49,
   "metadata": {},
   "outputs": [
    {
     "name": "stdout",
     "output_type": "stream",
     "text": [
      "Model Layers: 10\n",
      ": [<keras.layers.convolutional.conv2d.Conv2D object at 0x000000001B2FA760>, <keras.layers.pooling.max_pooling2d.MaxPooling2D object at 0x000000001B2FA730>, <keras.layers.convolutional.conv2d.Conv2D object at 0x000000001B2FA6D0>, <keras.layers.pooling.max_pooling2d.MaxPooling2D object at 0x000000001B2FAA00>, <keras.layers.convolutional.conv2d.Conv2D object at 0x000000001B2F6E50>, <keras.layers.pooling.max_pooling2d.MaxPooling2D object at 0x000000001B30B7F0>, <keras.layers.reshaping.flatten.Flatten object at 0x000000001B30BC40>, <keras.layers.core.dense.Dense object at 0x000000001B30E0D0>, <keras.layers.core.dense.Dense object at 0x000000001B30E130>, <keras.layers.core.dense.Dense object at 0x000000001B30E190>]\n"
     ]
    }
   ],
   "source": [
    "model_F = build_Model(F)"
   ]
  },
  {
   "cell_type": "raw",
   "metadata": {},
   "source": [
    "n_epochs = 10 #\n",
    "print(\"Number of Epochs =\", n_epochs)\n",
    "print()\n",
    "\n",
    "model_F.fit(x = X_Train, y = F_Y_Train, epochs = n_epochs) # batch_size = 32\n",
    "\n",
    "model_F.save('saved_model_F.keras')"
   ]
  },
  {
   "cell_type": "code",
   "execution_count": 50,
   "metadata": {},
   "outputs": [],
   "source": [
    "# ...\n",
    "# Epoch 10/10\n",
    "# 1563/1563 [==============================] - 187s 120ms/step - loss: 2.0910 - accuracy: 0.4421"
   ]
  },
  {
   "cell_type": "code",
   "execution_count": 51,
   "metadata": {},
   "outputs": [],
   "source": [
    "saved_model_F = keras.models.load_model(\"saved_model_F.keras\") # ./"
   ]
  },
  {
   "cell_type": "code",
   "execution_count": 52,
   "metadata": {},
   "outputs": [
    {
     "name": "stdout",
     "output_type": "stream",
     "text": [
      "Saved_Model_F Summary:\n",
      "\n",
      "Model: \"sequential_1\"\n",
      "_________________________________________________________________\n",
      " Layer (type)                Output Shape              Param #   \n",
      "=================================================================\n",
      " conv2d_3 (Conv2D)           (None, 30, 30, 32)        896       \n",
      "                                                                 \n",
      " max_pooling2d_3 (MaxPooling  (None, 15, 15, 32)       0         \n",
      " 2D)                                                             \n",
      "                                                                 \n",
      " conv2d_4 (Conv2D)           (None, 13, 13, 64)        18496     \n",
      "                                                                 \n",
      " max_pooling2d_4 (MaxPooling  (None, 6, 6, 64)         0         \n",
      " 2D)                                                             \n",
      "                                                                 \n",
      " conv2d_5 (Conv2D)           (None, 4, 4, 128)         73856     \n",
      "                                                                 \n",
      " max_pooling2d_5 (MaxPooling  (None, 2, 2, 128)        0         \n",
      " 2D)                                                             \n",
      "                                                                 \n",
      " flatten_1 (Flatten)         (None, 512)               0         \n",
      "                                                                 \n",
      " dense_3 (Dense)             (None, 256)               131328    \n",
      "                                                                 \n",
      " dense_4 (Dense)             (None, 128)               32896     \n",
      "                                                                 \n",
      " dense_5 (Dense)             (None, 100)               12900     \n",
      "                                                                 \n",
      "=================================================================\n",
      "Total params: 270,372\n",
      "Trainable params: 270,372\n",
      "Non-trainable params: 0\n",
      "_________________________________________________________________\n"
     ]
    }
   ],
   "source": [
    "print(\"Saved_Model_F Summary:\\n\")\n",
    "saved_model_F.summary()"
   ]
  },
  {
   "cell_type": "code",
   "execution_count": 53,
   "metadata": {},
   "outputs": [
    {
     "name": "stdout",
     "output_type": "stream",
     "text": [
      "32 * 1563 = 50016 == 50000\n"
     ]
    }
   ],
   "source": [
    "#\n",
    "BS = 32 # batch_size\n",
    "img_n = 1563\n",
    "len_X_train = len(X_Train)\n",
    "print(BS, \"*\", img_n, \"=\", BS * img_n, \"==\", len_X_train) # = 50016"
   ]
  },
  {
   "cell_type": "code",
   "execution_count": 54,
   "metadata": {},
   "outputs": [
    {
     "name": "stdout",
     "output_type": "stream",
     "text": [
      "Saved_Model_F Metrics Names:\n",
      "['loss', 'accuracy']\n"
     ]
    }
   ],
   "source": [
    "print(\"Saved_Model_F Metrics Names:\")\n",
    "print(saved_model_F.metrics_names) # = ['loss', 'accuracy']"
   ]
  },
  {
   "cell_type": "code",
   "execution_count": 55,
   "metadata": {},
   "outputs": [
    {
     "name": "stdout",
     "output_type": "stream",
     "text": [
      "313/313 [==============================] - 17s 54ms/step - loss: 2.5959 - accuracy: 0.3581\n",
      "F_Test_Loss     = 2.595911741256714\n",
      "F_Test_Accuracy = 0.3580999970436096\n"
     ]
    }
   ],
   "source": [
    "F_Test_Loss, F_Test_Accuracy = saved_model_F.evaluate(x = X_Test, y = F_Y_Test, return_dict = False)\n",
    "\n",
    "print(\"F_Test_Loss     =\", F_Test_Loss)     # = 2.595911741256714\n",
    "print(\"F_Test_Accuracy =\", F_Test_Accuracy) # = 0.3580999970436096"
   ]
  },
  {
   "cell_type": "code",
   "execution_count": 56,
   "metadata": {},
   "outputs": [
    {
     "name": "stdout",
     "output_type": "stream",
     "text": [
      "313/313 [==============================] - 18s 58ms/step\n"
     ]
    }
   ],
   "source": [
    "F_Y_Predictions = saved_model_F.predict(X_Test)"
   ]
  },
  {
   "cell_type": "code",
   "execution_count": 57,
   "metadata": {},
   "outputs": [
    {
     "name": "stdout",
     "output_type": "stream",
     "text": [
      "[F_Y_Predictions] =\n"
     ]
    },
    {
     "data": {
      "text/plain": [
       "array([[8.35631440e-08, 4.95276836e-05, 3.97071242e-03, ...,\n",
       "        3.59476020e-04, 4.90681967e-04, 3.72866681e-03],\n",
       "       [2.69596476e-05, 3.46005691e-04, 3.75946867e-04, ...,\n",
       "        4.61784890e-03, 1.85577883e-04, 2.32472993e-03],\n",
       "       [1.29125110e-04, 4.66521800e-04, 4.39185090e-03, ...,\n",
       "        6.00387342e-03, 2.29911436e-03, 9.02779793e-05],\n",
       "       ...,\n",
       "       [1.87748601e-03, 2.91750748e-02, 1.04349201e-04, ...,\n",
       "        8.73398210e-04, 1.96036799e-05, 5.54371020e-03],\n",
       "       [1.17845718e-06, 1.34240880e-04, 6.60738850e-04, ...,\n",
       "        3.39316688e-02, 3.16016551e-04, 5.73979691e-03],\n",
       "       [1.08816363e-01, 1.03108049e-03, 5.93100034e-04, ...,\n",
       "        2.19956874e-07, 2.31814862e-04, 1.13671655e-02]], dtype=float32)"
      ]
     },
     "execution_count": 57,
     "metadata": {},
     "output_type": "execute_result"
    }
   ],
   "source": [
    "print(\"[F_Y_Predictions] =\")\n",
    "F_Y_Predictions"
   ]
  },
  {
   "cell_type": "code",
   "execution_count": 58,
   "metadata": {},
   "outputs": [
    {
     "name": "stdout",
     "output_type": "stream",
     "text": [
      "[F_Y_Predictions] =\n"
     ]
    },
    {
     "data": {
      "text/plain": [
       "array([95, 56, 15, ..., 51, 42, 62], dtype=int64)"
      ]
     },
     "execution_count": 58,
     "metadata": {},
     "output_type": "execute_result"
    }
   ],
   "source": [
    "F_Y_Predictions = np.argmax(F_Y_Predictions, axis = -1)\n",
    "print(\"[F_Y_Predictions] =\")\n",
    "F_Y_Predictions\n",
    "# = array([95, 56, 15, ..., 51, 42, 62], dtype=int64)"
   ]
  },
  {
   "cell_type": "code",
   "execution_count": 59,
   "metadata": {},
   "outputs": [
    {
     "name": "stdout",
     "output_type": "stream",
     "text": [
      "Classification Report:\n",
      "- fine :\n",
      "\n",
      "               precision    recall  f1-score   support\n",
      "\n",
      "        apple       0.39      0.79      0.52       100\n",
      "aquarium_fish       0.33      0.53      0.41       100\n",
      "         baby       0.30      0.34      0.32       100\n",
      "         bear       0.23      0.15      0.18       100\n",
      "       beaver       0.23      0.21      0.22       100\n",
      "          bed       0.25      0.24      0.24       100\n",
      "          bee       0.48      0.47      0.48       100\n",
      "       beetle       0.37      0.39      0.38       100\n",
      "      bicycle       0.52      0.35      0.42       100\n",
      "       bottle       0.63      0.38      0.48       100\n",
      "         bowl       0.24      0.19      0.21       100\n",
      "          boy       0.24      0.13      0.17       100\n",
      "       bridge       0.42      0.31      0.36       100\n",
      "          bus       0.23      0.31      0.26       100\n",
      "    butterfly       0.32      0.22      0.26       100\n",
      "        camel       0.27      0.25      0.26       100\n",
      "          can       0.31      0.44      0.36       100\n",
      "       castle       0.54      0.52      0.53       100\n",
      "  caterpillar       0.37      0.34      0.36       100\n",
      "       cattle       0.22      0.26      0.24       100\n",
      "        chair       0.71      0.60      0.65       100\n",
      "   chimpanzee       0.31      0.68      0.42       100\n",
      "        clock       0.35      0.30      0.32       100\n",
      "        cloud       0.45      0.73      0.55       100\n",
      "    cockroach       0.57      0.56      0.57       100\n",
      "        couch       0.21      0.27      0.24       100\n",
      "         crab       0.44      0.15      0.22       100\n",
      "    crocodile       0.23      0.22      0.23       100\n",
      "          cup       0.34      0.60      0.43       100\n",
      "     dinosaur       0.44      0.39      0.41       100\n",
      "      dolphin       0.36      0.39      0.37       100\n",
      "     elephant       0.25      0.36      0.30       100\n",
      "     flatfish       0.38      0.23      0.29       100\n",
      "       forest       0.24      0.39      0.30       100\n",
      "          fox       0.20      0.37      0.26       100\n",
      "         girl       0.33      0.15      0.21       100\n",
      "      hamster       0.37      0.25      0.30       100\n",
      "        house       0.30      0.31      0.30       100\n",
      "     kangaroo       0.12      0.18      0.14       100\n",
      "     keyboard       0.38      0.39      0.38       100\n",
      "         lamp       0.30      0.14      0.19       100\n",
      "   lawn_mower       0.62      0.56      0.59       100\n",
      "      leopard       0.33      0.26      0.29       100\n",
      "         lion       0.34      0.43      0.38       100\n",
      "       lizard       0.22      0.10      0.14       100\n",
      "      lobster       0.25      0.18      0.21       100\n",
      "          man       0.23      0.24      0.24       100\n",
      "   maple_tree       0.39      0.57      0.46       100\n",
      "   motorcycle       0.73      0.37      0.49       100\n",
      "     mountain       0.41      0.51      0.46       100\n",
      "        mouse       0.18      0.15      0.16       100\n",
      "     mushroom       0.32      0.21      0.25       100\n",
      "     oak_tree       0.58      0.68      0.62       100\n",
      "       orange       0.54      0.54      0.54       100\n",
      "       orchid       0.48      0.37      0.42       100\n",
      "        otter       0.04      0.03      0.04       100\n",
      "    palm_tree       0.42      0.62      0.50       100\n",
      "         pear       0.40      0.28      0.33       100\n",
      " pickup_truck       0.37      0.33      0.35       100\n",
      "    pine_tree       0.39      0.22      0.28       100\n",
      "        plain       0.79      0.67      0.72       100\n",
      "        plate       0.42      0.34      0.38       100\n",
      "        poppy       0.36      0.57      0.44       100\n",
      "    porcupine       0.31      0.30      0.31       100\n",
      "       possum       0.25      0.15      0.19       100\n",
      "       rabbit       0.26      0.24      0.25       100\n",
      "      raccoon       0.32      0.23      0.27       100\n",
      "          ray       0.24      0.34      0.28       100\n",
      "         road       0.52      0.71      0.60       100\n",
      "       rocket       0.50      0.48      0.49       100\n",
      "         rose       0.34      0.55      0.42       100\n",
      "          sea       0.41      0.70      0.52       100\n",
      "         seal       0.15      0.12      0.13       100\n",
      "        shark       0.35      0.35      0.35       100\n",
      "        shrew       0.21      0.25      0.23       100\n",
      "        skunk       0.43      0.63      0.51       100\n",
      "   skyscraper       0.57      0.58      0.58       100\n",
      "        snail       0.22      0.14      0.17       100\n",
      "        snake       0.28      0.10      0.15       100\n",
      "       spider       0.45      0.36      0.40       100\n",
      "     squirrel       0.16      0.15      0.16       100\n",
      "    streetcar       0.42      0.30      0.35       100\n",
      "    sunflower       0.58      0.71      0.64       100\n",
      " sweet_pepper       0.29      0.27      0.28       100\n",
      "        table       0.21      0.20      0.20       100\n",
      "         tank       0.43      0.56      0.48       100\n",
      "    telephone       0.41      0.41      0.41       100\n",
      "   television       0.38      0.43      0.40       100\n",
      "        tiger       0.58      0.26      0.36       100\n",
      "      tractor       0.35      0.32      0.33       100\n",
      "        train       0.31      0.22      0.26       100\n",
      "        trout       0.48      0.52      0.50       100\n",
      "        tulip       0.32      0.19      0.24       100\n",
      "       turtle       0.26      0.22      0.24       100\n",
      "     wardrobe       0.54      0.64      0.58       100\n",
      "        whale       0.42      0.52      0.46       100\n",
      "  willow_tree       0.28      0.20      0.23       100\n",
      "         wolf       0.29      0.38      0.33       100\n",
      "        woman       0.29      0.14      0.19       100\n",
      "         worm       0.31      0.23      0.26       100\n",
      "\n",
      "     accuracy                           0.36     10000\n",
      "    macro avg       0.36      0.36      0.35     10000\n",
      " weighted avg       0.36      0.36      0.35     10000\n",
      "\n",
      "\n",
      "{CR_F_D} =\n",
      "{'apple': {'precision': 0.3891625615763547, 'recall': 0.79, 'f1-score': 0.5214521452145214, 'support': 100}, 'aquarium_fish': {'precision': 0.3333333333333333, 'recall': 0.53, 'f1-score': 0.4092664092664093, 'support': 100}, 'baby': {'precision': 0.2982456140350877, 'recall': 0.34, 'f1-score': 0.31775700934579443, 'support': 100}, 'bear': {'precision': 0.234375, 'recall': 0.15, 'f1-score': 0.18292682926829268, 'support': 100}, 'beaver': {'precision': 0.22826086956521738, 'recall': 0.21, 'f1-score': 0.21874999999999997, 'support': 100}, 'bed': {'precision': 0.24742268041237114, 'recall': 0.24, 'f1-score': 0.24365482233502536, 'support': 100}, 'bee': {'precision': 0.4845360824742268, 'recall': 0.47, 'f1-score': 0.4771573604060913, 'support': 100}, 'beetle': {'precision': 0.36792452830188677, 'recall': 0.39, 'f1-score': 0.3786407766990292, 'support': 100}, 'bicycle': {'precision': 0.5223880597014925, 'recall': 0.35, 'f1-score': 0.41916167664670656, 'support': 100}, 'bottle': {'precision': 0.6333333333333333, 'recall': 0.38, 'f1-score': 0.4750000000000001, 'support': 100}, 'bowl': {'precision': 0.24050632911392406, 'recall': 0.19, 'f1-score': 0.21229050279329612, 'support': 100}, 'boy': {'precision': 0.24074074074074073, 'recall': 0.13, 'f1-score': 0.16883116883116883, 'support': 100}, 'bridge': {'precision': 0.4246575342465753, 'recall': 0.31, 'f1-score': 0.35838150289017345, 'support': 100}, 'bus': {'precision': 0.22962962962962963, 'recall': 0.31, 'f1-score': 0.26382978723404255, 'support': 100}, 'butterfly': {'precision': 0.3188405797101449, 'recall': 0.22, 'f1-score': 0.2603550295857988, 'support': 100}, 'camel': {'precision': 0.26881720430107525, 'recall': 0.25, 'f1-score': 0.25906735751295334, 'support': 100}, 'can': {'precision': 0.30985915492957744, 'recall': 0.44, 'f1-score': 0.36363636363636365, 'support': 100}, 'castle': {'precision': 0.5416666666666666, 'recall': 0.52, 'f1-score': 0.5306122448979592, 'support': 100}, 'caterpillar': {'precision': 0.37362637362637363, 'recall': 0.34, 'f1-score': 0.35602094240837695, 'support': 100}, 'cattle': {'precision': 0.22413793103448276, 'recall': 0.26, 'f1-score': 0.24074074074074073, 'support': 100}, 'chair': {'precision': 0.7142857142857143, 'recall': 0.6, 'f1-score': 0.6521739130434783, 'support': 100}, 'chimpanzee': {'precision': 0.3090909090909091, 'recall': 0.68, 'f1-score': 0.425, 'support': 100}, 'clock': {'precision': 0.3488372093023256, 'recall': 0.3, 'f1-score': 0.3225806451612903, 'support': 100}, 'cloud': {'precision': 0.4451219512195122, 'recall': 0.73, 'f1-score': 0.5530303030303031, 'support': 100}, 'cockroach': {'precision': 0.5714285714285714, 'recall': 0.56, 'f1-score': 0.5656565656565656, 'support': 100}, 'couch': {'precision': 0.2109375, 'recall': 0.27, 'f1-score': 0.2368421052631579, 'support': 100}, 'crab': {'precision': 0.4411764705882353, 'recall': 0.15, 'f1-score': 0.22388059701492538, 'support': 100}, 'crocodile': {'precision': 0.23157894736842105, 'recall': 0.22, 'f1-score': 0.22564102564102562, 'support': 100}, 'cup': {'precision': 0.3389830508474576, 'recall': 0.6, 'f1-score': 0.4332129963898917, 'support': 100}, 'dinosaur': {'precision': 0.4431818181818182, 'recall': 0.39, 'f1-score': 0.4148936170212766, 'support': 100}, 'dolphin': {'precision': 0.3577981651376147, 'recall': 0.39, 'f1-score': 0.37320574162679426, 'support': 100}, 'elephant': {'precision': 0.2517482517482518, 'recall': 0.36, 'f1-score': 0.29629629629629634, 'support': 100}, 'flatfish': {'precision': 0.38333333333333336, 'recall': 0.23, 'f1-score': 0.2875, 'support': 100}, 'forest': {'precision': 0.2422360248447205, 'recall': 0.39, 'f1-score': 0.2988505747126437, 'support': 100}, 'fox': {'precision': 0.20441988950276244, 'recall': 0.37, 'f1-score': 0.26334519572953735, 'support': 100}, 'girl': {'precision': 0.3333333333333333, 'recall': 0.15, 'f1-score': 0.20689655172413793, 'support': 100}, 'hamster': {'precision': 0.373134328358209, 'recall': 0.25, 'f1-score': 0.29940119760479045, 'support': 100}, 'house': {'precision': 0.2980769230769231, 'recall': 0.31, 'f1-score': 0.303921568627451, 'support': 100}, 'kangaroo': {'precision': 0.11612903225806452, 'recall': 0.18, 'f1-score': 0.14117647058823526, 'support': 100}, 'keyboard': {'precision': 0.375, 'recall': 0.39, 'f1-score': 0.38235294117647056, 'support': 100}, 'lamp': {'precision': 0.30434782608695654, 'recall': 0.14, 'f1-score': 0.19178082191780824, 'support': 100}, 'lawn_mower': {'precision': 0.6153846153846154, 'recall': 0.56, 'f1-score': 0.5863874345549739, 'support': 100}, 'leopard': {'precision': 0.325, 'recall': 0.26, 'f1-score': 0.2888888888888889, 'support': 100}, 'lion': {'precision': 0.344, 'recall': 0.43, 'f1-score': 0.3822222222222222, 'support': 100}, 'lizard': {'precision': 0.2222222222222222, 'recall': 0.1, 'f1-score': 0.13793103448275865, 'support': 100}, 'lobster': {'precision': 0.25, 'recall': 0.18, 'f1-score': 0.20930232558139533, 'support': 100}, 'man': {'precision': 0.23076923076923078, 'recall': 0.24, 'f1-score': 0.23529411764705882, 'support': 100}, 'maple_tree': {'precision': 0.38513513513513514, 'recall': 0.57, 'f1-score': 0.45967741935483863, 'support': 100}, 'motorcycle': {'precision': 0.7254901960784313, 'recall': 0.37, 'f1-score': 0.4900662251655629, 'support': 100}, 'mountain': {'precision': 0.4146341463414634, 'recall': 0.51, 'f1-score': 0.4573991031390135, 'support': 100}, 'mouse': {'precision': 0.17857142857142858, 'recall': 0.15, 'f1-score': 0.16304347826086957, 'support': 100}, 'mushroom': {'precision': 0.3181818181818182, 'recall': 0.21, 'f1-score': 0.25301204819277107, 'support': 100}, 'oak_tree': {'precision': 0.576271186440678, 'recall': 0.68, 'f1-score': 0.6238532110091743, 'support': 100}, 'orange': {'precision': 0.54, 'recall': 0.54, 'f1-score': 0.54, 'support': 100}, 'orchid': {'precision': 0.4805194805194805, 'recall': 0.37, 'f1-score': 0.4180790960451977, 'support': 100}, 'otter': {'precision': 0.04225352112676056, 'recall': 0.03, 'f1-score': 0.03508771929824561, 'support': 100}, 'palm_tree': {'precision': 0.4189189189189189, 'recall': 0.62, 'f1-score': 0.5, 'support': 100}, 'pear': {'precision': 0.4, 'recall': 0.28, 'f1-score': 0.3294117647058824, 'support': 100}, 'pickup_truck': {'precision': 0.36666666666666664, 'recall': 0.33, 'f1-score': 0.34736842105263155, 'support': 100}, 'pine_tree': {'precision': 0.39285714285714285, 'recall': 0.22, 'f1-score': 0.28205128205128205, 'support': 100}, 'plain': {'precision': 0.788235294117647, 'recall': 0.67, 'f1-score': 0.7243243243243244, 'support': 100}, 'plate': {'precision': 0.425, 'recall': 0.34, 'f1-score': 0.3777777777777778, 'support': 100}, 'poppy': {'precision': 0.3584905660377358, 'recall': 0.57, 'f1-score': 0.4401544401544401, 'support': 100}, 'porcupine': {'precision': 0.3125, 'recall': 0.3, 'f1-score': 0.3061224489795918, 'support': 100}, 'possum': {'precision': 0.25, 'recall': 0.15, 'f1-score': 0.18749999999999997, 'support': 100}, 'rabbit': {'precision': 0.2608695652173913, 'recall': 0.24, 'f1-score': 0.24999999999999994, 'support': 100}, 'raccoon': {'precision': 0.3150684931506849, 'recall': 0.23, 'f1-score': 0.26589595375722547, 'support': 100}, 'ray': {'precision': 0.24113475177304963, 'recall': 0.34, 'f1-score': 0.2821576763485477, 'support': 100}, 'road': {'precision': 0.5220588235294118, 'recall': 0.71, 'f1-score': 0.6016949152542374, 'support': 100}, 'rocket': {'precision': 0.5, 'recall': 0.48, 'f1-score': 0.4897959183673469, 'support': 100}, 'rose': {'precision': 0.3374233128834356, 'recall': 0.55, 'f1-score': 0.4182509505703422, 'support': 100}, 'sea': {'precision': 0.41420118343195267, 'recall': 0.7, 'f1-score': 0.520446096654275, 'support': 100}, 'seal': {'precision': 0.1518987341772152, 'recall': 0.12, 'f1-score': 0.1340782122905028, 'support': 100}, 'shark': {'precision': 0.35353535353535354, 'recall': 0.35, 'f1-score': 0.35175879396984927, 'support': 100}, 'shrew': {'precision': 0.20833333333333334, 'recall': 0.25, 'f1-score': 0.22727272727272727, 'support': 100}, 'skunk': {'precision': 0.43448275862068964, 'recall': 0.63, 'f1-score': 0.5142857142857141, 'support': 100}, 'skyscraper': {'precision': 0.5742574257425742, 'recall': 0.58, 'f1-score': 0.5771144278606964, 'support': 100}, 'snail': {'precision': 0.21875, 'recall': 0.14, 'f1-score': 0.17073170731707318, 'support': 100}, 'snake': {'precision': 0.2777777777777778, 'recall': 0.1, 'f1-score': 0.14705882352941177, 'support': 100}, 'spider': {'precision': 0.45, 'recall': 0.36, 'f1-score': 0.39999999999999997, 'support': 100}, 'squirrel': {'precision': 0.16304347826086957, 'recall': 0.15, 'f1-score': 0.15625000000000003, 'support': 100}, 'streetcar': {'precision': 0.4225352112676056, 'recall': 0.3, 'f1-score': 0.3508771929824562, 'support': 100}, 'sunflower': {'precision': 0.5772357723577236, 'recall': 0.71, 'f1-score': 0.6367713004484306, 'support': 100}, 'sweet_pepper': {'precision': 0.2872340425531915, 'recall': 0.27, 'f1-score': 0.27835051546391754, 'support': 100}, 'table': {'precision': 0.20618556701030927, 'recall': 0.2, 'f1-score': 0.20304568527918782, 'support': 100}, 'tank': {'precision': 0.42748091603053434, 'recall': 0.56, 'f1-score': 0.48484848484848486, 'support': 100}, 'telephone': {'precision': 0.40594059405940597, 'recall': 0.41, 'f1-score': 0.4079601990049751, 'support': 100}, 'television': {'precision': 0.37719298245614036, 'recall': 0.43, 'f1-score': 0.4018691588785047, 'support': 100}, 'tiger': {'precision': 0.5777777777777777, 'recall': 0.26, 'f1-score': 0.3586206896551724, 'support': 100}, 'tractor': {'precision': 0.34782608695652173, 'recall': 0.32, 'f1-score': 0.3333333333333333, 'support': 100}, 'train': {'precision': 0.30985915492957744, 'recall': 0.22, 'f1-score': 0.2573099415204678, 'support': 100}, 'trout': {'precision': 0.47706422018348627, 'recall': 0.52, 'f1-score': 0.4976076555023924, 'support': 100}, 'tulip': {'precision': 0.31666666666666665, 'recall': 0.19, 'f1-score': 0.23750000000000004, 'support': 100}, 'turtle': {'precision': 0.2619047619047619, 'recall': 0.22, 'f1-score': 0.2391304347826087, 'support': 100}, 'wardrobe': {'precision': 0.5378151260504201, 'recall': 0.64, 'f1-score': 0.5844748858447488, 'support': 100}, 'whale': {'precision': 0.41935483870967744, 'recall': 0.52, 'f1-score': 0.46428571428571425, 'support': 100}, 'willow_tree': {'precision': 0.2777777777777778, 'recall': 0.2, 'f1-score': 0.23255813953488372, 'support': 100}, 'wolf': {'precision': 0.29457364341085274, 'recall': 0.38, 'f1-score': 0.331877729257642, 'support': 100}, 'woman': {'precision': 0.2916666666666667, 'recall': 0.14, 'f1-score': 0.1891891891891892, 'support': 100}, 'worm': {'precision': 0.30666666666666664, 'recall': 0.23, 'f1-score': 0.2628571428571429, 'support': 100}, 'accuracy': 0.3581, 'macro avg': {'precision': 0.361123384909645, 'recall': 0.35810000000000003, 'f1-score': 0.3478938589097492, 'support': 10000}, 'weighted avg': {'precision': 0.361123384909645, 'recall': 0.3581, 'f1-score': 0.3478938589097493, 'support': 10000}}\n",
      "\n",
      "CR_ fine : accuracy = 0.3581\n"
     ]
    }
   ],
   "source": [
    "print(\"Classification Report:\")\n",
    "print(\"-\", F, ':\\n')\n",
    "CR_F = classification_report(y_true = F_Y_Test, y_pred = F_Y_Predictions, target_names = F_Y_L, zero_division = 'warn') # labels = F_Y_Train,\n",
    "print(CR_F)\n",
    "CR_F_D = classification_report(y_true = F_Y_Test, y_pred = F_Y_Predictions, target_names = F_Y_L, zero_division = 'warn', output_dict = True)\n",
    "print(\"\\n{CR_F_D} =\")\n",
    "print(CR_F_D)\n",
    "print(\"\\nCR_\", F, ':', A, '=', CR_F_D[A])"
   ]
  },
  {
   "cell_type": "code",
   "execution_count": 60,
   "metadata": {},
   "outputs": [
    {
     "name": "stdout",
     "output_type": "stream",
     "text": [
      "49\n",
      "mountain\n"
     ]
    },
    {
     "data": {
      "image/png": "[encoded data removed]",
      "text/plain": [
       "<Figure size 432x288 with 1 Axes>"
      ]
     },
     "metadata": {
      "needs_background": "light"
     },
     "output_type": "display_data"
    }
   ],
   "source": [
    "plot_XY_0(1, X_Test, F_Y_Test, F_Y_L) # [0]"
   ]
  },
  {
   "cell_type": "code",
   "execution_count": 61,
   "metadata": {},
   "outputs": [
    {
     "name": "stdout",
     "output_type": "stream",
     "text": [
      "95\n",
      "whale\n"
     ]
    }
   ],
   "source": [
    "F_Y_P_label_nmb_0 = F_Y_Predictions[0] # [0]\n",
    "print(F_Y_P_label_nmb_0)\n",
    "F_Y_P_label_txt_0 = F_Y_L[F_Y_P_label_nmb_0]\n",
    "print(F_Y_P_label_txt_0)"
   ]
  },
  {
   "cell_type": "code",
   "execution_count": 62,
   "metadata": {},
   "outputs": [
    {
     "name": "stdout",
     "output_type": "stream",
     "text": [
      "95\n",
      "whale\n"
     ]
    },
    {
     "data": {
      "image/png": "[encoded data removed]",
      "text/plain": [
       "<Figure size 432x288 with 1 Axes>"
      ]
     },
     "metadata": {
      "needs_background": "light"
     },
     "output_type": "display_data"
    }
   ],
   "source": [
    "plot_XY_0(1, X_Test, F_Y_Predictions, F_Y_L) # [0]"
   ]
  },
  {
   "cell_type": "code",
   "execution_count": 63,
   "metadata": {},
   "outputs": [
    {
     "name": "stdout",
     "output_type": "stream",
     "text": [
      "fine\n",
      "=> Предсказание ИНС для 0-го Тестового Изображения - не Верное.\n"
     ]
    }
   ],
   "source": [
    "print(F)\n",
    "check_Prediction_0(F_Y_Test, F_Y_Predictions) # [0]"
   ]
  },
  {
   "cell_type": "markdown",
   "metadata": {},
   "source": [
    "# 0. Ответы на Вопросы"
   ]
  },
  {
   "cell_type": "markdown",
   "metadata": {},
   "source": [
    "## 0.1."
   ]
  },
  {
   "cell_type": "code",
   "execution_count": 64,
   "metadata": {},
   "outputs": [],
   "source": [
    "# 1. Объяснить, какие элементы вашей сети зависят от количества цветов, какие — от количества классов."
   ]
  },
  {
   "cell_type": "markdown",
   "metadata": {},
   "source": [
    "**Canadian Institute For Advanced Research (CIFAR) 100 DataSet** - \n",
    "<br> набор данных с цветными изображениями\n",
    "<br> с разрешением (размером) `32 * 32` пикселей (высота и ширина),\n",
    "<br> каждое из которых относится к `одному` из `20` широких и `100` узких классов.\n",
    "<br>Т. к. картинки представлены не в оттенках серого, а в виде **RGB (Red, Green, Blue)**, \n",
    "<br> то на `1` пиксель приходится `3` канала, а не `1`.\n",
    "- `n_epochs = 10`\n",
    "- `batch_size = 32 # default`\n",
    "- `image_H = 32 # Height`\n",
    "- `image_W = 32 # Width`\n",
    "- `n_channels = 3`\n",
    "- `input_shape = (image_H, image_W, n_channels)`\n",
    "\n",
    "**Sequential Model** - модель **искусственной нейронной сети (ИНС)** с последовательной архитектурой.\n",
    "\n",
    "**Convolutional Neural NetWork (CNN)** - свёрточная нейронная сеть.\n",
    "\n",
    "\n",
    "\n",
    "**Элементы сети, зависящие от количества:**\n",
    "- **Цветов:**\n",
    " - **Размер свёртки** (`input_shape`):\n",
    "<br> `Layer_01_Conv2D = tf.keras.layers.Conv2D(..., ..., ..., input_shape = (..., ..., n_channels))`\n",
    "- **Классов:**\n",
    " - **Размерность выходных данных** (`units`):\n",
    "<br> `n_C_Y =  20`\n",
    "<br> `n_F_Y = 100`\n",
    "<br> `n_units = n_C_Y || n_F_Y`\n",
    "<br> `Layer_10_Dense  = tf.keras.layers.Dense(units = n_units, ...)`"
   ]
  },
  {
   "cell_type": "markdown",
   "metadata": {},
   "source": [
    "## 0.2."
   ]
  },
  {
   "cell_type": "code",
   "execution_count": 65,
   "metadata": {},
   "outputs": [],
   "source": [
    "# 2. Обучить модель. \n",
    "#    Объяснить место в модели каждого слоя, обосновать выбор гипер-параметров \n",
    "#     (можно ссылаться на примеры кода в Сети, но в любом случае нужно объяснить словами). #"
   ]
  },
  {
   "cell_type": "markdown",
   "metadata": {},
   "source": [
    "**Keras Layers API:** https://keras.io/api/layers/"
   ]
  },
  {
   "cell_type": "markdown",
   "metadata": {},
   "source": [
    "**Слои модели:**\n",
    "- **Convolutional (Свёрточные):** `Layer_01_Conv2D`, `Layer_03_Conv2D`, `Layer_05_Conv2D`;\n",
    "- **Pooling (Пулинговые):** `Layer_02_Pool`, `Layer_04_Pool`, `Layer_06_Pool`;\n",
    "- **Flatten (Выпрямляющие):** `Layer_07_Flat`;\n",
    "- **Dense (Полно-связные):** `Layer_08_Dense`, `Layer_09_Dense`, `Layer_10_Dense`.\n",
    "\n",
    "**Гипер-параметры слоёв:**\n",
    "- **Convolutional (Свёрточные):** \n",
    " - `filters = 32 || 64 || 128`,\n",
    " - `kernel_size = (3, 3)`, \n",
    " - `activation = 'relu'`, \n",
    " - `input_shape = (image_H, image_W, n_channels) || ()`;\n",
    "- **Pooling (Пулинговые):**\n",
    " - `pool_size = (2, 2)`;\n",
    "- **Flatten (Выпрямляющие):**\n",
    " - `()`;\n",
    "- **Dense (Полно-связные):**\n",
    " - `units = 256 || 128 || n_units`,\n",
    " - `activation = 'relu || softmax'`.\n",
    "\n",
    "\n",
    "**Гипер-параметры алгоритма обучения ИНС:**\n",
    "\n",
    "01. `Layer_01_Conv2D`:\n",
    " - `filters = 32`,\n",
    " - `kernel_size = (3, 3)`, \n",
    " - `activation = 'relu'`, \n",
    " - `input_shape = (image_H, image_W, n_channels)`;\n",
    "<br> .\n",
    "02. `Layer_02_Pool`:\n",
    " - `pool_size = (2, 2)`;\n",
    "<br> .\n",
    "03. `Layer_03_Conv2D`:\n",
    " - `filters = 64`,\n",
    " - `kernel_size = (3, 3)`,\n",
    " - `activation = 'relu'`;\n",
    "<br> .\n",
    "04. `Layer_04_Pool`:\n",
    " - `pool_size = (2, 2)`;\n",
    "<br> .\n",
    "05. `Layer_05_Conv2D`:\n",
    " - `filters = 128`, \n",
    " - `kernel_size = (3, 3)`,\n",
    " - `activation = 'relu'`;\n",
    "<br>  .\n",
    "06. `Layer_06_Pool`:\n",
    " - `pool_size = (2, 2)`;\n",
    "<br> .\n",
    "07. `Layer_07_Flat`:\n",
    " - `()`;\n",
    "<br> .\n",
    "08. `Layer_08_Dense`:\n",
    " - `units = 256`, \n",
    " - `activation = 'relu'`;\n",
    "<br> .\n",
    "09. `Layer_09_Dense`:\n",
    " - `units = 128`, \n",
    " - `activation = 'relu'`;\n",
    "<br> .\n",
    "10. `Layer_10_Dense`:\n",
    " - `units = n_units`,\n",
    " - `activation = 'softmax'`.\n",
    "<br> .\n",
    "\n",
    "\n",
    "**Компиляция модели** (`model.compile(...)`):\n",
    "- **Алгоритм оптимизации** - **ADAptive Momentum (ADAM)**:\n",
    "<br> (`optimizer = 'adam'`),\n",
    "- **Функция потерь** - разреженная категориальная перекрёстная энтропия:\n",
    "<br> (`loss = 'sparse_categorical_crossentropy'`),\n",
    "- **Метрика** - точность:\n",
    "<br> (`metrics = ['accuracy']`)."
   ]
  },
  {
   "cell_type": "markdown",
   "metadata": {},
   "source": [
    "**Слои:**\n",
    "- **Convolutional (Свёрточные):**\n",
    " - << Это - основной блок свёрточной нейронной сети.\n",
    "<br>Он включает в себя для каждого канала свой фильтр, ядро свёртки которого обрабатывает предыдущий слой по фрагментам <br> (суммируя результаты поэлементного произведения для каждого фрагмента).\n",
    "<br>Весовые коэффициенты ядра свёртки (небольшой матрицы) неизвестны и устанавливаются в процессе обучения. >>\n",
    " - **`2`-мерная свёртка** - это математическая операция (применительно к нейро-сетям). \n",
    " - << Начинаем с ядра, представляющего из себя матрицу весов.\n",
    "<br>Ядро “скользит” над `2`-мерным изображением,\n",
    "<br> поэлементно выполняя операцию умножения с той частью входных данных, над которой оно сейчас находится,\n",
    "<br> и затем суммирует все полученные значения в `1` выходной пиксель. >>\n",
    " - << С точки зрения математики,\n",
    "<br> между входным изображением, представленным в виде матрицы интенсивности пикселей,\n",
    "<br> и фильтром мы выполняем операцию свёртки,\n",
    "<br> в результате получая т. н. карту свойств (признаков).\n",
    "<br>Эта карта будет служить входными данными для следующего слоя фильтров. >>\n",
    "- **Pooling (Пулинговые):**\n",
    " - << Слой пулинга (подвыборки, субдискретизации) представляет собой нелинейное уплотнение карты признаков,\n",
    "<br> при этом группа пикселей (обычно размера `2 × 2`) уплотняется до `одного` пикселя,\n",
    "<br> проходя нелинейное преобразование. >>\n",
    "<br> В частности, например, `MaxPooling2D(pool_size=(2, 2))` считывает матрицу\n",
    "<br> и для каждой подматрицы размером `(2, 2)` выбирает максимальное значение, уменьшая размер исходной матрицы.\n",
    " - Снижают т. о. размерность входных данных.\n",
    "- **Flatten (Выпрямляющие):**\n",
    " - Делают массив входных данных \"плоским\".\n",
    " - Преобразуют `2`-мерные входные данные в `1`-мерные.\n",
    "- **Dense (Полно-связные):**\n",
    " - << Это - простой полносвязный слой, когда каждый нейрон предыдущего слоя связан с каждым нейроном данного.\n",
    "<br>Обычно во всех свёрточных сетях в последних слоях используют `2`-`3` полносвязных слоя,\n",
    "<br> которые следуют за слоями свёртки, пулинга и \"выпрямления\". >>\n",
    " - **Линейные (плотные) слои** - << обрабатывают каждый элемент предыдущего слоя,\n",
    "<br> выполняя матричное перемножение этих элементов со своими весами.\n",
    "<br>Полученные данные затем отправляются на следующий слой.\n",
    "<br>Нейроны полносвязного слоя соединены со всеми нейронами предыдущего слоя,\n",
    "<br> что означает, что каждый нейрон полносвязного слоя\n",
    "<br> взаимодействовать с любым нейроном предыдущего слоя.\n",
    "<br>Поэтому полносвязные слои очень важны для финальной части нейронных сетей,\n",
    "<br> где они часто используются для классификации данных. >>\n",
    "\n",
    "**Количество и порядок слоёв:**\n",
    "- << Слои являются основными элементами, необходимыми при создании нейронных сетей.\n",
    "<br>Последовательные слои отвечают за архитектуру модели глубокого обучения.\n",
    "<br>Каждый из них выполняет вычисления на основе данных, полученных из предыдущего.\n",
    "<br>Затем информация передаётся дальше.\n",
    "<br>В конце концов, последний слой выдаёт требуемый результат. >>\n",
    "- << Часто архитектуры нейронных сетей строят в виде последовательности слоёв,\n",
    "<br> начиная с входного и заканчивая выходным.\n",
    "<br>Теоретически, число скрытых слоёв может быть сколь угодно большим. >>\n",
    "- << Выбор соответствующего количества слоёв для нейронной сети может повлиять на\n",
    "<br>её производительность, вычислительную эффективность и обобщающую способность.\n",
    "<br>При выборе количества слоев в нейронной сети необходимо учитывать несколько факторов,\n",
    "<br> включая сложность данных, желаемую точность и доступные вычислительные ресурсы. >>\n",
    "- **Критерии:**\n",
    " - **Размерность задачи.**\n",
    "<br>При сложной структуре данных требуется \"глубокая\" архитектура нейросети.\n",
    " - **Размер тренировочного набора данных.**\n",
    "<br>Если данных мало, используют меньшее число слоёв,\n",
    "<br> т. к. большое - может привести к переобучению.\n",
    " - **Скорость обучения.**\n",
    "<br>Если скрытых слоёв много, и обучающий набор данных - большой, \n",
    "<br> то временны́е затраты на обучение будут также большими.\n",
    " - **Экспериментирование со слоями для поиска оптимальной архитектуры ИНС.**\n",
    "<br> У ИНС могут быть разные архитектуры (последовательность, число и виды слоёв). >>\n",
    "\n",
    "**Гипер-параметры:**\n",
    "- **Число фильтров** (`n_filters`) - это количество используемых ядер.\n",
    "- **Размер ядра** (`kernel_size`) - это размерность (квадратной) матрицы весов.\n",
    "- **Функция активации** (`activation`) - это << нелинейное преобразование,\n",
    "<br> поэлементно применяющееся к пришедшим на вход данным.\n",
    "<br>Благодаря функциям активации нейронные сети способны порождать более информативные признаковые описания,\n",
    "<br> преобразуя данные нелинейным образом. >>\n",
    "- **Размерность входных данных** (`input_shape`) - \n",
    "<br> например: `(batch_size x n_channels x image_Height x image_Width)`.\n",
    "- **Размер пулинга** (`pool_size`) - размер \"окошка\" (подматрицы).\n",
    "- **Размерность выходных данных** (`n_units`) - число нейронов в слое.\n",
    "- Чем больше **число эпох** (`n_epochs`), тем выше будет **точность** (`'accuracy'`) модели,\n",
    "<br> но она будет **дольше** обучаться.\n",
    "- От **размера выборки** (`batch_size`) зависит,\n",
    "<br> сколько изображений будет поступать (подаваться) на вход ИНС на каждом шаге обучения (эпохе).\n",
    "\n",
    "<br>Чем больше **суммарное число связей между нейронами**, тем выше **обобщающая способность нейро-сети**. #"
   ]
  },
  {
   "cell_type": "markdown",
   "metadata": {},
   "source": [
    "**`Model Summary`:**"
   ]
  },
  {
   "cell_type": "raw",
   "metadata": {},
   "source": [
    "# Model_C\n",
    "\n",
    "'''\n",
    "Model: \"sequential\"\n",
    "_________________________________________________________________\n",
    " Layer (type)                Output Shape              Param #   \n",
    "=================================================================\n",
    " conv2d (Conv2D)             (None, 30, 30, 32)        896       \n",
    "                                                                 \n",
    " max_pooling2d (MaxPooling2D  (None, 15, 15, 32)       0         \n",
    " )                                                               \n",
    "                                                                 \n",
    " conv2d_1 (Conv2D)           (None, 13, 13, 64)        18496     \n",
    "                                                                 \n",
    " max_pooling2d_1 (MaxPooling  (None, 6, 6, 64)         0         \n",
    " 2D)                                                             \n",
    "                                                                 \n",
    " conv2d_2 (Conv2D)           (None, 4, 4, 128)         73856     \n",
    "                                                                 \n",
    " max_pooling2d_2 (MaxPooling  (None, 2, 2, 128)        0         \n",
    " 2D)                                                             \n",
    "                                                                 \n",
    " flatten (Flatten)           (None, 512)               0         \n",
    "                                                                 \n",
    " dense (Dense)               (None, 256)               131328    \n",
    "                                                                 \n",
    " dense_1 (Dense)             (None, 128)               32896     \n",
    "                                                                 \n",
    " dense_2 (Dense)             (None, 20)                2580      \n",
    "                                                                 \n",
    "=================================================================\n",
    "Total params: 260,052\n",
    "Trainable params: 260,052\n",
    "Non-trainable params: 0\n",
    "_________________________________________________________________\n",
    "'''"
   ]
  },
  {
   "cell_type": "raw",
   "metadata": {},
   "source": [
    "# Model_F\n",
    "\n",
    "'''\n",
    "Model: \"sequential_1\"\n",
    "_________________________________________________________________\n",
    " Layer (type)                Output Shape              Param #   \n",
    "=================================================================\n",
    " conv2d_3 (Conv2D)           (None, 30, 30, 32)        896       \n",
    "                                                                 \n",
    " max_pooling2d_3 (MaxPooling  (None, 15, 15, 32)       0         \n",
    " 2D)                                                             \n",
    "                                                                 \n",
    " conv2d_4 (Conv2D)           (None, 13, 13, 64)        18496     \n",
    "                                                                 \n",
    " max_pooling2d_4 (MaxPooling  (None, 6, 6, 64)         0         \n",
    " 2D)                                                             \n",
    "                                                                 \n",
    " conv2d_5 (Conv2D)           (None, 4, 4, 128)         73856     \n",
    "                                                                 \n",
    " max_pooling2d_5 (MaxPooling  (None, 2, 2, 128)        0         \n",
    " 2D)                                                             \n",
    "                                                                 \n",
    " flatten_1 (Flatten)         (None, 512)               0         \n",
    "                                                                 \n",
    " dense_3 (Dense)             (None, 256)               131328    \n",
    "                                                                 \n",
    " dense_4 (Dense)             (None, 128)               32896     \n",
    "                                                                 \n",
    " dense_5 (Dense)             (None, 100)               12900     \n",
    "                                                                 \n",
    "=================================================================\n",
    "Total params: 270,372\n",
    "Trainable params: 270,372\n",
    "Non-trainable params: 0\n",
    "_________________________________________________________________\n",
    "'''"
   ]
  },
  {
   "cell_type": "markdown",
   "metadata": {},
   "source": [
    "## 0.3."
   ]
  },
  {
   "cell_type": "code",
   "execution_count": 66,
   "metadata": {},
   "outputs": [],
   "source": [
    "# 3. Сравнить качество предсказания при обучении на `20` широких классах\n",
    "#     с предсказаниями при обучении на `100` узких классах, \n",
    "#     обобщив предсказания по узким меткам до метки их широкого класса в соответствии с таблицей:\n",
    "#     ..."
   ]
  },
  {
   "cell_type": "code",
   "execution_count": 67,
   "metadata": {},
   "outputs": [
    {
     "name": "stdout",
     "output_type": "stream",
     "text": [
      "Number of Classes:\n",
      "- coarse =  20\n",
      "- fine   = 100\n",
      "\n",
      " _Test:\n",
      "      _Loss    :\n",
      "               - C = 1.7356911897659302\n",
      "               - F = 2.595911741256714\n",
      "      _Accuracy:\n",
      "               - C = 0.4851999878883362\n",
      "               - F = 0.3580999970436096\n"
     ]
    }
   ],
   "source": [
    "# + PDS DF\n",
    "# Классы (Labels): C_Y = Coarse (широкие), F_Y = Fine (узкие)\n",
    "print(\"Number of Classes:\")\n",
    "print('-', C, '= ', n_C_Y)\n",
    "print('-', F, '  =', n_F_Y)\n",
    "print()\n",
    "print(\" _Test:\")\n",
    "print(\"      _Loss    :\")\n",
    "print(\"               - C =\", С_Test_Loss) # = 1.7356911897659302\n",
    "print(\"               - F =\", F_Test_Loss) # = 2.595911741256714 \n",
    "print(\"      _Accuracy:\")\n",
    "print(\"               - C =\", С_Test_Accuracy) # = 0.4851999878883362\n",
    "print(\"               - F =\", F_Test_Accuracy) # = 0.3580999970436096"
   ]
  },
  {
   "cell_type": "code",
   "execution_count": 68,
   "metadata": {},
   "outputs": [],
   "source": [
    "#\n",
    "def CF_Y_map(F_Y_L):\n",
    "    CF_Y_D = { # C_Y_L, F_Y_L\n",
    "        \"aquatic_mammals\": [\"beaver\", \"dolphin\", \"otter\", \"seal\", \"whale\"],\n",
    "        \"fish\": [\"aquarium_fish\", \"flatfish\", \"ray\", \"shark\", \"trout\"],\n",
    "        \"flowers\": [\"orchid\", \"poppy\", \"rose\", \"sunflower\", \"tulip\"],\n",
    "        \"food_containers\": [\"bottle\", \"bowl\", \"can\", \"cup\", \"plate\"],\n",
    "        \"fruit_and_vegetables\": [\"apple\", \"mushroom\", \"orange\", \"pear\", \"sweet_pepper\"],\n",
    "        \"household_electrical_devices\": [\"clock\", \"keyboard\", \"lamp\", \"telephone\", \"television\"],\n",
    "        \"household_furniture\": [\"bed\", \"chair\", \"couch\", \"table\", \"wardrobe\"],\n",
    "        \"insects\": [\"bee\", \"beetle\", \"butterfly\", \"caterpillar\", \"cockroach\"],\n",
    "        \"large_carnivores\": [\"bear\", \"leopard\", \"lion\", \"tiger\", \"wolf\"],\n",
    "        \"large_man-made_outdoor_things\": [\"bridge\", \"castle\", \"house\", \"road\", \"skyscraper\"],\n",
    "        \"large_natural_outdoor_scenes\": [\"cloud\", \"forest\", \"mountain\", \"plain\", \"sea\"],\n",
    "        \"large_omnivores_and_herbivores\": [\"camel\", \"cattle\", \"chimpanzee\", \"elephant\", \"kangaroo\"],\n",
    "        \"medium_mammals\": [\"fox\", \"porcupine\", \"possum\", \"raccoon\", \"skunk\"],\n",
    "        \"non-insect_invertebrates\": [\"crab\", \"lobster\", \"snail\", \"spider\", \"worm\"],\n",
    "        \"people\": [\"baby\", \"boy\", \"girl\", \"man\", \"woman\"],\n",
    "        \"reptiles\": [\"crocodile\", \"dinosaur\", \"lizard\", \"snake\", \"turtle\"],\n",
    "        \"small_mammals\": [\"hamster\", \"mouse\", \"rabbit\", \"shrew\", \"squirrel\"],\n",
    "        \"trees\": [\"maple_tree\", \"oak_tree\", \"palm_tree\", \"pine_tree\", \"willow_tree\"],\n",
    "        \"vehicles_1\": [\"bicycle\", \"bus\", \"motorcycle\", \"pickup_truck\", \"train\"],\n",
    "        \"vehicles_2\": [\"lawn_mower\", \"rocket\", \"streetcar\", \"tank\", \"tractor\"]\n",
    "    }\n",
    "    \n",
    "    #\n",
    "    FC_Y_D = {}\n",
    "    for F_Y_lbl in F_Y_L:\n",
    "        for C_Y_lbl in CF_Y_D:\n",
    "            if F_Y_lbl in CF_Y_D[C_Y_lbl]:\n",
    "                FC_Y_D.update({F_Y_lbl: C_Y_lbl})\n",
    "                break\n",
    "    # key = C_Y_lbl, value = F_Y_lbl\n",
    "    return CF_Y_D, FC_Y_D\n",
    "\n",
    "CF_Y_D, FC_Y_D = CF_Y_map(F_Y_L)"
   ]
  },
  {
   "cell_type": "code",
   "execution_count": 69,
   "metadata": {},
   "outputs": [
    {
     "name": "stdout",
     "output_type": "stream",
     "text": [
      "\n",
      "Связь - 1 ко многим: 20 * 5 = 100 == 100\n",
      "\n",
      "{CF_Y_D} =\n"
     ]
    },
    {
     "data": {
      "text/plain": [
       "{'aquatic_mammals': ['beaver', 'dolphin', 'otter', 'seal', 'whale'],\n",
       " 'fish': ['aquarium_fish', 'flatfish', 'ray', 'shark', 'trout'],\n",
       " 'flowers': ['orchid', 'poppy', 'rose', 'sunflower', 'tulip'],\n",
       " 'food_containers': ['bottle', 'bowl', 'can', 'cup', 'plate'],\n",
       " 'fruit_and_vegetables': ['apple',\n",
       "  'mushroom',\n",
       "  'orange',\n",
       "  'pear',\n",
       "  'sweet_pepper'],\n",
       " 'household_electrical_devices': ['clock',\n",
       "  'keyboard',\n",
       "  'lamp',\n",
       "  'telephone',\n",
       "  'television'],\n",
       " 'household_furniture': ['bed', 'chair', 'couch', 'table', 'wardrobe'],\n",
       " 'insects': ['bee', 'beetle', 'butterfly', 'caterpillar', 'cockroach'],\n",
       " 'large_carnivores': ['bear', 'leopard', 'lion', 'tiger', 'wolf'],\n",
       " 'large_man-made_outdoor_things': ['bridge',\n",
       "  'castle',\n",
       "  'house',\n",
       "  'road',\n",
       "  'skyscraper'],\n",
       " 'large_natural_outdoor_scenes': ['cloud',\n",
       "  'forest',\n",
       "  'mountain',\n",
       "  'plain',\n",
       "  'sea'],\n",
       " 'large_omnivores_and_herbivores': ['camel',\n",
       "  'cattle',\n",
       "  'chimpanzee',\n",
       "  'elephant',\n",
       "  'kangaroo'],\n",
       " 'medium_mammals': ['fox', 'porcupine', 'possum', 'raccoon', 'skunk'],\n",
       " 'non-insect_invertebrates': ['crab', 'lobster', 'snail', 'spider', 'worm'],\n",
       " 'people': ['baby', 'boy', 'girl', 'man', 'woman'],\n",
       " 'reptiles': ['crocodile', 'dinosaur', 'lizard', 'snake', 'turtle'],\n",
       " 'small_mammals': ['hamster', 'mouse', 'rabbit', 'shrew', 'squirrel'],\n",
       " 'trees': ['maple_tree', 'oak_tree', 'palm_tree', 'pine_tree', 'willow_tree'],\n",
       " 'vehicles_1': ['bicycle', 'bus', 'motorcycle', 'pickup_truck', 'train'],\n",
       " 'vehicles_2': ['lawn_mower', 'rocket', 'streetcar', 'tank', 'tractor']}"
      ]
     },
     "execution_count": 69,
     "metadata": {},
     "output_type": "execute_result"
    }
   ],
   "source": [
    "len_CF_Y_D   = len(CF_Y_D)\n",
    "len_CF_Y_D_0 = len(CF_Y_D[\"aquatic_mammals\"]) # [0] = i (all, any)\n",
    "print()\n",
    "print(\"Связь - 1 ко многим:\", \"20 * 5 =\", 20 * 5, \"==\", len_CF_Y_D * len_CF_Y_D_0)\n",
    "print(\"\\n{CF_Y_D} =\")\n",
    "CF_Y_D"
   ]
  },
  {
   "cell_type": "code",
   "execution_count": 70,
   "metadata": {},
   "outputs": [
    {
     "name": "stdout",
     "output_type": "stream",
     "text": [
      "Связь - 1 к 1: 100 * 1 = 100 == 100\n",
      "\n",
      "{FC_Y_D} =\n"
     ]
    },
    {
     "data": {
      "text/plain": [
       "{'apple': 'fruit_and_vegetables',\n",
       " 'aquarium_fish': 'fish',\n",
       " 'baby': 'people',\n",
       " 'bear': 'large_carnivores',\n",
       " 'beaver': 'aquatic_mammals',\n",
       " 'bed': 'household_furniture',\n",
       " 'bee': 'insects',\n",
       " 'beetle': 'insects',\n",
       " 'bicycle': 'vehicles_1',\n",
       " 'bottle': 'food_containers',\n",
       " 'bowl': 'food_containers',\n",
       " 'boy': 'people',\n",
       " 'bridge': 'large_man-made_outdoor_things',\n",
       " 'bus': 'vehicles_1',\n",
       " 'butterfly': 'insects',\n",
       " 'camel': 'large_omnivores_and_herbivores',\n",
       " 'can': 'food_containers',\n",
       " 'castle': 'large_man-made_outdoor_things',\n",
       " 'caterpillar': 'insects',\n",
       " 'cattle': 'large_omnivores_and_herbivores',\n",
       " 'chair': 'household_furniture',\n",
       " 'chimpanzee': 'large_omnivores_and_herbivores',\n",
       " 'clock': 'household_electrical_devices',\n",
       " 'cloud': 'large_natural_outdoor_scenes',\n",
       " 'cockroach': 'insects',\n",
       " 'couch': 'household_furniture',\n",
       " 'crab': 'non-insect_invertebrates',\n",
       " 'crocodile': 'reptiles',\n",
       " 'cup': 'food_containers',\n",
       " 'dinosaur': 'reptiles',\n",
       " 'dolphin': 'aquatic_mammals',\n",
       " 'elephant': 'large_omnivores_and_herbivores',\n",
       " 'flatfish': 'fish',\n",
       " 'forest': 'large_natural_outdoor_scenes',\n",
       " 'fox': 'medium_mammals',\n",
       " 'girl': 'people',\n",
       " 'hamster': 'small_mammals',\n",
       " 'house': 'large_man-made_outdoor_things',\n",
       " 'kangaroo': 'large_omnivores_and_herbivores',\n",
       " 'keyboard': 'household_electrical_devices',\n",
       " 'lamp': 'household_electrical_devices',\n",
       " 'lawn_mower': 'vehicles_2',\n",
       " 'leopard': 'large_carnivores',\n",
       " 'lion': 'large_carnivores',\n",
       " 'lizard': 'reptiles',\n",
       " 'lobster': 'non-insect_invertebrates',\n",
       " 'man': 'people',\n",
       " 'maple_tree': 'trees',\n",
       " 'motorcycle': 'vehicles_1',\n",
       " 'mountain': 'large_natural_outdoor_scenes',\n",
       " 'mouse': 'small_mammals',\n",
       " 'mushroom': 'fruit_and_vegetables',\n",
       " 'oak_tree': 'trees',\n",
       " 'orange': 'fruit_and_vegetables',\n",
       " 'orchid': 'flowers',\n",
       " 'otter': 'aquatic_mammals',\n",
       " 'palm_tree': 'trees',\n",
       " 'pear': 'fruit_and_vegetables',\n",
       " 'pickup_truck': 'vehicles_1',\n",
       " 'pine_tree': 'trees',\n",
       " 'plain': 'large_natural_outdoor_scenes',\n",
       " 'plate': 'food_containers',\n",
       " 'poppy': 'flowers',\n",
       " 'porcupine': 'medium_mammals',\n",
       " 'possum': 'medium_mammals',\n",
       " 'rabbit': 'small_mammals',\n",
       " 'raccoon': 'medium_mammals',\n",
       " 'ray': 'fish',\n",
       " 'road': 'large_man-made_outdoor_things',\n",
       " 'rocket': 'vehicles_2',\n",
       " 'rose': 'flowers',\n",
       " 'sea': 'large_natural_outdoor_scenes',\n",
       " 'seal': 'aquatic_mammals',\n",
       " 'shark': 'fish',\n",
       " 'shrew': 'small_mammals',\n",
       " 'skunk': 'medium_mammals',\n",
       " 'skyscraper': 'large_man-made_outdoor_things',\n",
       " 'snail': 'non-insect_invertebrates',\n",
       " 'snake': 'reptiles',\n",
       " 'spider': 'non-insect_invertebrates',\n",
       " 'squirrel': 'small_mammals',\n",
       " 'streetcar': 'vehicles_2',\n",
       " 'sunflower': 'flowers',\n",
       " 'sweet_pepper': 'fruit_and_vegetables',\n",
       " 'table': 'household_furniture',\n",
       " 'tank': 'vehicles_2',\n",
       " 'telephone': 'household_electrical_devices',\n",
       " 'television': 'household_electrical_devices',\n",
       " 'tiger': 'large_carnivores',\n",
       " 'tractor': 'vehicles_2',\n",
       " 'train': 'vehicles_1',\n",
       " 'trout': 'fish',\n",
       " 'tulip': 'flowers',\n",
       " 'turtle': 'reptiles',\n",
       " 'wardrobe': 'household_furniture',\n",
       " 'whale': 'aquatic_mammals',\n",
       " 'willow_tree': 'trees',\n",
       " 'wolf': 'large_carnivores',\n",
       " 'woman': 'people',\n",
       " 'worm': 'non-insect_invertebrates'}"
      ]
     },
     "execution_count": 70,
     "metadata": {},
     "output_type": "execute_result"
    }
   ],
   "source": [
    "len_FC_Y_D = len(FC_Y_D)\n",
    "print(\"Связь - 1 к 1:\", \"100 * 1 =\", 100 * 1, \"==\", len_FC_Y_D)\n",
    "print(\"\\n{FC_Y_D} =\")\n",
    "FC_Y_D"
   ]
  },
  {
   "cell_type": "raw",
   "metadata": {},
   "source": [
    "double = lambda x: x * 2\n",
    "x_a = double(1)\n",
    "print(\"x_a =\", x_a, \"# lambda\") # = 2\n",
    "\n",
    "def double(x):\n",
    "    res = x * 2\n",
    "    return res\n",
    "x_b = double(1)\n",
    "print(\"x_b =\", x_b, \"# define\") # = 2"
   ]
  },
  {
   "cell_type": "code",
   "execution_count": 71,
   "metadata": {},
   "outputs": [
    {
     "name": "stdout",
     "output_type": "stream",
     "text": [
      "FC_Y_D[0] = apple : fruit_and_vegetables\n"
     ]
    }
   ],
   "source": [
    "def find_C_of_F_Y(i):\n",
    "    C_Y_i = FC_Y_D[F_Y_L[i]]\n",
    "    return C_Y_i\n",
    "\n",
    "#find_C_of_F_Y = lambda i: FC_Y_D[F_Y_L[i]] # <function __main__.<lambda>(i)>\n",
    "\n",
    "F_Y_i = 0\n",
    "C_Y_i = find_C_of_F_Y(F_Y_i)\n",
    "print(\"FC_Y_D[\" + str(F_Y_i) + \"] =\", F_Y_L[F_Y_i], ':', C_Y_i) #\n",
    "# FC_Y_D = {'apple': 'fruit_and_vegetables', ... }"
   ]
  },
  {
   "cell_type": "code",
   "execution_count": 72,
   "metadata": {
    "scrolled": true
   },
   "outputs": [
    {
     "name": "stdout",
     "output_type": "stream",
     "text": [
      "len_     F_Y_Predictions = 10000\n",
      "len_C_of_F_Y_Predictions = 10000\n",
      "\n",
      "Type  of [C_of_F_Y_Predictions]: <class 'numpy.ndarray'>\n",
      "\n",
      "Shape of [C_of_F_Y_Predictions]: (10000,)\n",
      "\n",
      "[C_of_F_Y_Predictions] =\n"
     ]
    },
    {
     "data": {
      "text/plain": [
       "array(['aquatic_mammals', 'trees', 'large_omnivores_and_herbivores', ...,\n",
       "       'fruit_and_vegetables', 'large_carnivores', 'flowers'],\n",
       "      dtype='<U30')"
      ]
     },
     "execution_count": 72,
     "metadata": {},
     "output_type": "execute_result"
    }
   ],
   "source": [
    "len_F_Y_Predictions = len(F_Y_Predictions) # = C_Y_Predictions = _Y_Test\n",
    "print(\"len_     F_Y_Predictions =\", len_F_Y_Predictions)\n",
    "\n",
    "### to_list ?\n",
    "#CF_Y_Predictions = np.zeros_like(F_Y_Predictions) # empty_like\n",
    "#CF_Y_Predictions = np.full(len_F_Y_Predictions, '          ')\n",
    "#for i in range(n_F_Y):\n",
    "#    CF_Y_Predictions[i] = find_C_of_F_Y(i)\n",
    "#    print(CF_Y_Predictions[i])\n",
    "###\n",
    "\n",
    "C_of_F_Y_Predictions = np.array([find_C_of_F_Y(i) for i in F_Y_Predictions]) #\n",
    "\n",
    "len_C_of_F_Y_Predictions = len(C_of_F_Y_Predictions)\n",
    "print(\"len_C_of_F_Y_Predictions =\", len_C_of_F_Y_Predictions) # ==\n",
    "\n",
    "print(\"\\nType  of [C_of_F_Y_Predictions]:\", type(C_of_F_Y_Predictions)) # = <class 'numpy.ndarray'>\n",
    "print(\"\\nShape of [C_of_F_Y_Predictions]:\", C_of_F_Y_Predictions.shape) # = (10000,)\n",
    "print(\"\\n[C_of_F_Y_Predictions] =\")\n",
    "C_of_F_Y_Predictions\n",
    "# = array(['aquatic_mammals', 'trees', 'large_omnivores_and_herbivores', ...,\n",
    "#       'fruit_and_vegetables', 'large_carnivores', 'flowers'],\n",
    "#      dtype='<U30')"
   ]
  },
  {
   "cell_type": "code",
   "execution_count": 73,
   "metadata": {},
   "outputs": [
    {
     "name": "stdout",
     "output_type": "stream",
     "text": [
      "\n",
      "[C_of_F_Y_Predictions_txt] =\n",
      "['aquatic_mammals' 'trees' 'large_omnivores_and_herbivores' ...\n",
      " 'fruit_and_vegetables' 'large_carnivores' 'flowers']\n"
     ]
    }
   ],
   "source": [
    "C_of_F_Y_Predictions_txt = C_of_F_Y_Predictions\n",
    "print(\"\\n[C_of_F_Y_Predictions_txt] =\")\n",
    "print(C_of_F_Y_Predictions_txt)"
   ]
  },
  {
   "cell_type": "code",
   "execution_count": 74,
   "metadata": {},
   "outputs": [
    {
     "name": "stdout",
     "output_type": "stream",
     "text": [
      "len_C_of_F_Y_Predictions_nmb = 10000\n",
      "\n",
      "Type  of [C_of_F_Y_Predictions_nmb]: <class 'list'>\n",
      "\n",
      "[C_of_F_Y_Predictions_nmb] =\n",
      "[0, 17, 11, 18, 4, 11, 11, 0, 10, 4, 5, 1, 18, 19, 3, 11, 2, 8, 2, 2, 2, 10, 12, 17, 11, 3, 5, 18, 8, 3, 6, 5, 19, 1, 17, 11, 13, 14, 6, 9, 0, 4, 10, 0, 17, 5, 2, 18, 11, 4, 0, 7, 4, 4, 14, 1, 10, 17, 8, 0, 9, 1, 11, 15, 13, 6, 8, 2, 12, 2, 12, 19, 3, 1, 15, 14, 2, 3, 2, 13, 10, 6, 2, 8, 1, 18, 17, 17, 16, 1, 11, 3, 0, 11, 18, 11, 15, 7, 9, 17, 7, 4, 17, 0, 0, 19, 9, 9, 4, 17, 6, 6, 1, 4, 13, 10, 9, 8, 5, 17, 19, 6, 16, 2, 17, 6, 8, 11, 2, 14, 3, 3, 18, 5, 11, 1, 10, 8, 17, 10, 0, 14, 17, 0, 8, 0, 6, 5, 15, 18, 19, 8, 0, 9, 13, 11, 19, 6, 7, 8, 16, 18, 19, 5, 11, 17, 2, 13, 12, 4, 3, 10, 10, 13, 0, 13, 12, 0, 4, 3, 10, 12, 6, 13, 10, 3, 14, 0, 17, 2, 9, 12, 13, 19, 6, 3, 18, 8, 7, 5, 7, 5, 9, 10, 7, 10, 19, 11, 16, 12, 15, 14, 10, 10, 9, 17, 4, 0, 4, 19, 6, 9, 3, 13, 9, 7, 4, 9, 16, 10, 17, 4, 17, 7, 16, 2, 8, 8, 2, 11, 10, 7, 12, 12, 14, 2, 16, 15, 0, 5, 1, 3, 11, 3, 7, 11, 9, 12, 13, 8, 16, 9, 18, 11, 11, 1, 5, 1, 4, 1, 3, 4, 17, 4, 8, 1, 1, 3, 19, 2, 15, 5, 3, 19, 1, 0, 16, 11, 8, 4, 15, 8, 3, 15, 17, 9, 3, 5, 17, 18, 10, 19, 5, 7, 5, 11, 9, 11, 3, 3, 12, 7, 19, 17, 16, 1, 19, 11, 14, 18, 9, 11, 14, 1, 19, 4, 4, 2, 6, 17, 10, 8, 10, 2, 16, 10, 1, 1, 2, 15, 5, 2, 9, 1, 1, 12, 14, 7, 19, 6, 9, 12, 10, 19, 18, 5, 17, 10, 14, 11, 1, 5, 18, 6, 12, 3, 8, 2, 9, 11, 11, 10, 3, 11, 9, 6, 7, 4, 6, 11, 13, 7, 19, 0, 19, 8, 15, 0, 19, 16, 13, 4, 11, 0, 11, 8, 12, 9, 17, 1, 3, 12, 14, 10, 7, 4, 0, 3, 12, 12, 5, 17, 10, 9, 0, 8, 16, 19, 2, 0, 11, 19, 7, 17, 10, 8, 13, 5, 0, 5, 6, 15, 19, 11, 14, 4, 11, 3, 3, 1, 3, 5, 10, 19, 2, 19, 12, 0, 17, 18, 3, 14, 13, 19, 16, 5, 16, 15, 18, 6, 5, 5, 19, 5, 2, 13, 17, 9, 7, 4, 13, 8, 13, 11, 1, 2, 10, 8, 0, 6, 19, 12, 12, 14, 4, 1, 15, 5, 1, 0, 8, 10, 10, 0, 16, 0, 4, 11, 19, 10, 15, 16, 18, 14, 12, 19, 11, 11, 17, 15, 9, 14, 16, 1, 2, 4, 1, 14, 2, 2, 11, 6, 12, 9, 2, 3, 0, 8, 10, 7, 18, 12, 18, 3, 14, 9, 9, 11, 1, 1, 0, 4, 14, 16, 1, 15, 19, 16, 10, 7, 10, 14, 19, 0, 18, 8, 2, 15, 12, 17, 0, 8, 6, 2, 11, 10, 11, 13, 13, 11, 4, 9, 18, 14, 13, 10, 16, 12, 18, 1, 13, 5, 7, 2, 4, 19, 2, 11, 6, 14, 17, 19, 1, 17, 3, 19, 7, 1, 1, 5, 14, 0, 4, 3, 17, 14, 12, 14, 12, 13, 5, 2, 19, 3, 4, 2, 3, 4, 16, 18, 10, 13, 6, 4, 9, 16, 18, 12, 15, 2, 19, 10, 8, 5, 2, 10, 2, 1, 3, 6, 19, 11, 19, 19, 18, 2, 19, 6, 11, 5, 11, 12, 19, 0, 12, 14, 7, 6, 17, 12, 0, 18, 6, 0, 5, 2, 9, 12, 6, 11, 0, 0, 4, 0, 1, 3, 13, 1, 8, 9, 4, 7, 1, 2, 8, 15, 7, 11, 10, 10, 0, 8, 5, 2, 12, 0, 16, 6, 1, 18, 14, 8, 0, 3, 16, 8, 0, 9, 13, 18, 16, 10, 8, 1, 2, 4, 11, 11, 10, 12, 13, 9, 10, 5, 14, 15, 3, 12, 2, 11, 3, 7, 18, 9, 6, 8, 19, 11, 4, 4, 0, 4, 0, 3, 3, 19, 15, 7, 16, 2, 16, 7, 13, 4, 0, 10, 7, 14, 1, 1, 19, 6, 17, 10, 14, 16, 2, 9, 2, 18, 9, 3, 0, 7, 7, 12, 2, 12, 19, 4, 9, 0, 4, 13, 5, 10, 5, 19, 2, 4, 18, 12, 13, 4, 11, 10, 18, 8, 2, 12, 1, 10, 14, 11, 13, 15, 5, 4, 19, 8, 4, 11, 17, 17, 12, 15, 7, 3, 1, 7, 8, 0, 18, 5, 10, 14, 2, 3, 15, 10, 4, 2, 8, 11, 4, 10, 10, 10, 0, 18, 6, 17, 14, 12, 17, 16, 11, 11, 4, 11, 14, 7, 11, 10, 8, 4, 1, 2, 7, 5, 13, 17, 3, 1, 3, 6, 16, 9, 7, 4, 9, 1, 8, 4, 1, 13, 7, 0, 2, 17, 5, 3, 17, 12, 2, 13, 1, 14, 10, 19, 6, 7, 18, 15, 17, 9, 13, 3, 10, 0, 0, 19, 11, 5, 10, 3, 9, 3, 19, 8, 1, 5, 18, 17, 17, 1, 14, 6, 7, 11, 4, 10, 9, 18, 17, 17, 16, 17, 4, 9, 14, 10, 7, 9, 5, 10, 13, 12, 2, 13, 10, 1, 2, 17, 10, 12, 18, 4, 18, 17, 17, 10, 8, 12, 3, 6, 10, 9, 0, 12, 16, 17, 3, 4, 7, 10, 9, 17, 1, 12, 10, 12, 10, 7, 0, 19, 4, 19, 2, 14, 14, 8, 12, 10, 6, 3, 11, 16, 14, 7, 10, 17, 11, 0, 13, 1, 16, 17, 4, 1, 3, 10, 6, 4, 11, 14, 14, 7, 0, 2, 4, 10, 14, 12, 4, 3, 9, 11, 16, 15, 1, 17, 8, 19, 10, 19, 8, 4, 11, 19, 1, 5, 2, 12, 18, 13, 18, 1, 0, 0, 3, 3, 2, 19, 10, 9, 0, 14, 8, 1, 7, 9, 16, 0, 6, 11, 18, 15, 10, 16, 11, 8, 4, 10, 10, 16, 10, 16, 19, 11, 3, 0, 3, 16, 19, 3, 6, 16, 7, 11, 7, 18, 1, 18, 0, 11, 10, 19, 17, 17, 7, 15, 9, 15, 17, 2, 18, 4, 0, 9, 1, 11, 16, 12, 9, 10, 3, 10, 12, 10, 4, 4, 15, 19, 14, 2, 6, 1, 7, 6, 11, 10, 2, 13, 16, 15, 14, 5, 18, 10, 3, 1, 17, 15, 10, 19, 4, 2, 2, 15, 16, 6, 6, 5, 17, 18, 8, 4, 9, 0, 5, 11, 14, 9, 12, 18, 0, 2, 17, 2, 2, 17, 7, 1, 1, 17, 5, 7, 1, 16, 11, 2, 3, 14, 17, 12, 11, 13, 10, 12, 19, 12, 12, 8, 12, 0, 12, 19, 9, 15, 11, 13, 11, 4, 10, 1, 8, 11, 17, 11, 11, 13, 11, 16, 4, 10, 6, 15, 19, 2, 19, 0, 18, 10, 13, 13, 11, 11, 19, 10, 5, 3, 13, 10, 8, 2, 11, 5, 16, 15, 12, 2, 7, 7, 11, 11, 2, 17, 14, 14, 7, 17, 9, 3, 7, 2, 3, 9, 15, 3, 4, 17, 1, 16, 8, 4, 3, 1, 4, 14, 19, 19, 1, 3, 15, 4, 16, 13, 17, 6, 14, 18, 12, 11, 6, 17, 10, 18, 2, 15, 10, 11, 19, 8, 18, 1, 19, 14, 5, 19, 7, 10, 17, 10, 14, 11, 9, 12, 10, 2, 11, 16, 11, 15, 4, 16, 7, 10, 4, 16, 4, 11, 15, 11, 6, 2, 7, 2, 3, 13, 12, 2, 10, 14, 18, 8, 1, 5, 7, 5, 1, 6, 13, 6, 11, 17, 11, 12, 2, 3, 13, 6, 8, 16, 17, 16, 17, 15, 14, 8, 7, 14, 13, 0, 10, 9, 6, 17, 9, 19, 17, 19, 6, 18, 9, 8, 0, 5, 4, 17, 7, 4, 19, 4, 8, 1, 8, 0, 19, 0, 4, 10, 11, 14, 17, 15, 15, 10, 16, 6, 16, 19, 6, 10, 9, 17, 9, 8, 18, 14, 10, 2, 5, 16, 18, 16, 9, 11, 3, 8, 3, 12, 9, 6, 0, 6, 4, 17, 6, 3, 13, 9, 3, 8, 17, 8, 4, 18, 5, 1, 1, 1, 7, 8, 6, 9, 1, 0, 3, 15, 11, 4, 7, 15, 14, 5, 13, 7, 11, 3, 11, 17, 11, 9, 1, 11, 2, 16, 9, 3, 3, 14, 16, 2, 6, 10, 0, 12, 14, 18, 3, 6, 2, 13, 11, 5, 13, 0, 18, 14, 7, 1, 11, 17, 2, 4, 3, 16, 5, 5, 16, 4, 3, 12, 2, 5, 3, 17, 8, 5, 14, 17, 16, 18, 2, 7, 13, 18, 6, 7, 11, 16, 1, 0, 3, 11, 18, 11, 7, 16, 12, 0, 19, 11, 12, 6, 2, 8, 5, 6, 0, 12, 12, 7, 19, 17, 2, 4, 9, 1, 3, 14, 2, 2, 17, 18, 1, 0, 6, 12, 7, 10, 9, 1, 5, 0, 19, 3, 17, 5, 3, 6, 3, 9, 11, 17, 17, 8, 18, 8, 11, 18, 8, 9, 4, 17, 9, 0, 4, 6, 10, 7, 17, 10, 12, 11, 18, 15, 15, 4, 3, 12, 3, 10, 3, 8, 17, 12, 2, 5, 10, 11, 9, 2, 9, 7, 10, 8, 4, 1, 6, 17, 13, 11, 9, 15, 6, 9, 1, 11, 8, 3, 11, 12, 19, 3, 12, 19, 4, 3, 2, 2, 12, 5, 8, 6, 17, 4, 10, 9, 17, 6, 10, 12, 1, 14, 13, 10, 2, 18, 4, 10, 6, 17, 13, 0, 18, 6, 2, 17, 9, 16, 18, 1, 5, 14, 9, 1, 0, 3, 12, 18, 8, 14, 18, 6, 14, 4, 0, 7, 3, 17, 6, 10, 9, 19, 12, 0, 15, 15, 5, 6, 10, 5, 14, 10, 5, 0, 12, 7, 3, 5, 4, 3, 0, 1, 4, 8, 17, 9, 7, 7, 6, 2, 3, 11, 15, 5, 17, 17, 3, 19, 0, 11, 17, 10, 2, 0, 1, 5, 16, 7, 11, 19, 6, 19, 9, 17, 4, 15, 6, 19, 2, 4, 1, 19, 8, 16, 10, 10, 1, 16, 8, 17, 11, 8, 9, 13, 14, 1, 2, 11, 16, 17, 15, 4, 5, 18, 1, 1, 9, 13, 6, 15, 17, 12, 9, 11, 14, 11, 1, 2, 10, 4, 5, 6, 5, 15, 8, 5, 6, 4, 2, 1, 12, 12, 13, 18, 2, 12, 14, 16, 1, 17, 7, 13, 11, 6, 5, 5, 1, 8, 4, 6, 13, 13, 3, 11, 2, 9, 0, 3, 16, 13, 4, 9, 1, 6, 0, 18, 17, 0, 10, 14, 8, 19, 11, 6, 0, 5, 10, 16, 7, 12, 1, 3, 13, 12, 11, 11, 6, 14, 0, 11, 4, 17, 17, 3, 10, 4, 10, 7, 6, 4, 11, 12, 3, 4, 2, 15, 4, 13, 15, 9, 12, 8, 9, 7, 4, 9, 13, 17, 5, 16, 7, 0, 9, 8, 3, 2, 10, 17, 7, 7, 9, 3, 12, 11, 17, 3, 13, 11, 17, 3, 17, 15, 10, 6, 16, 6, 3, 10, 12, 18, 11, 8, 1, 11, 16, 19, 16, 8, 17, 16, 13, 4, 8, 6, 17, 5, 3, 7, 6, 15, 1, 19, 14, 12, 1, 1, 0, 5, 16, 16, 12, 15, 19, 6, 6, 12, 9, 11, 12, 7, 0, 10, 19, 11, 12, 2, 10, 11, 10, 5, 8, 12, 4, 2, 19, 16, 3, 8, 0, 15, 0, 19, 18, 0, 14, 14, 9, 9, 5, 2, 18, 3, 10, 11, 0, 14, 12, 14, 3, 13, 8, 15, 12, 1, 9, 2, 4, 19, 10, 16, 9, 11, 2, 14, 1, 16, 1, 13, 4, 17, 0, 1, 12, 7, 2, 18, 14, 11, 7, 5, 10, 18, 11, 8, 16, 19, 6, 19, 17, 18, 4, 11, 0, 5, 4, 8, 10, 11, 16, 17, 6, 17, 12, 3, 8, 5, 12, 12, 10, 10, 0, 7, 12, 0, 4, 11, 9, 4, 6, 12, 8, 9, 18, 13, 6, 4, 3, 19, 13, 5, 3, 6, 1, 2, 11, 11, 15, 6, 0, 6, 9, 0, 6, 17, 4, 1, 8, 10, 11, 13, 1, 3, 5, 1, 18, 14, 18, 19, 11, 4, 13, 19, 19, 11, 6, 19, 0, 10, 12, 1, 17, 2, 7, 0, 3, 11, 3, 3, 6, 19, 5, 4, 14, 5, 6, 3, 11, 1, 16, 18, 6, 10, 8, 2, 0, 17, 12, 0, 11, 7, 17, 15, 2, 8, 7, 0, 17, 13, 6, 9, 3, 12, 2, 9, 11, 17, 12, 6, 5, 13, 10, 10, 1, 8, 6, 15, 9, 19, 16, 0, 16, 4, 3, 3, 9, 19, 0, 15, 11, 17, 11, 13, 16, 8, 12, 5, 12, 17, 12, 5, 7, 5, 10, 1, 6, 19, 17, 7, 13, 18, 2, 7, 5, 10, 1, 2, 1, 8, 16, 4, 15, 11, 7, 6, 19, 8, 12, 12, 14, 13, 15, 1, 1, 1, 11, 7, 11, 15, 17, 17, 2, 10, 9, 15, 4, 4, 3, 10, 19, 2, 1, 5, 3, 10, 17, 8, 9, 4, 9, 17, 6, 4, 13, 10, 6, 2, 17, 1, 12, 1, 8, 14, 7, 11, 12, 6, 17, 4, 13, 9, 2, 7, 12, 19, 16, 2, 1, 11, 16, 17, 10, 9, 10, 11, 17, 9, 14, 11, 5, 2, 3, 10, 5, 10, 9, 4, 8, 12, 5, 13, 10, 1, 11, 10, 13, 7, 11, 1, 17, 2, 7, 11, 14, 13, 6, 1, 9, 18, 1, 9, 0, 1, 0, 3, 2, 8, 10, 4, 7, 11, 4, 10, 12, 3, 1, 1, 12, 8, 12, 2, 7, 16, 0, 14, 15, 12, 9, 1, 5, 0, 19, 17, 12, 12, 16, 12, 11, 15, 6, 0, 7, 8, 11, 18, 6, 19, 5, 7, 9, 9, 15, 4, 18, 1, 6, 17, 19, 1, 6, 17, 16, 13, 14, 11, 14, 3, 16, 14, 10, 19, 3, 8, 18, 16, 3, 10, 2, 14, 17, 16, 17, 1, 2, 10, 17, 10, 2, 10, 5, 10, 4, 7, 16, 8, 9, 5, 11, 18, 11, 0, 12, 2, 4, 14, 14, 3, 4, 7, 6, 1, 13, 6, 1, 9, 16, 9, 12, 9, 1, 6, 1, 7, 3, 10, 0, 12, 15, 3, 14, 2, 8, 0, 8, 14, 0, 2, 19, 7, 8, 5, 7, 1, 11, 4, 11, 2, 18, 12, 9, 0, 10, 19, 12, 11, 10, 19, 16, 10, 10, 17, 19, 10, 16, 8, 4, 18, 8, 10, 19, 9, 6, 9, 9, 14, 5, 17, 10, 3, 16, 19, 10, 19, 9, 1, 15, 1, 3, 3, 4, 16, 9, 19, 2, 19, 12, 11, 11, 12, 1, 4, 10, 15, 3, 13, 1, 11, 2, 17, 15, 5, 15, 6, 15, 15, 10, 9, 10, 10, 5, 12, 12, 2, 12, 4, 15, 10, 3, 10, 14, 8, 11, 16, 18, 6, 5, 4, 2, 2, 5, 8, 12, 7, 19, 12, 9, 19, 17, 7, 7, 16, 1, 10, 6, 11, 1, 4, 7, 6, 6, 10, 19, 1, 5, 3, 10, 7, 11, 18, 1, 1, 17, 13, 5, 0, 11, 16, 6, 15, 19, 2, 4, 14, 11, 16, 1, 3, 14, 1, 17, 0, 6, 16, 12, 11, 0, 15, 16, 10, 16, 1, 18, 12, 1, 7, 17, 17, 7, 17, 19, 16, 12, 9, 19, 3, 14, 19, 10, 16, 12, 2, 0, 2, 11, 7, 4, 19, 10, 6, 16, 1, 17, 0, 16, 11, 12, 0, 9, 6, 19, 7, 6, 10, 2, 2, 6, 12, 6, 14, 17, 1, 5, 19, 4, 8, 5, 10, 12, 12, 16, 15, 5, 2, 3, 12, 1, 3, 19, 3, 16, 4, 2, 4, 10, 4, 18, 0, 9, 9, 11, 12, 11, 8, 8, 19, 6, 10, 10, 16, 9, 6, 12, 6, 9, 3, 1, 19, 0, 11, 9, 15, 17, 0, 18, 7, 9, 5, 10, 10, 0, 16, 17, 10, 5, 16, 5, 16, 2, 8, 15, 1, 9, 4, 0, 4, 17, 9, 15, 7, 4, 17, 1, 11, 8, 7, 11, 17, 12, 13, 6, 13, 12, 10, 7, 19, 7, 15, 17, 1, 0, 1, 2, 3, 13, 4, 8, 10, 14, 18, 2, 4, 7, 3, 1, 6, 4, 5, 6, 16, 10, 12, 0, 9, 8, 4, 4, 12, 17, 17, 6, 13, 2, 8, 6, 0, 10, 12, 10, 10, 3, 9, 2, 2, 6, 5, 1, 6, 8, 16, 3, 12, 4, 16, 12, 17, 13, 15, 3, 2, 9, 3, 11, 11, 19, 10, 7, 13, 11, 16, 11, 18, 0, 8, 14, 6, 13, 11, 9, 10, 3, 17, 4, 9, 2, 7, 6, 7, 12, 7, 11, 14, 11, 4, 12, 6, 3, 11, 16, 19, 15, 11, 14, 9, 17, 17, 14, 12, 2, 10, 18, 5, 15, 17, 17, 1, 15, 9, 2, 16, 9, 17, 4, 5, 2, 11, 18, 16, 11, 8, 1, 4, 11, 6, 7, 1, 10, 8, 11, 14, 16, 10, 12, 6, 12, 18, 2, 11, 16, 5, 19, 11, 9, 18, 15, 11, 10, 11, 8, 17, 0, 9, 14, 14, 5, 4, 17, 12, 15, 15, 11, 7, 6, 1, 11, 0, 11, 6, 10, 19, 11, 2, 9, 11, 11, 3, 1, 14, 4, 12, 16, 7, 13, 6, 13, 12, 14, 1, 1, 6, 2, 5, 19, 7, 1, 17, 3, 13, 12, 5, 0, 3, 5, 15, 8, 3, 4, 1, 12, 10, 19, 7, 14, 9, 14, 10, 11, 1, 16, 4, 3, 14, 0, 4, 11, 10, 7, 12, 1, 14, 11, 10, 2, 6, 8, 18, 13, 19, 9, 10, 16, 12, 8, 11, 18, 18, 4, 7, 11, 1, 10, 11, 10, 18, 12, 2, 8, 5, 5, 0, 5, 15, 18, 11, 9, 15, 12, 0, 15, 11, 2, 14, 18, 19, 4, 5, 15, 4, 9, 13, 14, 0, 0, 1, 4, 9, 14, 19, 7, 1, 6, 17, 10, 12, 19, 19, 8, 3, 5, 6, 19, 5, 9, 6, 12, 5, 4, 7, 7, 3, 0, 2, 11, 6, 9, 7, 5, 0, 19, 13, 12, 6, 8, 7, 17, 2, 9, 3, 10, 2, 15, 1, 12, 2, 11, 5, 0, 5, 10, 11, 4, 4, 3, 8, 14, 15, 2, 8, 16, 5, 3, 11, 1, 12, 1, 10, 11, 0, 7, 4, 1, 11, 5, 19, 14, 0, 8, 6, 5, 6, 10, 11, 17, 0, 1, 6, 0, 10, 14, 16, 16, 9, 17, 9, 8, 9, 18, 11, 12, 3, 0, 10, 2, 19, 12, 12, 11, 8, 12, 19, 13, 18, 19, 16, 6, 14, 13, 9, 1, 16, 8, 19, 18, 17, 7, 9, 3, 2, 8, 5, 10, 6, 9, 10, 4, 7, 6, 15, 3, 17, 13, 1, 13, 6, 13, 2, 17, 8, 10, 0, 11, 11, 14, 5, 6, 2, 0, 13, 18, 0, 3, 13, 13, 6, 18, 18, 13, 5, 18, 16, 9, 17, 10, 8, 19, 10, 5, 1, 4, 18, 3, 3, 16, 5, 9, 1, 12, 12, 13, 7, 13, 10, 16, 16, 17, 11, 14, 13, 8, 5, 15, 14, 13, 6, 18, 0, 15, 3, 6, 13, 3, 7, 18, 10, 4, 10, 6, 10, 11, 15, 4, 6, 12, 15, 10, 1, 5, 7, 1, 17, 19, 17, 3, 1, 7, 2, 2, 8, 0, 7, 3, 14, 13, 14, 3, 0, 13, 9, 5, 11, 1, 10, 10, 1, 7, 4, 12, 16, 18, 3, 3, 6, 12, 10, 16, 2, 8, 9, 0, 18, 9, 16, 4, 8, 8, 5, 3, 6, 5, 16, 13, 1, 18, 4, 18, 10, 4, 19, 8, 2, 8, 9, 6, 12, 19, 4, 11, 8, 5, 11, 7, 0, 18, 7, 2, 18, 6, 11, 0, 16, 11, 9, 7, 13, 2, 8, 10, 11, 15, 13, 10, 14, 6, 2, 1, 0, 19, 16, 14, 11, 2, 17, 11, 11, 2, 18, 1, 6, 10, 7, 19, 4, 10, 4, 17, 16, 4, 19, 7, 2, 18, 17, 9, 11, 9, 11, 12, 4, 6, 3, 2, 6, 13, 2, 10, 0, 1, 10, 17, 10, 11, 17, 6, 12, 7, 12, 10, 4, 9, 4, 3, 9, 12, 10, 9, 10, 9, 15, 4, 12, 1, 3, 17, 17, 10, 18, 14, 11, 17, 10, 2, 8, 1, 7, 9, 18, 5, 3, 12, 14, 17, 1, 18, 16, 7, 14, 0, 10, 16, 15, 6, 8, 10, 15, 0, 4, 12, 1, 6, 11, 4, 15, 8, 15, 5, 5, 3, 2, 4, 7, 2, 9, 12, 16, 4, 11, 4, 13, 3, 2, 7, 9, 5, 18, 0, 14, 11, 7, 0, 1, 11, 14, 16, 14, 11, 18, 16, 17, 18, 10, 7, 18, 3, 14, 18, 8, 18, 17, 16, 19, 15, 9, 4, 10, 19, 0, 18, 2, 5, 5, 7, 4, 18, 11, 19, 11, 6, 14, 3, 9, 10, 3, 17, 5, 19, 8, 10, 0, 10, 14, 17, 17, 8, 16, 5, 1, 4, 3, 11, 18, 4, 19, 3, 10, 19, 11, 0, 14, 9, 2, 2, 3, 1, 11, 18, 12, 12, 6, 15, 9, 10, 11, 13, 14, 14, 0, 1, 6, 15, 3, 12, 12, 17, 2, 1, 10, 12, 13, 19, 7, 4, 1, 16, 17, 5, 19, 13, 0, 9, 5, 1, 18, 4, 17, 6, 10, 15, 15, 3, 2, 19, 11, 3, 18, 16, 7, 11, 12, 12, 0, 15, 8, 1, 12, 9, 4, 16, 15, 3, 19, 10, 7, 12, 18, 7, 11, 10, 2, 8, 19, 10, 5, 11, 16, 17, 8, 18, 14, 12, 2, 16, 5, 12, 5, 19, 2, 10, 15, 4, 19, 6, 1, 3, 6, 6, 14, 1, 11, 9, 3, 4, 4, 16, 19, 5, 11, 3, 9, 11, 9, 7, 2, 14, 4, 0, 18, 3, 12, 6, 8, 19, 10, 4, 17, 17, 10, 19, 8, 10, 0, 4, 19, 10, 15, 10, 8, 7, 16, 11, 4, 4, 16, 6, 2, 9, 4, 17, 12, 8, 9, 1, 19, 17, 6, 13, 15, 13, 18, 2, 18, 16, 17, 10, 4, 2, 12, 16, 8, 6, 6, 13, 5, 11, 13, 1, 6, 16, 7, 6, 17, 9, 6, 3, 19, 10, 9, 3, 9, 11, 4, 11, 0, 1, 8, 6, 15, 17, 11, 9, 17, 11, 10, 12, 4, 3, 8, 17, 8, 14, 19, 11, 8, 12, 18, 1, 15, 4, 15, 16, 11, 17, 9, 14, 10, 5, 10, 10, 5, 12, 2, 17, 10, 14, 11, 11, 13, 17, 8, 16, 19, 13, 3, 11, 13, 5, 18, 13, 16, 1, 0, 15, 1, 19, 17, 15, 14, 18, 14, 4, 15, 1, 18, 0, 11, 11, 8, 9, 14, 16, 15, 19, 18, 11, 12, 0, 9, 6, 12, 1, 6, 2, 5, 9, 5, 7, 19, 7, 0, 5, 5, 0, 2, 8, 10, 3, 2, 8, 9, 3, 10, 6, 18, 17, 19, 0, 17, 4, 15, 9, 14, 8, 16, 6, 6, 2, 8, 10, 15, 0, 9, 1, 18, 11, 9, 15, 3, 10, 11, 8, 5, 2, 3, 10, 10, 6, 1, 3, 9, 9, 8, 14, 2, 9, 11, 15, 12, 4, 7, 0, 15, 4, 16, 10, 17, 11, 5, 15, 17, 9, 19, 8, 10, 19, 2, 7, 1, 2, 14, 14, 4, 11, 12, 4, 16, 18, 15, 11, 11, 5, 11, 10, 15, 12, 7, 7, 11, 11, 17, 10, 1, 13, 11, 7, 1, 4, 9, 7, 4, 6, 15, 19, 13, 5, 11, 0, 15, 3, 19, 16, 19, 4, 7, 15, 10, 14, 18, 7, 3, 7, 6, 19, 6, 5, 17, 3, 3, 19, 8, 16, 9, 6, 3, 5, 2, 15, 19, 19, 11, 6, 12, 2, 6, 1, 15, 14, 15, 19, 11, 17, 6, 2, 4, 12, 19, 2, 13, 0, 4, 16, 6, 8, 4, 0, 8, 8, 4, 10, 1, 5, 13, 11, 10, 11, 1, 17, 6, 10, 4, 14, 16, 10, 9, 11, 18, 0, 4, 8, 4, 4, 8, 16, 2, 18, 19, 18, 15, 16, 7, 11, 5, 2, 7, 5, 5, 6, 11, 12, 1, 18, 9, 9, 19, 10, 6, 11, 11, 2, 12, 10, 12, 2, 9, 3, 11, 17, 9, 11, 2, 6, 14, 10, 1, 4, 15, 15, 18, 1, 17, 7, 13, 9, 8, 15, 8, 1, 6, 19, 4, 10, 11, 5, 13, 11, 1, 5, 10, 12, 0, 14, 6, 9, 18, 16, 4, 0, 12, 14, 3, 14, 11, 12, 0, 16, 10, 6, 11, 13, 9, 11, 12, 10, 19, 9, 10, 19, 13, 11, 3, 19, 18, 0, 8, 5, 7, 5, 10, 6, 10, 19, 18, 10, 17, 6, 11, 7, 4, 11, 19, 0, 4, 9, 1, 17, 11, 6, 14, 10, 4, 4, 9, 17, 2, 12, 19, 16, 7, 0, 18, 6, 12, 12, 12, 0, 6, 15, 12, 4, 3, 0, 9, 3, 16, 11, 1, 9, 14, 5, 6, 10, 10, 0, 2, 12, 4, 8, 7, 7, 11, 5, 16, 2, 16, 15, 1, 11, 8, 15, 11, 13, 8, 1, 16, 8, 16, 7, 7, 15, 4, 11, 9, 1, 1, 13, 1, 18, 6, 1, 19, 1, 3, 12, 12, 0, 11, 6, 18, 1, 17, 10, 14, 1, 8, 3, 1, 18, 2, 11, 13, 8, 6, 18, 12, 3, 19, 4, 9, 16, 18, 17, 6, 1, 8, 3, 19, 2, 4, 3, 6, 4, 0, 12, 16, 9, 11, 4, 11, 6, 0, 8, 1, 19, 11, 16, 3, 1, 13, 10, 3, 4, 3, 17, 6, 12, 12, 9, 3, 4, 8, 17, 10, 4, 18, 7, 9, 2, 4, 12, 10, 17, 10, 5, 6, 5, 14, 11, 6, 17, 5, 18, 0, 7, 14, 13, 1, 2, 11, 17, 14, 7, 2, 15, 4, 19, 16, 9, 7, 10, 6, 16, 4, 12, 11, 1, 9, 19, 11, 7, 11, 14, 9, 7, 12, 12, 19, 19, 13, 19, 17, 8, 4, 8, 4, 14, 11, 7, 9, 17, 2, 13, 12, 16, 5, 6, 16, 11, 1, 6, 6, 14, 0, 7, 1, 13, 11, 5, 13, 16, 2, 17, 5, 7, 18, 18, 17, 3, 16, 18, 15, 12, 3, 7, 5, 2, 5, 2, 12, 12, 0, 6, 13, 7, 12, 14, 11, 16, 2, 1, 9, 18, 11, 10, 4, 9, 7, 8, 0, 19, 17, 19, 11, 2, 15, 7, 16, 18, 19, 9, 9, 3, 3, 11, 15, 15, 1, 1, 11, 6, 8, 4, 9, 1, 9, 0, 16, 14, 10, 3, 8, 17, 7, 12, 11, 4, 1, 18, 14, 3, 11, 19, 10, 17, 2, 14, 8, 5, 5, 8, 8, 11, 3, 2, 17, 12, 8, 10, 2, 16, 19, 14, 11, 3, 19, 7, 13, 1, 2, 6, 18, 11, 0, 4, 3, 14, 2, 12, 16, 19, 0, 0, 17, 17, 7, 5, 18, 11, 2, 18, 5, 19, 3, 0, 15, 19, 5, 7, 9, 9, 11, 2, 15, 8, 8, 7, 9, 8, 3, 10, 8, 19, 8, 16, 4, 15, 10, 7, 17, 8, 13, 19, 0, 8, 11, 1, 12, 15, 11, 11, 3, 14, 6, 15, 19, 8, 14, 12, 4, 3, 17, 4, 2, 17, 1, 11, 1, 3, 16, 0, 8, 9, 9, 1, 4, 5, 4, 18, 17, 19, 1, 9, 10, 0, 19, 17, 3, 7, 1, 6, 17, 10, 13, 17, 8, 6, 0, 4, 14, 1, 8, 18, 5, 10, 3, 2, 17, 7, 12, 18, 6, 3, 19, 14, 1, 18, 1, 11, 4, 3, 2, 7, 2, 16, 12, 19, 2, 12, 15, 5, 11, 4, 8, 9, 14, 8, 11, 1, 3, 0, 18, 11, 17, 6, 6, 18, 6, 10, 8, 17, 17, 17, 19, 7, 16, 16, 2, 16, 10, 15, 10, 18, 19, 12, 0, 9, 11, 2, 17, 18, 12, 14, 13, 8, 1, 12, 4, 19, 11, 0, 1, 4, 3, 16, 9, 10, 18, 16, 17, 17, 0, 0, 5, 19, 6, 10, 2, 0, 9, 0, 8, 2, 4, 1, 8, 9, 17, 8, 13, 18, 14, 13, 0, 4, 9, 9, 17, 7, 2, 10, 5, 6, 17, 18, 10, 6, 1, 3, 19, 10, 13, 14, 3, 8, 2, 5, 7, 19, 0, 9, 14, 5, 18, 9, 11, 5, 6, 0, 8, 13, 13, 3, 4, 15, 12, 0, 7, 14, 3, 19, 4, 11, 10, 8, 3, 10, 3, 0, 6, 3, 9, 15, 2, 18, 2, 8, 3, 8, 14, 10, 5, 12, 4, 8, 1, 19, 6, 9, 11, 1, 3, 12, 13, 1, 11, 11, 13, 14, 15, 16, 19, 5, 11, 11, 11, 19, 5, 6, 18, 17, 19, 3, 3, 18, 10, 14, 0, 4, 13, 9, 5, 8, 11, 5, 16, 9, 7, 7, 11, 8, 1, 5, 12, 2, 17, 12, 0, 10, 14, 6, 19, 10, 11, 3, 4, 5, 17, 13, 19, 5, 11, 9, 17, 2, 6, 5, 16, 15, 6, 10, 3, 1, 7, 9, 12, 19, 10, 10, 6, 4, 8, 19, 5, 19, 18, 1, 5, 7, 17, 19, 17, 11, 7, 14, 5, 15, 4, 7, 10, 4, 13, 12, 11, 16, 9, 7, 17, 11, 2, 2, 15, 11, 9, 1, 1, 11, 13, 5, 7, 3, 2, 2, 12, 8, 10, 15, 13, 6, 0, 5, 5, 17, 4, 2, 7, 19, 2, 10, 11, 18, 11, 6, 18, 12, 11, 9, 2, 12, 4, 9, 17, 10, 1, 4, 10, 14, 18, 14, 8, 2, 11, 3, 11, 3, 15, 12, 19, 7, 19, 7, 10, 15, 9, 9, 11, 6, 10, 14, 4, 5, 17, 0, 0, 10, 10, 1, 8, 18, 19, 5, 16, 8, 16, 9, 19, 18, 17, 5, 9, 3, 1, 1, 3, 1, 1, 5, 1, 12, 0, 8, 12, 8, 19, 6, 3, 12, 2, 11, 8, 1, 11, 11, 18, 8, 6, 17, 12, 6, 1, 9, 8, 9, 3, 7, 11, 1, 0, 15, 1, 4, 12, 18, 1, 9, 11, 2, 6, 3, 14, 16, 9, 11, 18, 17, 7, 9, 12, 10, 10, 16, 11, 19, 14, 11, 10, 10, 3, 9, 11, 15, 5, 6, 19, 11, 16, 18, 17, 6, 6, 7, 9, 16, 3, 6, 10, 16, 2, 0, 0, 17, 8, 4, 2, 18, 19, 12, 16, 1, 11, 7, 9, 1, 18, 3, 10, 9, 18, 9, 16, 8, 18, 12, 4, 13, 14, 18, 8, 10, 19, 9, 19, 16, 7, 10, 9, 10, 5, 10, 14, 11, 8, 16, 19, 5, 3, 19, 11, 7, 16, 12, 7, 16, 4, 10, 3, 4, 6, 18, 12, 19, 12, 1, 1, 19, 17, 17, 10, 14, 5, 1, 5, 4, 5, 10, 8, 13, 17, 15, 17, 17, 6, 10, 10, 17, 16, 16, 17, 4, 0, 9, 8, 2, 3, 11, 12, 16, 14, 0, 11, 3, 10, 2, 8, 9, 17, 10, 17, 17, 10, 19, 3, 3, 16, 18, 9, 7, 0, 15, 1, 18, 11, 10, 10, 4, 1, 17, 8, 19, 19, 15, 1, 13, 12, 2, 11, 18, 11, 2, 2, 8, 8, 4, 10, 7, 17, 18, 1, 4, 10, 4, 4, 12, 18, 16, 10, 19, 18, 8, 18, 15, 2, 12, 9, 11, 10, 3, 12, 7, 18, 11, 8, 4, 8, 2, 6, 1, 0, 11, 17, 3, 15, 12, 14, 18, 11, 17, 14, 16, 12, 16, 6, 18, 10, 16, 0, 11, 9, 15, 3, 8, 5, 12, 16, 12, 15, 11, 3, 16, 19, 10, 6, 4, 16, 7, 11, 9, 4, 16, 14, 15, 9, 0, 14, 13, 11, 10, 12, 4, 6, 12, 7, 2, 14, 10, 13, 3, 15, 11, 0, 0, 5, 9, 2, 10, 3, 13, 12, 6, 12, 11, 10, 17, 3, 2, 3, 6, 5, 5, 9, 7, 6, 1, 1, 6, 9, 18, 8, 19, 7, 4, 19, 19, 3, 19, 16, 17, 2, 2, 18, 2, 10, 3, 7, 10, 10, 7, 17, 11, 0, 17, 12, 2, 12, 17, 8, 5, 11, 7, 18, 1, 10, 18, 11, 0, 3, 8, 9, 11, 8, 10, 12, 17, 12, 8, 6, 8, 12, 2, 9, 15, 10, 11, 16, 3, 12, 4, 4, 5, 13, 1, 16, 2, 1, 3, 8, 11, 19, 4, 16, 11, 5, 9, 11, 12, 5, 12, 18, 2, 9, 4, 6, 16, 1, 14, 11, 2, 7, 11, 6, 7, 11, 4, 13, 3, 1, 16, 11, 9, 3, 17, 7, 11, 6, 8, 12, 8, 14, 14, 9, 17, 12, 16, 0, 10, 16, 19, 8, 12, 3, 0, 6, 19, 19, 3, 10, 0, 5, 7, 17, 7, 0, 1, 10, 16, 17, 15, 8, 5, 10, 18, 18, 8, 9, 18, 2, 11, 0, 13, 15, 18, 16, 1, 9, 3, 11, 2, 1, 9, 6, 12, 1, 9, 0, 2, 19, 2, 8, 9, 3, 13, 1, 9, 16, 13, 6, 7, 16, 12, 3, 10, 11, 9, 10, 18, 12, 6, 11, 13, 3, 0, 7, 17, 11, 2, 11, 0, 3, 12, 12, 7, 18, 9, 18, 19, 5, 18, 9, 14, 19, 4, 11, 7, 10, 0, 6, 12, 17, 4, 5, 9, 3, 18, 10, 10, 16, 18, 16, 10, 10, 2, 10, 9, 17, 1, 11, 4, 13, 6, 1, 2, 17, 0, 10, 0, 3, 3, 4, 3, 7, 17, 4, 4, 8, 5, 6, 2, 4, 3, 6, 16, 16, 5, 18, 4, 17, 6, 10, 19, 16, 12, 6, 14, 1, 12, 10, 2, 1, 15, 16, 2, 11, 11, 7, 11, 2, 1, 18, 4, 8, 0, 11, 1, 10, 17, 10, 13, 2, 1, 4, 6, 15, 12, 4, 18, 5, 9, 1, 18, 15, 6, 15, 6, 3, 7, 9, 0, 11, 5, 11, 9, 9, 0, 0, 5, 1, 17, 7, 18, 18, 5, 0, 14, 1, 14, 19, 6, 17, 3, 12, 5, 16, 2, 0, 10, 0, 14, 13, 6, 5, 0, 8, 1, 8, 12, 16, 2, 0, 2, 8, 6, 2, 10, 0, 7, 5, 12, 0, 17, 14, 14, 2, 4, 15, 11, 0, 15, 15, 19, 4, 16, 2, 6, 3, 3, 18, 10, 10, 10, 19, 18, 8, 4, 2, 17, 7, 2, 6, 3, 17, 15, 16, 15, 11, 11, 11, 19, 3, 3, 17, 15, 19, 2, 7, 8, 16, 13, 5, 17, 1, 2, 3, 17, 1, 0, 18, 17, 14, 15, 9, 1, 17, 1, 2, 0, 4, 10, 3, 2, 7, 17, 1, 15, 5, 16, 16, 0, 10, 19, 16, 10, 3, 9, 2, 5, 5, 3, 4, 9, 13, 10, 6, 8, 13, 15, 18, 3, 12, 1, 7, 6, 19, 4, 9, 8, 13, 7, 8, 2, 1, 11, 0, 1, 5, 15, 4, 4, 11, 14, 4, 19, 17, 19, 14, 1, 11, 16, 17, 6, 9, 16, 7, 3, 2, 6, 16, 14, 1, 9, 19, 10, 10, 9, 10, 1, 16, 16, 12, 11, 16, 1, 8, 5, 10, 10, 9, 12, 12, 19, 19, 12, 14, 12, 1, 13, 6, 8, 10, 0, 2, 1, 19, 12, 14, 13, 15, 19, 2, 3, 18, 5, 15, 14, 13, 12, 6, 11, 18, 0, 6, 18, 5, 7, 3, 0, 4, 3, 6, 7, 10, 2, 11, 11, 7, 14, 10, 17, 10, 0, 14, 6, 0, 16, 9, 19, 1, 19, 19, 0, 0, 3, 1, 2, 14, 15, 14, 12, 3, 8, 11, 3, 0, 2, 3, 2, 10, 11, 4, 15, 11, 2, 8, 10, 14, 5, 2, 11, 4, 6, 2, 17, 2, 2, 1, 11, 17, 0, 8, 13, 3, 13, 3, 5, 12, 10, 19, 7, 1, 19, 12, 0, 5, 9, 5, 10, 15, 9, 18, 4, 12, 2, 3, 16, 6, 13, 9, 15, 0, 16, 11, 4, 3, 0, 11, 12, 4, 8, 4, 11, 5, 5, 4, 1, 18, 2, 13, 11, 16, 17, 10, 10, 6, 12, 12, 5, 12, 17, 13, 12, 5, 19, 11, 6, 15, 11, 7, 8, 17, 14, 15, 2, 10, 11, 5, 8, 7, 19, 12, 12, 17, 4, 5, 11, 6, 17, 12, 18, 14, 7, 11, 14, 18, 1, 8, 12, 13, 15, 7, 0, 12, 1, 16, 8, 5, 12, 12, 17, 5, 3, 2, 4, 6, 1, 0, 9, 3, 17, 11, 3, 16, 12, 10, 8, 9, 0, 17, 3, 12, 11, 3, 10, 10, 10, 5, 1, 15, 3, 4, 15, 11, 3, 4, 19, 15, 15, 11, 5, 0, 1, 15, 9, 11, 8, 9, 7, 6, 7, 8, 19, 3, 5, 2, 17, 7, 2, 19, 7, 3, 7, 14, 12, 16, 14, 13, 17, 6, 0, 9, 17, 6, 5, 3, 10, 2, 12, 16, 4, 6, 9, 4, 0, 17, 10, 3, 3, 4, 4, 11, 16, 15, 15, 10, 17, 10, 6, 17, 17, 14, 9, 8, 3, 5, 2, 17, 1, 2, 0, 10, 1, 15, 12, 19, 1, 10, 7, 9, 7, 0, 16, 1, 15, 6, 11, 14, 16, 11, 19, 17, 1, 5, 11, 5, 11, 14, 6, 11, 3, 11, 0, 1, 16, 7, 3, 1, 3, 15, 1, 10, 9, 4, 9, 17, 7, 16, 11, 5, 16, 0, 7, 6, 16, 4, 16, 12, 17, 17, 5, 8, 7, 19, 19, 18, 1, 9, 5, 18, 13, 10, 11, 16, 8, 0, 16, 2, 10, 11, 10, 0, 1, 3, 1, 17, 14, 7, 17, 11, 6, 13, 2, 17, 19, 12, 3, 10, 10, 1, 6, 7, 19, 15, 18, 9, 13, 10, 11, 2, 14, 0, 2, 11, 2, 0, 5, 12, 9, 12, 13, 8, 12, 4, 18, 16, 4, 8, 1, 19, 1, 17, 9, 9, 13, 13, 5, 18, 9, 6, 2, 4, 6, 11, 0, 8, 3, 10, 11, 6, 16, 9, 17, 11, 0, 2, 17, 6, 5, 11, 7, 8, 16, 12, 15, 16, 3, 0, 11, 17, 10, 13, 0, 8, 4, 9, 16, 6, 1, 7, 17, 15, 16, 3, 4, 1, 6, 13, 7, 7, 1, 6, 1, 10, 16, 12, 1, 0, 19, 18, 19, 11, 2, 6, 10, 17, 18, 8, 5, 8, 11, 11, 0, 17, 13, 0, 5, 6, 10, 13, 12, 15, 0, 15, 12, 8, 5, 10, 15, 11, 17, 2, 19, 9, 13, 15, 1, 5, 6, 13, 10, 12, 4, 6, 1, 4, 3, 11, 15, 1, 15, 15, 17, 11, 11, 6, 10, 5, 4, 16, 19, 7, 1, 13, 0, 4, 12, 3, 4, 5, 11, 12, 19, 18, 17, 7, 2, 2, 10, 18, 10, 12, 19, 10, 11, 5, 13, 12, 10, 10, 8, 17, 8, 11, 5, 10, 5, 7, 9, 14, 2, 11, 8, 12, 16, 11, 9, 14, 6, 2, 11, 16, 10, 2, 10, 10, 6, 6, 17, 10, 6, 10, 1, 3, 9, 6, 5, 4, 3, 14, 5, 11, 14, 17, 6, 13, 17, 14, 17, 1, 5, 2, 11, 14, 18, 6, 17, 17, 11, 16, 14, 7, 1, 15, 4, 3, 16, 13, 6, 19, 2, 10, 9, 15, 0, 11, 19, 2, 11, 17, 0, 19, 11, 2, 1, 0, 10, 16, 8, 18, 8, 6, 5, 3, 12, 7, 4, 10, 3, 2, 13, 1, 12, 13, 12, 7, 19, 10, 14, 5, 10, 8, 3, 2, 4, 6, 1, 12, 0, 2, 9, 17, 8, 2, 12, 3, 13, 18, 12, 12, 5, 15, 19, 13, 14, 3, 7, 1, 0, 7, 12, 11, 9, 1, 17, 5, 2, 5, 18, 18, 6, 15, 16, 10, 11, 11, 2, 11, 6, 12, 5, 9, 8, 0, 12, 4, 18, 16, 15, 10, 5, 12, 11, 7, 4, 10, 3, 17, 6, 18, 5, 5, 11, 13, 19, 3, 4, 15, 12, 1, 2, 2, 1, 8, 14, 3, 5, 14, 9, 6, 19, 16, 16, 15, 17, 10, 4, 11, 5, 17, 16, 6, 5, 5, 11, 8, 12, 10, 19, 6, 0, 9, 1, 2, 3, 12, 9, 9, 7, 19, 16, 5, 12, 7, 10, 18, 13, 4, 0, 0, 9, 14, 4, 10, 7, 6, 9, 12, 10, 6, 18, 16, 9, 12, 15, 14, 17, 2, 19, 14, 17, 4, 3, 4, 4, 17, 5, 3, 19, 2, 12, 17, 17, 0, 15, 2, 17, 7, 7, 17, 16, 2, 17, 4, 17, 7, 1, 7, 3, 16, 15, 11, 12, 19, 19, 4, 6, 6, 10, 6, 10, 11, 19, 3, 0, 8, 10, 5, 4, 9, 19, 14, 2, 13, 16, 1, 16, 9, 9, 4, 19, 12, 3, 13, 12, 14, 5, 3, 10, 14, 1, 1, 2, 2, 12, 3, 5, 1, 2, 19, 0, 6, 2, 18, 10, 2, 13, 4, 9, 15, 7, 10, 15, 11, 16, 14, 11, 5, 4, 3, 8, 7, 17, 2, 2, 10, 19, 4, 1, 1, 11, 11, 15, 16, 11, 2, 19, 16, 3, 6, 2, 17, 11, 19, 11, 7, 17, 8, 19, 10, 19, 10, 2, 10, 15, 6, 7, 9, 3, 9, 5, 11, 10, 8, 0, 13, 8, 18, 18, 17, 17, 4, 16, 7, 3, 13, 11, 9, 9, 17, 16, 8, 3, 18, 3, 12, 0, 0, 17, 2, 0, 16, 12, 12, 5, 7, 14, 1, 1, 7, 4, 4, 19, 4, 1, 1, 8, 11, 3, 11, 17, 17, 11, 2, 15, 7, 16, 4, 7, 2, 17, 2, 9, 9, 8, 5, 19, 17, 16, 5, 7, 4, 8, 14, 15, 10, 2, 4, 1, 19, 14, 10, 6, 1, 10, 7, 5, 9, 5, 5, 3, 13, 1, 9, 2, 14, 0, 14, 16, 5, 4, 19, 10, 16, 11, 17, 9, 6, 10, 13, 4, 16, 14, 3, 11, 11, 9, 1, 15, 6, 17, 12, 18, 1, 7, 2, 3, 7, 4, 12, 15, 7, 5, 1, 9, 2, 10, 7, 11, 10, 2, 5, 0, 9, 11, 18, 18, 6, 1, 8, 18, 11, 9, 7, 17, 18, 2, 19, 2, 6, 18, 12, 3, 11, 13, 2, 14, 6, 17, 10, 4, 12, 6, 14, 18, 2, 7, 11, 0, 13, 18, 0, 16, 11, 0, 11, 16, 18, 4, 17, 9, 13, 9, 11, 17, 14, 18, 15, 10, 14, 10, 19, 7, 10, 2, 0, 2, 3, 5, 16, 3, 17, 11, 0, 10, 4, 10, 8, 0, 19, 5, 15, 17, 2, 19, 16, 4, 10, 6, 16, 11, 3, 13, 2, 11, 4, 11, 17, 6, 13, 3, 15, 16, 18, 13, 18, 17, 9, 10, 7, 10, 10, 16, 10, 2, 4, 0, 14, 6, 16, 3, 12, 7, 18, 14, 11, 1, 14, 1, 2, 9, 16, 4, 13, 2, 11, 14, 15, 18, 8, 3, 11, 13, 9, 12, 18, 0, 13, 2, 9, 0, 1, 1, 11, 2, 11, 14, 2, 18, 8, 1, 1, 18, 12, 4, 1, 0, 18, 15, 19, 6, 18, 12, 7, 12, 11, 5, 11, 18, 15, 9, 5, 3, 7, 19, 18, 14, 13, 1, 8, 16, 2, 0, 13, 11, 12, 10, 8, 0, 5, 0, 0, 10, 14, 15, 1, 14, 4, 7, 2, 8, 15, 10, 12, 1, 6, 18, 16, 1, 4, 6, 8, 0, 16, 2, 0, 10, 3, 10, 15, 16, 9, 12, 6, 11, 1, 7, 3, 12, 5, 6, 3, 14, 7, 0, 17, 4, 16, 11, 8, 2, 14, 4, 11, 1, 1, 9, 2, 7, 9, 2, 2, 1, 11, 16, 2, 11, 1, 12, 16, 7, 11, 18, 15, 17, 18, 2, 7, 11, 11, 17, 6, 12, 1, 9, 18, 11, 18, 11, 17, 12, 16, 10, 10, 19, 0, 5, 4, 10, 6, 12, 13, 4, 8, 17, 2, 10, 12, 15, 13, 17, 3, 5, 16, 13, 10, 13, 4, 19, 3, 4, 8, 8, 15, 3, 3, 3, 6, 11, 16, 11, 2, 3, 6, 17, 18, 6, 18, 2, 4, 14, 8, 10, 8, 7, 8, 17, 9, 9, 2, 11, 14, 6, 2, 7, 3, 13, 10, 10, 7, 10, 3, 0, 7, 12, 3, 15, 8, 4, 5, 9, 12, 12, 19, 1, 10, 1, 5, 3, 8, 9, 11, 17, 14, 10, 7, 11, 11, 10, 17, 12, 10, 17, 19, 9, 6, 18, 7, 18, 12, 7, 2, 7, 12, 18, 19, 17, 12, 18, 8, 17, 3, 0, 6, 4, 10, 16, 8, 1, 2, 6, 16, 9, 11, 19, 1, 17, 19, 10, 11, 9, 6, 6, 10, 17, 6, 4, 1, 6, 19, 5, 3, 1, 13, 9, 16, 12, 9, 10, 13, 14, 1, 4, 1, 1, 19, 8, 8, 9, 10, 19, 10, 10, 18, 5, 18, 9, 3, 13, 16, 19, 11, 15, 10, 14, 1, 13, 5, 9, 11, 6, 13, 2, 11, 2, 3, 19, 2, 3, 2, 16, 16, 3, 17, 2, 5, 0, 7, 17, 7, 4, 7, 3, 6, 14, 9, 10, 17, 5, 8, 12, 16, 2, 12, 12, 11, 16, 11, 16, 6, 0, 16, 5, 0, 18, 2, 16, 17, 7, 1, 4, 12, 3, 6, 4, 8, 9, 15, 2, 18, 4, 17, 10, 11, 6, 9, 15, 16, 13, 2, 2, 4, 18, 6, 5, 11, 19, 18, 19, 3, 10, 8, 17, 8, 9, 11, 0, 14, 1, 8, 14, 16, 8, 7, 12, 4, 11, 1, 14, 13, 0, 5, 3, 15, 15, 2, 6, 12, 0, 19, 6, 10, 1, 18, 10, 10, 15, 17, 14, 10, 1, 11, 12, 13, 11, 10, 9, 0, 16, 16, 1, 1, 2, 0, 19, 17, 2, 9, 18, 12, 11, 10, 7, 11, 4, 6, 4, 4, 9, 4, 17, 8, 10, 5, 6, 10, 7, 17, 14, 13, 2, 2, 10, 2, 1, 19, 1, 1, 8, 2, 4, 7, 10, 11, 12, 16, 9, 14, 2, 13, 3, 13, 9, 6, 13, 1, 19, 4, 10, 2, 9, 16, 2, 7, 12, 3, 3, 5, 7, 3, 3, 4, 17, 8, 1, 12, 4, 0, 6, 16, 19, 18, 4, 16, 16, 9, 11, 19, 10, 16, 9, 15, 18, 1, 0, 9, 15, 6, 18, 4, 2, 10, 18, 0, 15, 2, 1, 3, 12, 19, 10, 2, 11, 17, 3, 10, 13, 19, 2, 15, 10, 9, 0, 19, 2, 16, 15, 16, 2, 3, 10, 11, 2, 1, 3, 6, 3, 18, 19, 11, 12, 4, 0, 5, 1, 8, 1, 2, 15, 9, 11, 8, 19, 9, 10, 4, 3, 10, 10, 6, 18, 12, 14, 0, 6, 19, 6, 0, 10, 3, 19, 14, 10, 3, 16, 10, 7, 12, 5, 6, 15, 3, 17, 16, 0, 6, 19, 6, 7, 6, 1, 14, 16, 4, 7, 4, 10, 7, 0, 5, 12, 18, 11, 5, 10, 9, 17, 19, 10, 4, 16, 0, 17, 7, 1, 4, 4, 10, 17, 18, 6, 16, 15, 10, 3, 3, 2, 4, 8, 0, 7, 6, 16, 18, 17, 18, 8, 2, 15, 0, 1, 14, 10, 5, 12, 16, 13, 7, 4, 1, 7, 6, 0, 6, 13, 0, 10, 15, 19, 12, 15, 2, 8, 10, 0, 13, 5, 4, 14, 0, 16, 5, 2, 7, 19, 2, 1, 2, 9, 15, 9, 9, 4, 1, 3, 18, 7, 1, 12, 5, 3, 6, 11, 10, 5, 11, 1, 1, 14, 4, 11, 8, 14, 16, 6, 1, 2, 3, 18, 9, 10, 2, 19, 7, 19, 7, 17, 18, 12, 13, 6, 10, 18, 14, 12, 17, 7, 15, 16, 9, 7, 4, 5, 12, 0, 8, 17, 15, 9, 2, 11, 13, 18, 10, 7, 3, 5, 2, 14, 12, 11, 11, 11, 10, 12, 14, 11, 6, 3, 16, 5, 3, 11, 0, 14, 11, 7, 0, 18, 15, 12, 18, 1, 6, 7, 9, 14, 14, 5, 2, 17, 19, 2, 17, 13, 2, 2, 8, 11, 10, 11, 1, 2, 18, 9, 12, 3, 6, 8, 7, 7, 4, 14, 1, 8, 16, 1, 6, 8, 14, 0, 1, 9, 16, 9, 10, 13, 2, 12, 2, 1, 2, 7, 17, 14, 3, 8, 19, 11, 17, 12, 6, 11, 18, 19, 0, 11, 6, 0, 15, 15, 0, 2, 9, 2, 14, 1, 15, 12, 10, 7, 10, 2, 3, 5, 19, 6, 0, 0, 19, 10, 19, 1, 12, 3, 12, 2, 11, 1, 18, 12, 0, 12, 8, 7, 11, 3, 19, 5, 6, 17, 3, 10, 1, 16, 15, 0, 11, 5, 4, 2, 7, 5, 6, 7, 6, 12, 4, 19, 12, 7, 10, 12, 0, 18, 19, 1, 10, 11, 7, 9, 5, 10, 13, 1, 12, 15, 11, 19, 18, 16, 8, 6, 7, 1, 16, 7, 3, 3, 2, 4, 3, 19, 8, 9, 1, 4, 0, 10, 14, 15, 7, 7, 19, 5, 1, 12, 16, 2, 11, 7, 14, 0, 3, 11, 17, 17, 1, 5, 12, 3, 16, 3, 19, 5, 0, 13, 6, 14, 10, 18, 10, 12, 19, 0, 2, 9, 2, 5, 12, 7, 5, 2, 10, 13, 7, 18, 7, 4, 2, 9, 0, 7, 9, 18, 3, 12, 19, 10, 12, 4, 2, 6, 5, 8, 19, 13, 13, 16, 11, 12, 4, 9, 4, 0, 9, 12, 14, 19, 11, 16, 5, 10, 14, 0, 14, 6, 7, 11, 14, 1, 0, 17, 8, 2, 11, 9, 7, 1, 10, 11, 11, 4, 9, 14, 3, 10, 5, 11, 7, 16, 2, 11, 15, 10, 5, 7, 19, 15, 10, 2, 14, 8, 15, 2, 0, 10, 11, 17, 2, 1, 12, 10, 0, 10, 16, 11, 18, 0, 12, 14, 7, 1, 4, 17, 7, 0, 10, 18, 0, 13, 12, 5, 12, 17, 11, 6, 5, 10, 14, 3, 10, 6, 19, 16, 12, 11, 9, 7, 15, 16, 11, 19, 10, 1, 0, 11, 12, 18, 2, 5, 5, 8, 17, 11, 14, 0, 19, 2, 4, 13, 6, 3, 8, 2, 18, 9, 4, 2, 5, 17, 18, 15, 18, 15, 10, 18, 11, 3, 16, 6, 14, 10, 8, 12, 3, 2, 2, 10, 12, 3, 2, 7, 9, 17, 6, 2, 1, 9, 17, 9, 7, 3, 2, 19, 9, 13, 16, 5, 9, 2, 10, 10, 12, 6, 7, 12, 3, 2, 5, 4, 9, 0, 3, 2, 9, 3, 18, 0, 12, 9, 11, 0, 13, 8, 16, 3, 5, 17, 9, 10, 17, 12, 5, 12, 11, 9, 6, 1, 6, 10, 11, 1, 4, 12, 11, 0, 10, 12, 17, 7, 16, 6, 19, 12, 12, 1, 11, 4, 12, 6, 17, 16, 17, 3, 7, 5, 2, 2, 11, 5, 5, 2, 7, 6, 19, 9, 10, 5, 5, 13, 16, 10, 16, 4, 5, 19, 2, 7, 12, 1, 1, 0, 4, 11, 14, 12, 2, 3, 12, 0, 2, 6, 15, 11, 7, 9, 14, 1, 17, 12, 17, 17, 1, 1, 19, 13, 2, 0, 10, 2, 14, 2, 10, 13, 7, 8, 2, 18, 9, 17, 12, 17, 18, 4, 1, 11, 17, 12, 10, 17, 9, 3, 17, 18, 9, 7, 15, 11, 2, 3, 11, 0, 8, 6, 1, 0, 1, 1, 10, 17, 19, 4, 10, 0, 9, 0, 18, 11, 12, 7, 1, 19, 16, 3, 16, 5, 2, 12, 15, 15, 1, 19, 15, 9, 8, 8, 11, 19, 17, 6, 10, 15, 0, 1, 2, 19, 8, 7, 18, 11, 8, 10, 19, 16, 4, 11, 13, 12, 10, 17, 3, 3, 1, 3, 3, 0, 11, 7, 8, 15, 16, 10, 9, 16, 9, 3, 15, 10, 2, 4, 2, 4, 1, 7, 17, 2, 8, 15, 9, 9, 11, 2, 12, 19, 18, 4, 9, 7, 11, 9, 17, 2, 9, 12, 6, 15, 0, 17, 6, 15, 8, 19, 5, 13, 17, 10, 1, 16, 18, 10, 4, 13, 4, 17, 7, 19, 0, 5, 6, 8, 16, 3, 0, 8, 3, 18, 7, 1, 15, 10, 2, 6, 1, 18, 17, 13, 2, 11, 16, 17, 5, 10, 10, 9, 13, 8, 7, 4, 14, 5, 11, 3, 10, 3, 0, 10, 1, 3, 12, 12, 6, 12, 1, 9, 4, 19, 6, 19, 17, 12, 13, 10, 0, 12, 4, 13, 2, 5, 3, 3, 15, 12, 12, 2, 15, 7, 4, 8, 15, 11, 16, 0, 16, 15, 10, 13, 5, 8, 7, 14, 2, 15, 10, 19, 11, 1, 4, 3, 14, 12, 3, 2, 2, 6, 0, 11, 10, 1, 10, 1, 11, 10, 17, 19, 2, 2, 2, 14, 15, 11, 17, 12, 11, 15, 6, 15, 19, 6, 19, 7, 15, 19, 11, 16, 16, 2, 5, 19, 4, 8, 6, 17, 13, 7, 19, 4, 10, 11, 11, 1, 12, 19, 17, 8, 4, 13, 10, 13, 19, 2, 4, 11, 5, 13, 18, 11, 14, 4, 10, 4, 14, 17, 17, 0, 2, 0, 4, 11, 10, 10, 17, 1, 18, 11, 0, 4, 17, 14, 18, 16, 17, 6, 1, 18, 10, 16, 2, 16, 7, 12, 8, 18, 16, 8, 11, 18, 13, 3, 8, 13, 8, 4, 9, 10, 17, 4, 18, 13, 17, 15, 2, 18, 1, 0, 9, 12, 19, 6, 18, 5, 2, 18, 11, 0, 3, 3, 14, 8, 6, 11, 7, 10, 18, 9, 1, 5, 7, 2, 11, 9, 9, 13, 18, 6, 3, 1, 14, 12, 6, 11, 17, 14, 9, 6, 1, 18, 0, 4, 5, 2, 10, 12, 0, 3, 10, 6, 2, 12, 9, 7, 1, 15, 18, 6, 10, 12, 12, 3, 2, 11, 9, 6, 10, 9, 6, 0, 0, 7, 14, 10, 3, 8, 12, 6, 10, 11, 2, 10, 8, 18, 15, 12, 10, 16, 8, 15, 18, 1, 4, 10, 10, 11, 6, 7, 6, 10, 17, 11, 13, 3, 15, 6, 4, 17, 17, 7, 17, 3, 6, 12, 19, 10, 3, 13, 8, 12, 17, 13, 11, 0, 13, 7, 19, 11, 3, 7, 15, 13, 10, 11, 11, 6, 9, 5, 1, 15, 9, 4, 1, 3, 10, 9, 1, 4, 13, 9, 3, 12, 12, 11, 16, 2, 2, 11, 5, 1, 4, 13, 5, 10, 18, 3, 17, 11, 7, 10, 12, 11, 7, 10, 9, 15, 19, 5, 18, 11, 4, 5, 5, 2, 10, 11, 1, 15, 12, 6, 19, 11, 5, 6, 1, 4, 16, 16, 0, 11, 5, 7, 4, 8, 2, 3, 8, 13, 10, 4, 16, 1, 7, 0, 3, 3, 2, 4, 4, 9, 17, 8, 16, 19, 0, 10, 10, 16, 10, 13, 4, 0, 16, 14, 6, 14, 11, 2, 3, 3, 8, 18, 0, 15, 15, 18, 10, 8, 1, 14, 14, 19, 8, 4, 14, 10, 11, 11, 10, 6, 9, 19, 18, 18, 12, 4, 7, 1, 19, 16, 8, 5, 13, 16, 8, 8, 14, 3, 2, 3, 17, 4, 18, 2, 14, 18, 17, 4, 2, 7, 7, 12, 12, 8, 11, 11, 9, 19, 2, 11, 9, 12, 10, 4, 12, 14, 2, 9, 4, 10, 5, 17, 4, 6, 7, 10, 6, 1, 9, 19, 17, 2, 19, 8, 2, 0, 3, 18, 1, 17, 12, 4, 6, 10, 11, 12, 19, 1, 11, 17, 19, 18, 6, 6, 1, 17, 4, 2, 11, 17, 12, 17, 9, 6, 14, 8, 3, 19, 9, 6, 12, 16, 8, 15, 1, 7, 3, 8, 12, 7, 12, 11, 15, 14, 5, 0, 8, 6, 8, 8, 4, 4, 13, 5, 12, 0, 18, 7, 19, 9, 1, 10, 7, 3, 2, 19, 4, 6, 17, 1, 5, 9, 11, 10, 3, 2, 3, 4, 17, 16, 10, 1, 7, 10, 15, 8, 19, 14, 6, 16, 17, 15, 3, 6, 12, 17, 0, 11, 12, 16, 5, 0, 19, 13, 17, 16, 17, 3, 18, 17, 2, 11, 7, 0, 2, 6, 11, 9, 19, 2, 15, 4, 2, 5, 19, 8, 18, 1, 4, 15, 17, 5, 3, 19, 10, 13, 1, 9, 11, 13, 15, 12, 13, 13, 5, 0, 5, 16, 19, 2, 12, 11, 1, 9, 16, 19, 6, 5, 11, 3, 10, 1, 15, 16, 2, 18, 16, 11, 6, 8, 18, 5, 4, 11, 19, 11, 16, 13, 10, 6, 3, 11, 13, 6, 1, 6, 0, 16, 19, 17, 11, 19, 17, 10, 10, 5, 1, 19, 14, 2, 10, 11, 11, 1, 12, 11, 3, 0, 6, 9, 5, 2, 10, 3, 12, 9, 1, 17, 8, 1, 1, 6, 12, 4, 10, 3, 5, 8, 10, 3, 12, 14, 4, 13, 3, 18, 7, 5, 5, 6, 15, 16, 2, 10, 2, 4, 7, 15, 14, 1, 10, 18, 3, 7, 8, 0, 0, 16, 14, 5, 1, 14, 9, 9, 8, 5, 8, 4, 3, 12, 3, 3, 6, 5, 13, 5, 10, 16, 9, 6, 10, 1, 3, 6, 19, 12, 6, 6, 12, 2, 6, 8, 8, 18, 18, 3, 6, 15, 1, 18, 17, 13, 1, 13, 6, 1, 11, 0, 4, 1, 9, 6, 2, 10, 4, 3, 3, 0, 2, 14, 10, 15, 17, 1, 13, 18, 8, 0, 17, 10, 10, 4, 10, 15, 3, 4, 6, 0, 2, 8, 4, 18, 11, 10, 11, 16, 17, 0, 3, 6, 5, 4, 19, 3, 17, 6, 8, 19, 12, 12, 4, 12, 12, 8, 9, 1, 17, 17, 19, 4, 8, 10, 2, 11, 18, 6, 0, 4, 16, 17, 11, 19, 2, 18, 17, 10, 17, 12, 14, 5, 2, 10, 11, 9, 0, 3, 1, 19, 16, 18, 4, 0, 9, 3, 4, 19, 3, 6, 0, 10, 2, 11, 14, 6, 7, 18, 4, 10, 10, 6, 5, 7, 11, 16, 8, 19, 12, 16, 15, 13, 1, 1, 18, 10, 3, 11, 6, 3, 13, 0, 17, 16, 14, 5, 10, 5, 19, 8, 1, 5, 17, 19, 18, 16, 2, 13, 14, 2, 13, 12, 7, 1, 12, 6, 17, 10, 12, 5, 14, 8, 3, 7, 10, 2, 0, 11, 0, 17, 18, 1, 18, 5, 8, 16, 15, 14, 18, 9, 9, 7, 16, 7, 12, 6, 18, 14, 1, 16, 9, 8, 17, 10, 0, 10, 7, 7, 0, 5, 11, 11, 4, 14, 18, 7, 6, 11, 14, 3, 12, 3, 7, 7, 14, 4, 15, 0, 4, 1, 4, 11, 12, 3, 0, 10, 9, 5, 5, 12, 19, 10, 0, 4, 2, 14, 2, 1, 19, 1, 17, 7, 6, 4, 6, 2, 19, 7, 13, 19, 10, 18, 11, 19, 13, 2, 7, 16, 14, 2, 9, 1, 4, 13, 16, 7, 9, 0, 1, 14, 15, 17, 0, 12, 19, 4, 10, 11, 19, 2, 11, 5, 6, 11, 0, 16, 1, 19, 1, 19, 19, 2, 11, 19, 10, 9, 9, 11, 18, 9, 19, 18, 0, 12, 2, 10, 5, 16, 9, 2, 17, 2, 4, 15, 17, 12, 16, 0, 8, 11, 3, 17, 11, 16, 0, 0, 4, 1, 13, 3, 1, 15, 13, 7, 5, 11, 8, 15, 11, 7, 18, 12, 1, 1, 10, 18, 11, 17, 2, 12, 0, 0, 17, 11, 12, 17, 18, 6, 12, 11, 7, 12, 9, 2, 0, 9, 2, 16, 4, 8, 2]\n"
     ]
    }
   ],
   "source": [
    "C_of_F_Y_Predictions_nmb = [0] * len_C_of_F_Y_Predictions\n",
    "\n",
    "def C_of_F_Y_Predictions_txt_to_nmb(C_of_F_Y_Predictions_txt):\n",
    "    for i in range(len_C_of_F_Y_Predictions):\n",
    "        for j in range(n_C_Y): # Global n_C_Y\n",
    "            if (C_of_F_Y_Predictions_txt[i] == C_Y_L[j]): # Global C_Y_L\n",
    "                C_of_F_Y_Predictions_nmb[i] = j\n",
    "    return C_of_F_Y_Predictions_nmb\n",
    "        \n",
    "C_of_F_Y_Predictions_nmb = C_of_F_Y_Predictions_txt_to_nmb(C_of_F_Y_Predictions_txt)\n",
    "\n",
    "len_C_of_F_Y_Predictions_nmb = len(C_of_F_Y_Predictions_nmb)\n",
    "print(\"len_C_of_F_Y_Predictions_nmb =\", len_C_of_F_Y_Predictions_nmb) # = 10000\n",
    "\n",
    "print(\"\\nType  of [C_of_F_Y_Predictions_nmb]:\", type(C_of_F_Y_Predictions_nmb)) # = <class 'list'>\n",
    "\n",
    "print(\"\\n[C_of_F_Y_Predictions_nmb] =\")\n",
    "print(C_of_F_Y_Predictions_nmb)"
   ]
  },
  {
   "cell_type": "code",
   "execution_count": 75,
   "metadata": {},
   "outputs": [
    {
     "data": {
      "text/plain": [
       "array([10, 10,  0, ...,  4,  8,  2])"
      ]
     },
     "execution_count": 75,
     "metadata": {},
     "output_type": "execute_result"
    }
   ],
   "source": [
    "C_Y_Test"
   ]
  },
  {
   "cell_type": "code",
   "execution_count": 76,
   "metadata": {},
   "outputs": [
    {
     "data": {
      "text/plain": [
       "'large_natural_outdoor_scenes'"
      ]
     },
     "execution_count": 76,
     "metadata": {},
     "output_type": "execute_result"
    }
   ],
   "source": [
    "C_Y_L[10]"
   ]
  },
  {
   "cell_type": "code",
   "execution_count": 77,
   "metadata": {},
   "outputs": [
    {
     "data": {
      "text/plain": [
       "array([49, 33, 72, ..., 51, 42, 70])"
      ]
     },
     "execution_count": 77,
     "metadata": {},
     "output_type": "execute_result"
    }
   ],
   "source": [
    "F_Y_Test"
   ]
  },
  {
   "cell_type": "code",
   "execution_count": 78,
   "metadata": {},
   "outputs": [
    {
     "data": {
      "text/plain": [
       "'mountain'"
      ]
     },
     "execution_count": 78,
     "metadata": {},
     "output_type": "execute_result"
    }
   ],
   "source": [
    "F_Y_L[49]"
   ]
  },
  {
   "cell_type": "code",
   "execution_count": 79,
   "metadata": {},
   "outputs": [
    {
     "name": "stdout",
     "output_type": "stream",
     "text": [
      "Classification Report:\n",
      "- coarse _ of _ fine :\n",
      "\n",
      "                                precision    recall  f1-score   support\n",
      "\n",
      "               aquatic_mammals       0.43      0.41      0.42       500\n",
      "                          fish       0.44      0.50      0.47       500\n",
      "                       flowers       0.62      0.72      0.67       500\n",
      "               food_containers       0.46      0.49      0.47       500\n",
      "          fruit_and_vegetables       0.54      0.57      0.56       500\n",
      "  household_electrical_devices       0.46      0.41      0.43       500\n",
      "           household_furniture       0.50      0.53      0.52       500\n",
      "                       insects       0.54      0.49      0.51       500\n",
      "              large_carnivores       0.43      0.38      0.41       500\n",
      " large_man-made_outdoor_things       0.58      0.59      0.59       500\n",
      "  large_natural_outdoor_scenes       0.56      0.79      0.66       500\n",
      "large_omnivores_and_herbivores       0.34      0.49      0.40       500\n",
      "                medium_mammals       0.36      0.40      0.38       500\n",
      "      non-insect_invertebrates       0.40      0.26      0.32       500\n",
      "                        people       0.64      0.47      0.54       500\n",
      "                      reptiles       0.37      0.26      0.30       500\n",
      "                 small_mammals       0.34      0.31      0.33       500\n",
      "                         trees       0.72      0.78      0.75       500\n",
      "                    vehicles_1       0.55      0.46      0.50       500\n",
      "                    vehicles_2       0.52      0.50      0.51       500\n",
      "\n",
      "                      accuracy                           0.49     10000\n",
      "                     macro avg       0.49      0.49      0.49     10000\n",
      "                  weighted avg       0.49      0.49      0.49     10000\n",
      "\n",
      "\n",
      "{CR_C_of_F_D} =\n",
      "{'aquatic_mammals': {'precision': 0.42947368421052634, 'recall': 0.408, 'f1-score': 0.41846153846153844, 'support': 500}, 'fish': {'precision': 0.44366197183098594, 'recall': 0.504, 'f1-score': 0.47191011235955055, 'support': 500}, 'flowers': {'precision': 0.6185567010309279, 'recall': 0.72, 'f1-score': 0.6654343807763402, 'support': 500}, 'food_containers': {'precision': 0.45539033457249073, 'recall': 0.49, 'f1-score': 0.47206165703275527, 'support': 500}, 'fruit_and_vegetables': {'precision': 0.5384615384615384, 'recall': 0.574, 'f1-score': 0.5556631171345595, 'support': 500}, 'household_electrical_devices': {'precision': 0.4567627494456763, 'recall': 0.412, 'f1-score': 0.4332281808622503, 'support': 500}, 'household_furniture': {'precision': 0.5028571428571429, 'recall': 0.528, 'f1-score': 0.5151219512195123, 'support': 500}, 'insects': {'precision': 0.5357917570498916, 'recall': 0.494, 'f1-score': 0.514047866805411, 'support': 500}, 'large_carnivores': {'precision': 0.43115124153498874, 'recall': 0.382, 'f1-score': 0.4050901378579003, 'support': 500}, 'large_man-made_outdoor_things': {'precision': 0.5823529411764706, 'recall': 0.594, 'f1-score': 0.5881188118811882, 'support': 500}, 'large_natural_outdoor_scenes': {'precision': 0.5626780626780626, 'recall': 0.79, 'f1-score': 0.6572379367720466, 'support': 500}, 'large_omnivores_and_herbivores': {'precision': 0.33975240715268223, 'recall': 0.494, 'f1-score': 0.40260798696006517, 'support': 500}, 'medium_mammals': {'precision': 0.35855855855855856, 'recall': 0.398, 'f1-score': 0.37725118483412323, 'support': 500}, 'non-insect_invertebrates': {'precision': 0.40307692307692305, 'recall': 0.262, 'f1-score': 0.31757575757575757, 'support': 500}, 'people': {'precision': 0.6438356164383562, 'recall': 0.47, 'f1-score': 0.5433526011560693, 'support': 500}, 'reptiles': {'precision': 0.367816091954023, 'recall': 0.256, 'f1-score': 0.3018867924528302, 'support': 500}, 'small_mammals': {'precision': 0.34285714285714286, 'recall': 0.312, 'f1-score': 0.32670157068062833, 'support': 500}, 'trees': {'precision': 0.7232472324723247, 'recall': 0.784, 'f1-score': 0.7523992322456814, 'support': 500}, 'vehicles_1': {'precision': 0.5507246376811594, 'recall': 0.456, 'f1-score': 0.49890590809628016, 'support': 500}, 'vehicles_2': {'precision': 0.5239085239085239, 'recall': 0.504, 'f1-score': 0.5137614678899083, 'support': 500}, 'accuracy': 0.4916, 'macro avg': {'precision': 0.4905457629474199, 'recall': 0.4915999999999999, 'f1-score': 0.48654090965271984, 'support': 10000}, 'weighted avg': {'precision': 0.49054576294741975, 'recall': 0.4916, 'f1-score': 0.4865409096527198, 'support': 10000}}\n",
      "\n",
      "CR_ coarse _ of _ fine : accuracy = 0.4916\n"
     ]
    }
   ],
   "source": [
    "print(\"Classification Report:\")\n",
    "print(\"-\", C, \"_ of _\", F, ':\\n')\n",
    "CR_C_of_F = classification_report(C_Y_Test, C_of_F_Y_Predictions_nmb, target_names = C_Y_L)\n",
    "print(CR_C_of_F)\n",
    "CR_C_of_F_D = classification_report(C_Y_Test, C_of_F_Y_Predictions_nmb, target_names = C_Y_L, output_dict = True)\n",
    "print(\"\\n{CR_C_of_F_D} =\")\n",
    "print(CR_C_of_F_D)\n",
    "print(\"\\nCR_\", C, \"_ of _\", F, ':', A, '=', CR_C_of_F_D[A])"
   ]
  },
  {
   "cell_type": "code",
   "execution_count": 80,
   "metadata": {},
   "outputs": [
    {
     "name": "stdout",
     "output_type": "stream",
     "text": [
      ": accuracy\n",
      "CR_C      : A =    0.4852\n",
      "CR_F      : A =    0.3581\n",
      "CR_C_of_F : A =    0.4916\n",
      "dtype: float64\n"
     ]
    }
   ],
   "source": [
    "CR_C_A = CR_C_D[A]\n",
    "CR_F_A = CR_F_D[A]\n",
    "CR_C_of_F_A = CR_C_of_F_D[A]\n",
    "\n",
    "A_S = pd.Series({\n",
    "     'CR_C      : A =': CR_C_A,\n",
    "     'CR_F      : A =': CR_F_A,\n",
    "     'CR_C_of_F : A =': CR_C_of_F_A,\n",
    "    })\n",
    "print(':', A)\n",
    "print(A_S)"
   ]
  },
  {
   "cell_type": "code",
   "execution_count": 81,
   "metadata": {},
   "outputs": [
    {
     "name": "stdout",
     "output_type": "stream",
     "text": [
      "accuracy :\n",
      "- Min: 0.3581 \t= CR_F_A\n",
      "- Mid: 0.4852 \t= CR_C_A\n",
      "- Max: 0.4916 \t= CR_C_of_F_A\n",
      "\n",
      "=> CR_C_of_F_A - CR_C_A = 0.006399999999999961 ~  0.64 %\n",
      "=> CR_C     _A - CR_F_A = 0.12710000000000005  ~ 12.71 %\n"
     ]
    }
   ],
   "source": [
    "print(A, ':')\n",
    "print(\"- Min:\", min(CR_C_A, CR_F_A, CR_C_of_F_A), \"\\t= CR_F_A\") # = CR_F_A\n",
    "print(\"- Mid:\", CR_C_A, \"\\t= CR_C_A\") # = CR_C_A\n",
    "print(\"- Max:\", max(CR_C_A, CR_F_A, CR_C_of_F_A), \"\\t= CR_C_of_F_A\") # = CR_C_of_F_A\n",
    "\n",
    "print()\n",
    "D1 = CR_C_of_F_A - CR_C_A\n",
    "print(\"=> CR_C_of_F_A - CR_C_A =\", D1, '~ ', f\"{D1 * 100:.2}\", '%')\n",
    "D2 = CR_C_A - CR_F_A\n",
    "print(\"=> CR_C     _A - CR_F_A =\", D2, ' ~', f\"{D2 * 100:.4}\", '%')"
   ]
  },
  {
   "cell_type": "raw",
   "metadata": {},
   "source": [
    "x = 4863.4343091\n",
    "print(x)\n",
    "print(f\"{x:.6}\")\n",
    "print(\"{:.6}\".format(x))"
   ]
  },
  {
   "cell_type": "markdown",
   "metadata": {},
   "source": [
    "**Выводы:**\n",
    "<br>\n",
    "- **Качество предсказания** (`Accuracy`) при обучении ИНС **на**:\n",
    " - `20` широких классах (`Coarse`) - немного (незначительно, на `~ 0.64 %`) хуже, чем `100` узких (`Fine`);\n",
    " - `20` широких классах (`Coarse`) - (значительно, на `~ 12.71 %`) лучше, чем `100` узких (`Fine`);\n",
    " - Самое высокое - на `20` широких (`Coarse`) классах \n",
    " <br> (т. к., чем меньше всего классов, тем меньше вероятность ошибки,\n",
    " <br>  а обобщение предсказаний по узким (`Fine`) меткам до метки их широкого (`Coarse`) класса - \n",
    "  <br> всё равно остаётся обучением на `100` узких (`Fine`) классах и является просто усреднением значений);\n",
    " - Самое низкое - на `100` узких (`Fine`) классах;\n",
    " - В любом случае будет выше, если усовершенствовать архитектуру ИНС\n",
    " <br> (подобрать более оптимальные типы и порядок слоёв, а также - их гипер-параметры)\n",
    " <br> или, по крайней мере, увеличить число эпох обучения."
   ]
  },
  {
   "cell_type": "markdown",
   "metadata": {},
   "source": [
    "## 0.4."
   ]
  },
  {
   "cell_type": "code",
   "execution_count": 82,
   "metadata": {},
   "outputs": [],
   "source": [
    "# 4. Исследовать с помощью графиков,\n",
    "#     метрики предсказания для каких узких классов\n",
    "#     более всего отличаются от метрик их более широких классов.\n",
    "#    Выдвинуть предположение о причине возможного отличия."
   ]
  },
  {
   "cell_type": "code",
   "execution_count": 83,
   "metadata": {},
   "outputs": [
    {
     "name": "stdout",
     "output_type": "stream",
     "text": [
      "                                precision    recall  f1-score   support\n",
      "\n",
      "               aquatic_mammals       0.37      0.50      0.43       500\n",
      "                          fish       0.43      0.50      0.46       500\n",
      "                       flowers       0.73      0.68      0.70       500\n",
      "               food_containers       0.41      0.52      0.46       500\n",
      "          fruit_and_vegetables       0.59      0.47      0.53       500\n",
      "  household_electrical_devices       0.39      0.39      0.39       500\n",
      "           household_furniture       0.36      0.67      0.47       500\n",
      "                       insects       0.55      0.48      0.51       500\n",
      "              large_carnivores       0.48      0.33      0.39       500\n",
      " large_man-made_outdoor_things       0.50      0.64      0.56       500\n",
      "  large_natural_outdoor_scenes       0.65      0.67      0.66       500\n",
      "large_omnivores_and_herbivores       0.40      0.40      0.40       500\n",
      "                medium_mammals       0.47      0.35      0.40       500\n",
      "      non-insect_invertebrates       0.39      0.20      0.27       500\n",
      "                        people       0.50      0.61      0.55       500\n",
      "                      reptiles       0.38      0.24      0.29       500\n",
      "                 small_mammals       0.36      0.25      0.30       500\n",
      "                         trees       0.78      0.79      0.78       500\n",
      "                    vehicles_1       0.52      0.52      0.52       500\n",
      "                    vehicles_2       0.50      0.49      0.50       500\n",
      "\n",
      "                      accuracy                           0.49     10000\n",
      "                     macro avg       0.49      0.49      0.48     10000\n",
      "                  weighted avg       0.49      0.49      0.48     10000\n",
      "\n"
     ]
    }
   ],
   "source": [
    "print(CR_C)"
   ]
  },
  {
   "cell_type": "code",
   "execution_count": 84,
   "metadata": {
    "scrolled": false
   },
   "outputs": [
    {
     "name": "stdout",
     "output_type": "stream",
     "text": [
      "               precision    recall  f1-score   support\n",
      "\n",
      "        apple       0.39      0.79      0.52       100\n",
      "aquarium_fish       0.33      0.53      0.41       100\n",
      "         baby       0.30      0.34      0.32       100\n",
      "         bear       0.23      0.15      0.18       100\n",
      "       beaver       0.23      0.21      0.22       100\n",
      "          bed       0.25      0.24      0.24       100\n",
      "          bee       0.48      0.47      0.48       100\n",
      "       beetle       0.37      0.39      0.38       100\n",
      "      bicycle       0.52      0.35      0.42       100\n",
      "       bottle       0.63      0.38      0.48       100\n",
      "         bowl       0.24      0.19      0.21       100\n",
      "          boy       0.24      0.13      0.17       100\n",
      "       bridge       0.42      0.31      0.36       100\n",
      "          bus       0.23      0.31      0.26       100\n",
      "    butterfly       0.32      0.22      0.26       100\n",
      "        camel       0.27      0.25      0.26       100\n",
      "          can       0.31      0.44      0.36       100\n",
      "       castle       0.54      0.52      0.53       100\n",
      "  caterpillar       0.37      0.34      0.36       100\n",
      "       cattle       0.22      0.26      0.24       100\n",
      "        chair       0.71      0.60      0.65       100\n",
      "   chimpanzee       0.31      0.68      0.42       100\n",
      "        clock       0.35      0.30      0.32       100\n",
      "        cloud       0.45      0.73      0.55       100\n",
      "    cockroach       0.57      0.56      0.57       100\n",
      "        couch       0.21      0.27      0.24       100\n",
      "         crab       0.44      0.15      0.22       100\n",
      "    crocodile       0.23      0.22      0.23       100\n",
      "          cup       0.34      0.60      0.43       100\n",
      "     dinosaur       0.44      0.39      0.41       100\n",
      "      dolphin       0.36      0.39      0.37       100\n",
      "     elephant       0.25      0.36      0.30       100\n",
      "     flatfish       0.38      0.23      0.29       100\n",
      "       forest       0.24      0.39      0.30       100\n",
      "          fox       0.20      0.37      0.26       100\n",
      "         girl       0.33      0.15      0.21       100\n",
      "      hamster       0.37      0.25      0.30       100\n",
      "        house       0.30      0.31      0.30       100\n",
      "     kangaroo       0.12      0.18      0.14       100\n",
      "     keyboard       0.38      0.39      0.38       100\n",
      "         lamp       0.30      0.14      0.19       100\n",
      "   lawn_mower       0.62      0.56      0.59       100\n",
      "      leopard       0.33      0.26      0.29       100\n",
      "         lion       0.34      0.43      0.38       100\n",
      "       lizard       0.22      0.10      0.14       100\n",
      "      lobster       0.25      0.18      0.21       100\n",
      "          man       0.23      0.24      0.24       100\n",
      "   maple_tree       0.39      0.57      0.46       100\n",
      "   motorcycle       0.73      0.37      0.49       100\n",
      "     mountain       0.41      0.51      0.46       100\n",
      "        mouse       0.18      0.15      0.16       100\n",
      "     mushroom       0.32      0.21      0.25       100\n",
      "     oak_tree       0.58      0.68      0.62       100\n",
      "       orange       0.54      0.54      0.54       100\n",
      "       orchid       0.48      0.37      0.42       100\n",
      "        otter       0.04      0.03      0.04       100\n",
      "    palm_tree       0.42      0.62      0.50       100\n",
      "         pear       0.40      0.28      0.33       100\n",
      " pickup_truck       0.37      0.33      0.35       100\n",
      "    pine_tree       0.39      0.22      0.28       100\n",
      "        plain       0.79      0.67      0.72       100\n",
      "        plate       0.42      0.34      0.38       100\n",
      "        poppy       0.36      0.57      0.44       100\n",
      "    porcupine       0.31      0.30      0.31       100\n",
      "       possum       0.25      0.15      0.19       100\n",
      "       rabbit       0.26      0.24      0.25       100\n",
      "      raccoon       0.32      0.23      0.27       100\n",
      "          ray       0.24      0.34      0.28       100\n",
      "         road       0.52      0.71      0.60       100\n",
      "       rocket       0.50      0.48      0.49       100\n",
      "         rose       0.34      0.55      0.42       100\n",
      "          sea       0.41      0.70      0.52       100\n",
      "         seal       0.15      0.12      0.13       100\n",
      "        shark       0.35      0.35      0.35       100\n",
      "        shrew       0.21      0.25      0.23       100\n",
      "        skunk       0.43      0.63      0.51       100\n",
      "   skyscraper       0.57      0.58      0.58       100\n",
      "        snail       0.22      0.14      0.17       100\n",
      "        snake       0.28      0.10      0.15       100\n",
      "       spider       0.45      0.36      0.40       100\n",
      "     squirrel       0.16      0.15      0.16       100\n",
      "    streetcar       0.42      0.30      0.35       100\n",
      "    sunflower       0.58      0.71      0.64       100\n",
      " sweet_pepper       0.29      0.27      0.28       100\n",
      "        table       0.21      0.20      0.20       100\n",
      "         tank       0.43      0.56      0.48       100\n",
      "    telephone       0.41      0.41      0.41       100\n",
      "   television       0.38      0.43      0.40       100\n",
      "        tiger       0.58      0.26      0.36       100\n",
      "      tractor       0.35      0.32      0.33       100\n",
      "        train       0.31      0.22      0.26       100\n",
      "        trout       0.48      0.52      0.50       100\n",
      "        tulip       0.32      0.19      0.24       100\n",
      "       turtle       0.26      0.22      0.24       100\n",
      "     wardrobe       0.54      0.64      0.58       100\n",
      "        whale       0.42      0.52      0.46       100\n",
      "  willow_tree       0.28      0.20      0.23       100\n",
      "         wolf       0.29      0.38      0.33       100\n",
      "        woman       0.29      0.14      0.19       100\n",
      "         worm       0.31      0.23      0.26       100\n",
      "\n",
      "     accuracy                           0.36     10000\n",
      "    macro avg       0.36      0.36      0.35     10000\n",
      " weighted avg       0.36      0.36      0.35     10000\n",
      "\n"
     ]
    }
   ],
   "source": [
    "print(CR_F)"
   ]
  },
  {
   "cell_type": "code",
   "execution_count": 85,
   "metadata": {},
   "outputs": [
    {
     "name": "stdout",
     "output_type": "stream",
     "text": [
      "                                precision    recall  f1-score   support\n",
      "\n",
      "               aquatic_mammals       0.43      0.41      0.42       500\n",
      "                          fish       0.44      0.50      0.47       500\n",
      "                       flowers       0.62      0.72      0.67       500\n",
      "               food_containers       0.46      0.49      0.47       500\n",
      "          fruit_and_vegetables       0.54      0.57      0.56       500\n",
      "  household_electrical_devices       0.46      0.41      0.43       500\n",
      "           household_furniture       0.50      0.53      0.52       500\n",
      "                       insects       0.54      0.49      0.51       500\n",
      "              large_carnivores       0.43      0.38      0.41       500\n",
      " large_man-made_outdoor_things       0.58      0.59      0.59       500\n",
      "  large_natural_outdoor_scenes       0.56      0.79      0.66       500\n",
      "large_omnivores_and_herbivores       0.34      0.49      0.40       500\n",
      "                medium_mammals       0.36      0.40      0.38       500\n",
      "      non-insect_invertebrates       0.40      0.26      0.32       500\n",
      "                        people       0.64      0.47      0.54       500\n",
      "                      reptiles       0.37      0.26      0.30       500\n",
      "                 small_mammals       0.34      0.31      0.33       500\n",
      "                         trees       0.72      0.78      0.75       500\n",
      "                    vehicles_1       0.55      0.46      0.50       500\n",
      "                    vehicles_2       0.52      0.50      0.51       500\n",
      "\n",
      "                      accuracy                           0.49     10000\n",
      "                     macro avg       0.49      0.49      0.49     10000\n",
      "                  weighted avg       0.49      0.49      0.49     10000\n",
      "\n"
     ]
    }
   ],
   "source": [
    "print(CR_C_of_F)"
   ]
  },
  {
   "cell_type": "code",
   "execution_count": 86,
   "metadata": {},
   "outputs": [],
   "source": [
    "P = \"precision\"\n",
    "R = \"recall\"\n",
    "F1S = \"f1-score\"\n",
    "\n",
    "def get_Metric(M):\n",
    "    print(\"Metric: M = \", end = '')\n",
    "    if ((M == P) or (M == R) or (M == F1S)):\n",
    "        print(M)       \n",
    "    else:\n",
    "        print(\"Error: M\")     \n",
    "    \n",
    "    get_C_M = lambda i: CR_C_D[i][M]\n",
    "    C_M_L = np.array([get_C_M(i) for i in C_Y_L])\n",
    "\n",
    "    get_F_M = lambda i: CR_F_D[i][M]\n",
    "    F_M_L = np.array([get_F_M(i) for i in F_Y_L])\n",
    "\n",
    "    get_C_of_F_M = lambda i: CR_C_of_F_D[i][M]\n",
    "    C_of_F_M_L = np.array([get_C_of_F_M(i) for i in C_Y_L])\n",
    "    \n",
    "    print(\"\\n[C_M_L] =\")\n",
    "    print(C_M_L)  \n",
    "    print(\"\\n[F_M_L] =\")\n",
    "    print(F_M_L)\n",
    "    print(\"\\n[C_of_F_M_L] =\")\n",
    "    print(C_of_F_M_L)        \n",
    "    \n",
    "    return C_M_L, F_M_L, C_of_F_M_L"
   ]
  },
  {
   "cell_type": "code",
   "execution_count": 87,
   "metadata": {},
   "outputs": [
    {
     "name": "stdout",
     "output_type": "stream",
     "text": [
      "Metric: M = precision\n",
      "\n",
      "[C_M_L] =\n",
      "[0.37168142 0.43455497 0.73160173 0.40981013 0.5925     0.39227642\n",
      " 0.36373507 0.55196305 0.47826087 0.50234009 0.65234375 0.39959839\n",
      " 0.46524064 0.39382239 0.50327869 0.37539432 0.36127168 0.77539062\n",
      " 0.51903808 0.49798387]\n",
      "\n",
      "[F_M_L] =\n",
      "[0.38916256 0.33333333 0.29824561 0.234375   0.22826087 0.24742268\n",
      " 0.48453608 0.36792453 0.52238806 0.63333333 0.24050633 0.24074074\n",
      " 0.42465753 0.22962963 0.31884058 0.2688172  0.30985915 0.54166667\n",
      " 0.37362637 0.22413793 0.71428571 0.30909091 0.34883721 0.44512195\n",
      " 0.57142857 0.2109375  0.44117647 0.23157895 0.33898305 0.44318182\n",
      " 0.35779817 0.25174825 0.38333333 0.24223602 0.20441989 0.33333333\n",
      " 0.37313433 0.29807692 0.11612903 0.375      0.30434783 0.61538462\n",
      " 0.325      0.344      0.22222222 0.25       0.23076923 0.38513514\n",
      " 0.7254902  0.41463415 0.17857143 0.31818182 0.57627119 0.54\n",
      " 0.48051948 0.04225352 0.41891892 0.4        0.36666667 0.39285714\n",
      " 0.78823529 0.425      0.35849057 0.3125     0.25       0.26086957\n",
      " 0.31506849 0.24113475 0.52205882 0.5        0.33742331 0.41420118\n",
      " 0.15189873 0.35353535 0.20833333 0.43448276 0.57425743 0.21875\n",
      " 0.27777778 0.45       0.16304348 0.42253521 0.57723577 0.28723404\n",
      " 0.20618557 0.42748092 0.40594059 0.37719298 0.57777778 0.34782609\n",
      " 0.30985915 0.47706422 0.31666667 0.26190476 0.53781513 0.41935484\n",
      " 0.27777778 0.29457364 0.29166667 0.30666667]\n",
      "\n",
      "[C_of_F_M_L] =\n",
      "[0.42947368 0.44366197 0.6185567  0.45539033 0.53846154 0.45676275\n",
      " 0.50285714 0.53579176 0.43115124 0.58235294 0.56267806 0.33975241\n",
      " 0.35855856 0.40307692 0.64383562 0.36781609 0.34285714 0.72324723\n",
      " 0.55072464 0.52390852]\n"
     ]
    }
   ],
   "source": [
    "C_P_L, F_P_L, C_of_F_P_L = get_Metric(P)"
   ]
  },
  {
   "cell_type": "code",
   "execution_count": 88,
   "metadata": {},
   "outputs": [
    {
     "name": "stdout",
     "output_type": "stream",
     "text": [
      "Metric: M = recall\n",
      "\n",
      "[C_M_L] =\n",
      "[0.504 0.498 0.676 0.518 0.474 0.386 0.67  0.478 0.33  0.644 0.668 0.398\n",
      " 0.348 0.204 0.614 0.238 0.25  0.794 0.518 0.494]\n",
      "\n",
      "[F_M_L] =\n",
      "[0.79 0.53 0.34 0.15 0.21 0.24 0.47 0.39 0.35 0.38 0.19 0.13 0.31 0.31\n",
      " 0.22 0.25 0.44 0.52 0.34 0.26 0.6  0.68 0.3  0.73 0.56 0.27 0.15 0.22\n",
      " 0.6  0.39 0.39 0.36 0.23 0.39 0.37 0.15 0.25 0.31 0.18 0.39 0.14 0.56\n",
      " 0.26 0.43 0.1  0.18 0.24 0.57 0.37 0.51 0.15 0.21 0.68 0.54 0.37 0.03\n",
      " 0.62 0.28 0.33 0.22 0.67 0.34 0.57 0.3  0.15 0.24 0.23 0.34 0.71 0.48\n",
      " 0.55 0.7  0.12 0.35 0.25 0.63 0.58 0.14 0.1  0.36 0.15 0.3  0.71 0.27\n",
      " 0.2  0.56 0.41 0.43 0.26 0.32 0.22 0.52 0.19 0.22 0.64 0.52 0.2  0.38\n",
      " 0.14 0.23]\n",
      "\n",
      "[C_of_F_M_L] =\n",
      "[0.408 0.504 0.72  0.49  0.574 0.412 0.528 0.494 0.382 0.594 0.79  0.494\n",
      " 0.398 0.262 0.47  0.256 0.312 0.784 0.456 0.504]\n"
     ]
    }
   ],
   "source": [
    "C_R_L, F_R_L, C_of_F_R_L = get_Metric(R)"
   ]
  },
  {
   "cell_type": "code",
   "execution_count": 89,
   "metadata": {},
   "outputs": [
    {
     "name": "stdout",
     "output_type": "stream",
     "text": [
      "Metric: M = f1-score\n",
      "\n",
      "[C_M_L] =\n",
      "[0.4278438  0.46411929 0.7027027  0.45759717 0.52666667 0.3891129\n",
      " 0.47149894 0.51232583 0.39053254 0.56441718 0.66007905 0.3987976\n",
      " 0.39816934 0.2687747  0.55315315 0.29130967 0.29550827 0.78458498\n",
      " 0.51851852 0.49598394]\n",
      "\n",
      "[F_M_L] =\n",
      "[0.52145215 0.40926641 0.31775701 0.18292683 0.21875    0.24365482\n",
      " 0.47715736 0.37864078 0.41916168 0.475      0.2122905  0.16883117\n",
      " 0.3583815  0.26382979 0.26035503 0.25906736 0.36363636 0.53061224\n",
      " 0.35602094 0.24074074 0.65217391 0.425      0.32258065 0.5530303\n",
      " 0.56565657 0.23684211 0.2238806  0.22564103 0.433213   0.41489362\n",
      " 0.37320574 0.2962963  0.2875     0.29885057 0.2633452  0.20689655\n",
      " 0.2994012  0.30392157 0.14117647 0.38235294 0.19178082 0.58638743\n",
      " 0.28888889 0.38222222 0.13793103 0.20930233 0.23529412 0.45967742\n",
      " 0.49006623 0.4573991  0.16304348 0.25301205 0.62385321 0.54\n",
      " 0.4180791  0.03508772 0.5        0.32941176 0.34736842 0.28205128\n",
      " 0.72432432 0.37777778 0.44015444 0.30612245 0.1875     0.25\n",
      " 0.26589595 0.28215768 0.60169492 0.48979592 0.41825095 0.5204461\n",
      " 0.13407821 0.35175879 0.22727273 0.51428571 0.57711443 0.17073171\n",
      " 0.14705882 0.4        0.15625    0.35087719 0.6367713  0.27835052\n",
      " 0.20304569 0.48484848 0.4079602  0.40186916 0.35862069 0.33333333\n",
      " 0.25730994 0.49760766 0.2375     0.23913043 0.58447489 0.46428571\n",
      " 0.23255814 0.33187773 0.18918919 0.26285714]\n",
      "\n",
      "[C_of_F_M_L] =\n",
      "[0.41846154 0.47191011 0.66543438 0.47206166 0.55566312 0.43322818\n",
      " 0.51512195 0.51404787 0.40509014 0.58811881 0.65723794 0.40260799\n",
      " 0.37725118 0.31757576 0.5433526  0.30188679 0.32670157 0.75239923\n",
      " 0.49890591 0.51376147]\n"
     ]
    }
   ],
   "source": [
    "C_F1S_L, F_F1S_L, C_of_F_F1S_L = get_Metric(F1S)"
   ]
  },
  {
   "cell_type": "code",
   "execution_count": 90,
   "metadata": {},
   "outputs": [
    {
     "name": "stdout",
     "output_type": "stream",
     "text": [
      "C_Y_L\n"
     ]
    }
   ],
   "source": [
    "D_DF_col_0 = \"C_Y_L\"\n",
    "print(D_DF_col_0)"
   ]
  },
  {
   "cell_type": "code",
   "execution_count": 91,
   "metadata": {},
   "outputs": [
    {
     "name": "stdout",
     "output_type": "stream",
     "text": [
      "coarse :\n"
     ]
    },
    {
     "data": {
      "text/html": [
       "<div>\n",
       "<style scoped>\n",
       "    .dataframe tbody tr th:only-of-type {\n",
       "        vertical-align: middle;\n",
       "    }\n",
       "\n",
       "    .dataframe tbody tr th {\n",
       "        vertical-align: top;\n",
       "    }\n",
       "\n",
       "    .dataframe thead th {\n",
       "        text-align: right;\n",
       "    }\n",
       "</style>\n",
       "<table border=\"1\" class=\"dataframe\">\n",
       "  <thead>\n",
       "    <tr style=\"text-align: right;\">\n",
       "      <th></th>\n",
       "      <th>C_Y_L</th>\n",
       "      <th>C_P_L</th>\n",
       "      <th>C_R_L</th>\n",
       "      <th>C_F1S_L</th>\n",
       "    </tr>\n",
       "  </thead>\n",
       "  <tbody>\n",
       "    <tr>\n",
       "      <th>0</th>\n",
       "      <td>aquatic_mammals</td>\n",
       "      <td>0.371681</td>\n",
       "      <td>0.504</td>\n",
       "      <td>0.427844</td>\n",
       "    </tr>\n",
       "    <tr>\n",
       "      <th>1</th>\n",
       "      <td>fish</td>\n",
       "      <td>0.434555</td>\n",
       "      <td>0.498</td>\n",
       "      <td>0.464119</td>\n",
       "    </tr>\n",
       "    <tr>\n",
       "      <th>2</th>\n",
       "      <td>flowers</td>\n",
       "      <td>0.731602</td>\n",
       "      <td>0.676</td>\n",
       "      <td>0.702703</td>\n",
       "    </tr>\n",
       "    <tr>\n",
       "      <th>3</th>\n",
       "      <td>food_containers</td>\n",
       "      <td>0.409810</td>\n",
       "      <td>0.518</td>\n",
       "      <td>0.457597</td>\n",
       "    </tr>\n",
       "    <tr>\n",
       "      <th>4</th>\n",
       "      <td>fruit_and_vegetables</td>\n",
       "      <td>0.592500</td>\n",
       "      <td>0.474</td>\n",
       "      <td>0.526667</td>\n",
       "    </tr>\n",
       "    <tr>\n",
       "      <th>5</th>\n",
       "      <td>household_electrical_devices</td>\n",
       "      <td>0.392276</td>\n",
       "      <td>0.386</td>\n",
       "      <td>0.389113</td>\n",
       "    </tr>\n",
       "    <tr>\n",
       "      <th>6</th>\n",
       "      <td>household_furniture</td>\n",
       "      <td>0.363735</td>\n",
       "      <td>0.670</td>\n",
       "      <td>0.471499</td>\n",
       "    </tr>\n",
       "    <tr>\n",
       "      <th>7</th>\n",
       "      <td>insects</td>\n",
       "      <td>0.551963</td>\n",
       "      <td>0.478</td>\n",
       "      <td>0.512326</td>\n",
       "    </tr>\n",
       "    <tr>\n",
       "      <th>8</th>\n",
       "      <td>large_carnivores</td>\n",
       "      <td>0.478261</td>\n",
       "      <td>0.330</td>\n",
       "      <td>0.390533</td>\n",
       "    </tr>\n",
       "    <tr>\n",
       "      <th>9</th>\n",
       "      <td>large_man-made_outdoor_things</td>\n",
       "      <td>0.502340</td>\n",
       "      <td>0.644</td>\n",
       "      <td>0.564417</td>\n",
       "    </tr>\n",
       "    <tr>\n",
       "      <th>10</th>\n",
       "      <td>large_natural_outdoor_scenes</td>\n",
       "      <td>0.652344</td>\n",
       "      <td>0.668</td>\n",
       "      <td>0.660079</td>\n",
       "    </tr>\n",
       "    <tr>\n",
       "      <th>11</th>\n",
       "      <td>large_omnivores_and_herbivores</td>\n",
       "      <td>0.399598</td>\n",
       "      <td>0.398</td>\n",
       "      <td>0.398798</td>\n",
       "    </tr>\n",
       "    <tr>\n",
       "      <th>12</th>\n",
       "      <td>medium_mammals</td>\n",
       "      <td>0.465241</td>\n",
       "      <td>0.348</td>\n",
       "      <td>0.398169</td>\n",
       "    </tr>\n",
       "    <tr>\n",
       "      <th>13</th>\n",
       "      <td>non-insect_invertebrates</td>\n",
       "      <td>0.393822</td>\n",
       "      <td>0.204</td>\n",
       "      <td>0.268775</td>\n",
       "    </tr>\n",
       "    <tr>\n",
       "      <th>14</th>\n",
       "      <td>people</td>\n",
       "      <td>0.503279</td>\n",
       "      <td>0.614</td>\n",
       "      <td>0.553153</td>\n",
       "    </tr>\n",
       "    <tr>\n",
       "      <th>15</th>\n",
       "      <td>reptiles</td>\n",
       "      <td>0.375394</td>\n",
       "      <td>0.238</td>\n",
       "      <td>0.291310</td>\n",
       "    </tr>\n",
       "    <tr>\n",
       "      <th>16</th>\n",
       "      <td>small_mammals</td>\n",
       "      <td>0.361272</td>\n",
       "      <td>0.250</td>\n",
       "      <td>0.295508</td>\n",
       "    </tr>\n",
       "    <tr>\n",
       "      <th>17</th>\n",
       "      <td>trees</td>\n",
       "      <td>0.775391</td>\n",
       "      <td>0.794</td>\n",
       "      <td>0.784585</td>\n",
       "    </tr>\n",
       "    <tr>\n",
       "      <th>18</th>\n",
       "      <td>vehicles_1</td>\n",
       "      <td>0.519038</td>\n",
       "      <td>0.518</td>\n",
       "      <td>0.518519</td>\n",
       "    </tr>\n",
       "    <tr>\n",
       "      <th>19</th>\n",
       "      <td>vehicles_2</td>\n",
       "      <td>0.497984</td>\n",
       "      <td>0.494</td>\n",
       "      <td>0.495984</td>\n",
       "    </tr>\n",
       "  </tbody>\n",
       "</table>\n",
       "</div>"
      ],
      "text/plain": [
       "                             C_Y_L     C_P_L  C_R_L   C_F1S_L\n",
       "0                  aquatic_mammals  0.371681  0.504  0.427844\n",
       "1                             fish  0.434555  0.498  0.464119\n",
       "2                          flowers  0.731602  0.676  0.702703\n",
       "3                  food_containers  0.409810  0.518  0.457597\n",
       "4             fruit_and_vegetables  0.592500  0.474  0.526667\n",
       "5     household_electrical_devices  0.392276  0.386  0.389113\n",
       "6              household_furniture  0.363735  0.670  0.471499\n",
       "7                          insects  0.551963  0.478  0.512326\n",
       "8                 large_carnivores  0.478261  0.330  0.390533\n",
       "9    large_man-made_outdoor_things  0.502340  0.644  0.564417\n",
       "10    large_natural_outdoor_scenes  0.652344  0.668  0.660079\n",
       "11  large_omnivores_and_herbivores  0.399598  0.398  0.398798\n",
       "12                  medium_mammals  0.465241  0.348  0.398169\n",
       "13        non-insect_invertebrates  0.393822  0.204  0.268775\n",
       "14                          people  0.503279  0.614  0.553153\n",
       "15                        reptiles  0.375394  0.238  0.291310\n",
       "16                   small_mammals  0.361272  0.250  0.295508\n",
       "17                           trees  0.775391  0.794  0.784585\n",
       "18                      vehicles_1  0.519038  0.518  0.518519\n",
       "19                      vehicles_2  0.497984  0.494  0.495984"
      ]
     },
     "execution_count": 91,
     "metadata": {},
     "output_type": "execute_result"
    }
   ],
   "source": [
    "print(C, ':')\n",
    "C_M_DF = pd.DataFrame({\n",
    "    D_DF_col_0: C_Y_L,\n",
    "    'C_P_L': C_P_L,\n",
    "    'C_R_L': C_R_L,\n",
    "    'C_F1S_L': C_F1S_L\n",
    "    })\n",
    "\n",
    "C_M_DF"
   ]
  },
  {
   "cell_type": "code",
   "execution_count": 92,
   "metadata": {},
   "outputs": [
    {
     "name": "stdout",
     "output_type": "stream",
     "text": [
      "fine :\n"
     ]
    },
    {
     "data": {
      "text/html": [
       "<div>\n",
       "<style scoped>\n",
       "    .dataframe tbody tr th:only-of-type {\n",
       "        vertical-align: middle;\n",
       "    }\n",
       "\n",
       "    .dataframe tbody tr th {\n",
       "        vertical-align: top;\n",
       "    }\n",
       "\n",
       "    .dataframe thead th {\n",
       "        text-align: right;\n",
       "    }\n",
       "</style>\n",
       "<table border=\"1\" class=\"dataframe\">\n",
       "  <thead>\n",
       "    <tr style=\"text-align: right;\">\n",
       "      <th></th>\n",
       "      <th>F_Y_L</th>\n",
       "      <th>F_P_L</th>\n",
       "      <th>F_R_L</th>\n",
       "      <th>F_F1S_L</th>\n",
       "    </tr>\n",
       "  </thead>\n",
       "  <tbody>\n",
       "    <tr>\n",
       "      <th>0</th>\n",
       "      <td>apple</td>\n",
       "      <td>0.389163</td>\n",
       "      <td>0.79</td>\n",
       "      <td>0.521452</td>\n",
       "    </tr>\n",
       "    <tr>\n",
       "      <th>1</th>\n",
       "      <td>aquarium_fish</td>\n",
       "      <td>0.333333</td>\n",
       "      <td>0.53</td>\n",
       "      <td>0.409266</td>\n",
       "    </tr>\n",
       "    <tr>\n",
       "      <th>2</th>\n",
       "      <td>baby</td>\n",
       "      <td>0.298246</td>\n",
       "      <td>0.34</td>\n",
       "      <td>0.317757</td>\n",
       "    </tr>\n",
       "    <tr>\n",
       "      <th>3</th>\n",
       "      <td>bear</td>\n",
       "      <td>0.234375</td>\n",
       "      <td>0.15</td>\n",
       "      <td>0.182927</td>\n",
       "    </tr>\n",
       "    <tr>\n",
       "      <th>4</th>\n",
       "      <td>beaver</td>\n",
       "      <td>0.228261</td>\n",
       "      <td>0.21</td>\n",
       "      <td>0.218750</td>\n",
       "    </tr>\n",
       "    <tr>\n",
       "      <th>...</th>\n",
       "      <td>...</td>\n",
       "      <td>...</td>\n",
       "      <td>...</td>\n",
       "      <td>...</td>\n",
       "    </tr>\n",
       "    <tr>\n",
       "      <th>95</th>\n",
       "      <td>whale</td>\n",
       "      <td>0.419355</td>\n",
       "      <td>0.52</td>\n",
       "      <td>0.464286</td>\n",
       "    </tr>\n",
       "    <tr>\n",
       "      <th>96</th>\n",
       "      <td>willow_tree</td>\n",
       "      <td>0.277778</td>\n",
       "      <td>0.20</td>\n",
       "      <td>0.232558</td>\n",
       "    </tr>\n",
       "    <tr>\n",
       "      <th>97</th>\n",
       "      <td>wolf</td>\n",
       "      <td>0.294574</td>\n",
       "      <td>0.38</td>\n",
       "      <td>0.331878</td>\n",
       "    </tr>\n",
       "    <tr>\n",
       "      <th>98</th>\n",
       "      <td>woman</td>\n",
       "      <td>0.291667</td>\n",
       "      <td>0.14</td>\n",
       "      <td>0.189189</td>\n",
       "    </tr>\n",
       "    <tr>\n",
       "      <th>99</th>\n",
       "      <td>worm</td>\n",
       "      <td>0.306667</td>\n",
       "      <td>0.23</td>\n",
       "      <td>0.262857</td>\n",
       "    </tr>\n",
       "  </tbody>\n",
       "</table>\n",
       "<p>100 rows × 4 columns</p>\n",
       "</div>"
      ],
      "text/plain": [
       "            F_Y_L     F_P_L  F_R_L   F_F1S_L\n",
       "0           apple  0.389163   0.79  0.521452\n",
       "1   aquarium_fish  0.333333   0.53  0.409266\n",
       "2            baby  0.298246   0.34  0.317757\n",
       "3            bear  0.234375   0.15  0.182927\n",
       "4          beaver  0.228261   0.21  0.218750\n",
       "..            ...       ...    ...       ...\n",
       "95          whale  0.419355   0.52  0.464286\n",
       "96    willow_tree  0.277778   0.20  0.232558\n",
       "97           wolf  0.294574   0.38  0.331878\n",
       "98          woman  0.291667   0.14  0.189189\n",
       "99           worm  0.306667   0.23  0.262857\n",
       "\n",
       "[100 rows x 4 columns]"
      ]
     },
     "execution_count": 92,
     "metadata": {},
     "output_type": "execute_result"
    }
   ],
   "source": [
    "print(F, ':')\n",
    "F_M_DF = pd.DataFrame({\n",
    "    'F_Y_L': F_Y_L,\n",
    "    'F_P_L': F_P_L,\n",
    "    'F_R_L': F_R_L,\n",
    "    'F_F1S_L': F_F1S_L\n",
    "    })\n",
    "\n",
    "F_M_DF"
   ]
  },
  {
   "cell_type": "code",
   "execution_count": 93,
   "metadata": {},
   "outputs": [
    {
     "name": "stdout",
     "output_type": "stream",
     "text": [
      "coarse _ of _ fine :\n"
     ]
    },
    {
     "data": {
      "text/html": [
       "<div>\n",
       "<style scoped>\n",
       "    .dataframe tbody tr th:only-of-type {\n",
       "        vertical-align: middle;\n",
       "    }\n",
       "\n",
       "    .dataframe tbody tr th {\n",
       "        vertical-align: top;\n",
       "    }\n",
       "\n",
       "    .dataframe thead th {\n",
       "        text-align: right;\n",
       "    }\n",
       "</style>\n",
       "<table border=\"1\" class=\"dataframe\">\n",
       "  <thead>\n",
       "    <tr style=\"text-align: right;\">\n",
       "      <th></th>\n",
       "      <th>C_Y_L</th>\n",
       "      <th>C_of_F_P_L</th>\n",
       "      <th>C_of_F_R_L</th>\n",
       "      <th>C_of_F_F1S_L</th>\n",
       "    </tr>\n",
       "  </thead>\n",
       "  <tbody>\n",
       "    <tr>\n",
       "      <th>0</th>\n",
       "      <td>aquatic_mammals</td>\n",
       "      <td>0.429474</td>\n",
       "      <td>0.408</td>\n",
       "      <td>0.418462</td>\n",
       "    </tr>\n",
       "    <tr>\n",
       "      <th>1</th>\n",
       "      <td>fish</td>\n",
       "      <td>0.443662</td>\n",
       "      <td>0.504</td>\n",
       "      <td>0.471910</td>\n",
       "    </tr>\n",
       "    <tr>\n",
       "      <th>2</th>\n",
       "      <td>flowers</td>\n",
       "      <td>0.618557</td>\n",
       "      <td>0.720</td>\n",
       "      <td>0.665434</td>\n",
       "    </tr>\n",
       "    <tr>\n",
       "      <th>3</th>\n",
       "      <td>food_containers</td>\n",
       "      <td>0.455390</td>\n",
       "      <td>0.490</td>\n",
       "      <td>0.472062</td>\n",
       "    </tr>\n",
       "    <tr>\n",
       "      <th>4</th>\n",
       "      <td>fruit_and_vegetables</td>\n",
       "      <td>0.538462</td>\n",
       "      <td>0.574</td>\n",
       "      <td>0.555663</td>\n",
       "    </tr>\n",
       "    <tr>\n",
       "      <th>5</th>\n",
       "      <td>household_electrical_devices</td>\n",
       "      <td>0.456763</td>\n",
       "      <td>0.412</td>\n",
       "      <td>0.433228</td>\n",
       "    </tr>\n",
       "    <tr>\n",
       "      <th>6</th>\n",
       "      <td>household_furniture</td>\n",
       "      <td>0.502857</td>\n",
       "      <td>0.528</td>\n",
       "      <td>0.515122</td>\n",
       "    </tr>\n",
       "    <tr>\n",
       "      <th>7</th>\n",
       "      <td>insects</td>\n",
       "      <td>0.535792</td>\n",
       "      <td>0.494</td>\n",
       "      <td>0.514048</td>\n",
       "    </tr>\n",
       "    <tr>\n",
       "      <th>8</th>\n",
       "      <td>large_carnivores</td>\n",
       "      <td>0.431151</td>\n",
       "      <td>0.382</td>\n",
       "      <td>0.405090</td>\n",
       "    </tr>\n",
       "    <tr>\n",
       "      <th>9</th>\n",
       "      <td>large_man-made_outdoor_things</td>\n",
       "      <td>0.582353</td>\n",
       "      <td>0.594</td>\n",
       "      <td>0.588119</td>\n",
       "    </tr>\n",
       "    <tr>\n",
       "      <th>10</th>\n",
       "      <td>large_natural_outdoor_scenes</td>\n",
       "      <td>0.562678</td>\n",
       "      <td>0.790</td>\n",
       "      <td>0.657238</td>\n",
       "    </tr>\n",
       "    <tr>\n",
       "      <th>11</th>\n",
       "      <td>large_omnivores_and_herbivores</td>\n",
       "      <td>0.339752</td>\n",
       "      <td>0.494</td>\n",
       "      <td>0.402608</td>\n",
       "    </tr>\n",
       "    <tr>\n",
       "      <th>12</th>\n",
       "      <td>medium_mammals</td>\n",
       "      <td>0.358559</td>\n",
       "      <td>0.398</td>\n",
       "      <td>0.377251</td>\n",
       "    </tr>\n",
       "    <tr>\n",
       "      <th>13</th>\n",
       "      <td>non-insect_invertebrates</td>\n",
       "      <td>0.403077</td>\n",
       "      <td>0.262</td>\n",
       "      <td>0.317576</td>\n",
       "    </tr>\n",
       "    <tr>\n",
       "      <th>14</th>\n",
       "      <td>people</td>\n",
       "      <td>0.643836</td>\n",
       "      <td>0.470</td>\n",
       "      <td>0.543353</td>\n",
       "    </tr>\n",
       "    <tr>\n",
       "      <th>15</th>\n",
       "      <td>reptiles</td>\n",
       "      <td>0.367816</td>\n",
       "      <td>0.256</td>\n",
       "      <td>0.301887</td>\n",
       "    </tr>\n",
       "    <tr>\n",
       "      <th>16</th>\n",
       "      <td>small_mammals</td>\n",
       "      <td>0.342857</td>\n",
       "      <td>0.312</td>\n",
       "      <td>0.326702</td>\n",
       "    </tr>\n",
       "    <tr>\n",
       "      <th>17</th>\n",
       "      <td>trees</td>\n",
       "      <td>0.723247</td>\n",
       "      <td>0.784</td>\n",
       "      <td>0.752399</td>\n",
       "    </tr>\n",
       "    <tr>\n",
       "      <th>18</th>\n",
       "      <td>vehicles_1</td>\n",
       "      <td>0.550725</td>\n",
       "      <td>0.456</td>\n",
       "      <td>0.498906</td>\n",
       "    </tr>\n",
       "    <tr>\n",
       "      <th>19</th>\n",
       "      <td>vehicles_2</td>\n",
       "      <td>0.523909</td>\n",
       "      <td>0.504</td>\n",
       "      <td>0.513761</td>\n",
       "    </tr>\n",
       "  </tbody>\n",
       "</table>\n",
       "</div>"
      ],
      "text/plain": [
       "                             C_Y_L  C_of_F_P_L  C_of_F_R_L  C_of_F_F1S_L\n",
       "0                  aquatic_mammals    0.429474       0.408      0.418462\n",
       "1                             fish    0.443662       0.504      0.471910\n",
       "2                          flowers    0.618557       0.720      0.665434\n",
       "3                  food_containers    0.455390       0.490      0.472062\n",
       "4             fruit_and_vegetables    0.538462       0.574      0.555663\n",
       "5     household_electrical_devices    0.456763       0.412      0.433228\n",
       "6              household_furniture    0.502857       0.528      0.515122\n",
       "7                          insects    0.535792       0.494      0.514048\n",
       "8                 large_carnivores    0.431151       0.382      0.405090\n",
       "9    large_man-made_outdoor_things    0.582353       0.594      0.588119\n",
       "10    large_natural_outdoor_scenes    0.562678       0.790      0.657238\n",
       "11  large_omnivores_and_herbivores    0.339752       0.494      0.402608\n",
       "12                  medium_mammals    0.358559       0.398      0.377251\n",
       "13        non-insect_invertebrates    0.403077       0.262      0.317576\n",
       "14                          people    0.643836       0.470      0.543353\n",
       "15                        reptiles    0.367816       0.256      0.301887\n",
       "16                   small_mammals    0.342857       0.312      0.326702\n",
       "17                           trees    0.723247       0.784      0.752399\n",
       "18                      vehicles_1    0.550725       0.456      0.498906\n",
       "19                      vehicles_2    0.523909       0.504      0.513761"
      ]
     },
     "execution_count": 93,
     "metadata": {},
     "output_type": "execute_result"
    }
   ],
   "source": [
    "print(C + \" _ of _ \" + F, ':')\n",
    "C_of_F_M_DF = pd.DataFrame({\n",
    "    D_DF_col_0: C_Y_L,\n",
    "    'C_of_F_P_L': C_of_F_P_L,\n",
    "    'C_of_F_R_L': C_of_F_R_L,\n",
    "    'C_of_F_F1S_L': C_of_F_F1S_L\n",
    "    })\n",
    "\n",
    "C_of_F_M_DF"
   ]
  },
  {
   "cell_type": "code",
   "execution_count": 94,
   "metadata": {},
   "outputs": [
    {
     "name": "stdout",
     "output_type": "stream",
     "text": [
      "coarse VS coarse _ of _ fine :\n"
     ]
    },
    {
     "data": {
      "text/html": [
       "<div>\n",
       "<style scoped>\n",
       "    .dataframe tbody tr th:only-of-type {\n",
       "        vertical-align: middle;\n",
       "    }\n",
       "\n",
       "    .dataframe tbody tr th {\n",
       "        vertical-align: top;\n",
       "    }\n",
       "\n",
       "    .dataframe thead th {\n",
       "        text-align: right;\n",
       "    }\n",
       "</style>\n",
       "<table border=\"1\" class=\"dataframe\">\n",
       "  <thead>\n",
       "    <tr style=\"text-align: right;\">\n",
       "      <th></th>\n",
       "      <th>C_Y_L</th>\n",
       "      <th>C_P_L - C_of_F_P_L</th>\n",
       "      <th>C_R_L - C_of_F_R_L</th>\n",
       "      <th>C_F1S_L - C_of_F_F1S_L</th>\n",
       "    </tr>\n",
       "  </thead>\n",
       "  <tbody>\n",
       "    <tr>\n",
       "      <th>0</th>\n",
       "      <td>aquatic_mammals</td>\n",
       "      <td>-0.057792</td>\n",
       "      <td>0.096</td>\n",
       "      <td>0.009382</td>\n",
       "    </tr>\n",
       "    <tr>\n",
       "      <th>1</th>\n",
       "      <td>fish</td>\n",
       "      <td>-0.009107</td>\n",
       "      <td>-0.006</td>\n",
       "      <td>-0.007791</td>\n",
       "    </tr>\n",
       "    <tr>\n",
       "      <th>2</th>\n",
       "      <td>flowers</td>\n",
       "      <td>0.113045</td>\n",
       "      <td>-0.044</td>\n",
       "      <td>0.037268</td>\n",
       "    </tr>\n",
       "    <tr>\n",
       "      <th>3</th>\n",
       "      <td>food_containers</td>\n",
       "      <td>-0.045580</td>\n",
       "      <td>0.028</td>\n",
       "      <td>-0.014464</td>\n",
       "    </tr>\n",
       "    <tr>\n",
       "      <th>4</th>\n",
       "      <td>fruit_and_vegetables</td>\n",
       "      <td>0.054038</td>\n",
       "      <td>-0.100</td>\n",
       "      <td>-0.028996</td>\n",
       "    </tr>\n",
       "    <tr>\n",
       "      <th>5</th>\n",
       "      <td>household_electrical_devices</td>\n",
       "      <td>-0.064486</td>\n",
       "      <td>-0.026</td>\n",
       "      <td>-0.044115</td>\n",
       "    </tr>\n",
       "    <tr>\n",
       "      <th>6</th>\n",
       "      <td>household_furniture</td>\n",
       "      <td>-0.139122</td>\n",
       "      <td>0.142</td>\n",
       "      <td>-0.043623</td>\n",
       "    </tr>\n",
       "    <tr>\n",
       "      <th>7</th>\n",
       "      <td>insects</td>\n",
       "      <td>0.016171</td>\n",
       "      <td>-0.016</td>\n",
       "      <td>-0.001722</td>\n",
       "    </tr>\n",
       "    <tr>\n",
       "      <th>8</th>\n",
       "      <td>large_carnivores</td>\n",
       "      <td>0.047110</td>\n",
       "      <td>-0.052</td>\n",
       "      <td>-0.014558</td>\n",
       "    </tr>\n",
       "    <tr>\n",
       "      <th>9</th>\n",
       "      <td>large_man-made_outdoor_things</td>\n",
       "      <td>-0.080013</td>\n",
       "      <td>0.050</td>\n",
       "      <td>-0.023702</td>\n",
       "    </tr>\n",
       "    <tr>\n",
       "      <th>10</th>\n",
       "      <td>large_natural_outdoor_scenes</td>\n",
       "      <td>0.089666</td>\n",
       "      <td>-0.122</td>\n",
       "      <td>0.002841</td>\n",
       "    </tr>\n",
       "    <tr>\n",
       "      <th>11</th>\n",
       "      <td>large_omnivores_and_herbivores</td>\n",
       "      <td>0.059846</td>\n",
       "      <td>-0.096</td>\n",
       "      <td>-0.003810</td>\n",
       "    </tr>\n",
       "    <tr>\n",
       "      <th>12</th>\n",
       "      <td>medium_mammals</td>\n",
       "      <td>0.106682</td>\n",
       "      <td>-0.050</td>\n",
       "      <td>0.020918</td>\n",
       "    </tr>\n",
       "    <tr>\n",
       "      <th>13</th>\n",
       "      <td>non-insect_invertebrates</td>\n",
       "      <td>-0.009255</td>\n",
       "      <td>-0.058</td>\n",
       "      <td>-0.048801</td>\n",
       "    </tr>\n",
       "    <tr>\n",
       "      <th>14</th>\n",
       "      <td>people</td>\n",
       "      <td>-0.140557</td>\n",
       "      <td>0.144</td>\n",
       "      <td>0.009801</td>\n",
       "    </tr>\n",
       "    <tr>\n",
       "      <th>15</th>\n",
       "      <td>reptiles</td>\n",
       "      <td>0.007578</td>\n",
       "      <td>-0.018</td>\n",
       "      <td>-0.010577</td>\n",
       "    </tr>\n",
       "    <tr>\n",
       "      <th>16</th>\n",
       "      <td>small_mammals</td>\n",
       "      <td>0.018415</td>\n",
       "      <td>-0.062</td>\n",
       "      <td>-0.031193</td>\n",
       "    </tr>\n",
       "    <tr>\n",
       "      <th>17</th>\n",
       "      <td>trees</td>\n",
       "      <td>0.052143</td>\n",
       "      <td>0.010</td>\n",
       "      <td>0.032186</td>\n",
       "    </tr>\n",
       "    <tr>\n",
       "      <th>18</th>\n",
       "      <td>vehicles_1</td>\n",
       "      <td>-0.031687</td>\n",
       "      <td>0.062</td>\n",
       "      <td>0.019613</td>\n",
       "    </tr>\n",
       "    <tr>\n",
       "      <th>19</th>\n",
       "      <td>vehicles_2</td>\n",
       "      <td>-0.025925</td>\n",
       "      <td>-0.010</td>\n",
       "      <td>-0.017778</td>\n",
       "    </tr>\n",
       "  </tbody>\n",
       "</table>\n",
       "</div>"
      ],
      "text/plain": [
       "                             C_Y_L  C_P_L - C_of_F_P_L  C_R_L - C_of_F_R_L  \\\n",
       "0                  aquatic_mammals           -0.057792               0.096   \n",
       "1                             fish           -0.009107              -0.006   \n",
       "2                          flowers            0.113045              -0.044   \n",
       "3                  food_containers           -0.045580               0.028   \n",
       "4             fruit_and_vegetables            0.054038              -0.100   \n",
       "5     household_electrical_devices           -0.064486              -0.026   \n",
       "6              household_furniture           -0.139122               0.142   \n",
       "7                          insects            0.016171              -0.016   \n",
       "8                 large_carnivores            0.047110              -0.052   \n",
       "9    large_man-made_outdoor_things           -0.080013               0.050   \n",
       "10    large_natural_outdoor_scenes            0.089666              -0.122   \n",
       "11  large_omnivores_and_herbivores            0.059846              -0.096   \n",
       "12                  medium_mammals            0.106682              -0.050   \n",
       "13        non-insect_invertebrates           -0.009255              -0.058   \n",
       "14                          people           -0.140557               0.144   \n",
       "15                        reptiles            0.007578              -0.018   \n",
       "16                   small_mammals            0.018415              -0.062   \n",
       "17                           trees            0.052143               0.010   \n",
       "18                      vehicles_1           -0.031687               0.062   \n",
       "19                      vehicles_2           -0.025925              -0.010   \n",
       "\n",
       "    C_F1S_L - C_of_F_F1S_L  \n",
       "0                 0.009382  \n",
       "1                -0.007791  \n",
       "2                 0.037268  \n",
       "3                -0.014464  \n",
       "4                -0.028996  \n",
       "5                -0.044115  \n",
       "6                -0.043623  \n",
       "7                -0.001722  \n",
       "8                -0.014558  \n",
       "9                -0.023702  \n",
       "10                0.002841  \n",
       "11               -0.003810  \n",
       "12                0.020918  \n",
       "13               -0.048801  \n",
       "14                0.009801  \n",
       "15               -0.010577  \n",
       "16               -0.031193  \n",
       "17                0.032186  \n",
       "18                0.019613  \n",
       "19               -0.017778  "
      ]
     },
     "execution_count": 94,
     "metadata": {},
     "output_type": "execute_result"
    }
   ],
   "source": [
    "print(C, \"VS\", C, \"_ of _\", F, ':')\n",
    "\n",
    "D_DF_col_1 = \"C_P_L - C_of_F_P_L\"\n",
    "D_DF_col_2 = \"C_R_L - C_of_F_R_L\"\n",
    "D_DF_col_3 = \"C_F1S_L - C_of_F_F1S_L\"\n",
    "\n",
    "#\n",
    "D_DF = pd.DataFrame({\n",
    "    D_DF_col_0: C_Y_L,\n",
    "    D_DF_col_1: C_P_L - C_of_F_P_L,\n",
    "    D_DF_col_2: C_R_L - C_of_F_R_L,\n",
    "    D_DF_col_3: C_F1S_L - C_of_F_F1S_L\n",
    "    })\n",
    "\n",
    "D_DF"
   ]
  },
  {
   "cell_type": "code",
   "execution_count": 95,
   "metadata": {},
   "outputs": [],
   "source": [
    "def plot_BarH_D_DF(M, D_DF):\n",
    "    # <AxesSubplot:>\n",
    "    s = 8 # size\n",
    "    DF_FS = (s, s) # Data Frame Figure Size = (H, W)\n",
    "    \n",
    "    sort_cols = [D_DF_col_0, '']\n",
    "    print(\"Metric: M =\", M)\n",
    "    if (M == P):\n",
    "        sort_cols[1] = [D_DF_col_1] # Global\n",
    "    elif (M == R):\n",
    "        sort_cols[1] = [D_DF_col_2] # Global\n",
    "    elif(M == F1S):\n",
    "        sort_cols[1] = [D_DF_col_3] # Global\n",
    "    else:\n",
    "        print(\"Error: M\") #\n",
    "    \n",
    "    x_label = \"Delta: Δ \" + M\n",
    "    D_DF.sort_values(by = sort_cols[0], ascending = False).plot.barh(x = sort_cols[0], y = sort_cols[1], legend = True, figsize = DF_FS, xlabel = x_label, ylabel = C)\n",
    "    plt.title(M)\n",
    "    plt.show()"
   ]
  },
  {
   "cell_type": "code",
   "execution_count": 96,
   "metadata": {},
   "outputs": [
    {
     "name": "stdout",
     "output_type": "stream",
     "text": [
      "coarse VS coarse _ of _ fine :\n",
      "\n",
      "Metric: M = precision\n"
     ]
    },
    {
     "data": {
      "image/png": "[encoded data removed]",
      "text/plain": [
       "<Figure size 576x576 with 1 Axes>"
      ]
     },
     "metadata": {
      "needs_background": "light"
     },
     "output_type": "display_data"
    }
   ],
   "source": [
    "print(C, \"VS\", C, \"_ of _\", F, ':')\n",
    "print()\n",
    "plot_BarH_D_DF(P, D_DF)"
   ]
  },
  {
   "cell_type": "code",
   "execution_count": 97,
   "metadata": {},
   "outputs": [
    {
     "name": "stdout",
     "output_type": "stream",
     "text": [
      "coarse VS coarse _ of _ fine :\n",
      "\n",
      "Metric: M = recall\n"
     ]
    },
    {
     "data": {
      "image/png": "[encoded data removed]",
      "text/plain": [
       "<Figure size 576x576 with 1 Axes>"
      ]
     },
     "metadata": {
      "needs_background": "light"
     },
     "output_type": "display_data"
    }
   ],
   "source": [
    "print(C, \"VS\", C, \"_ of _\", F, ':')\n",
    "print()\n",
    "plot_BarH_D_DF(R, D_DF)"
   ]
  },
  {
   "cell_type": "code",
   "execution_count": 98,
   "metadata": {},
   "outputs": [
    {
     "name": "stdout",
     "output_type": "stream",
     "text": [
      "coarse VS coarse _ of _ fine :\n",
      "\n",
      "Metric: M = f1-score\n"
     ]
    },
    {
     "data": {
      "image/png": "[encoded data removed]",
      "text/plain": [
       "<Figure size 576x576 with 1 Axes>"
      ]
     },
     "metadata": {
      "needs_background": "light"
     },
     "output_type": "display_data"
    }
   ],
   "source": [
    "print(C, \"VS\", C, \"_ of _\", F, ':')\n",
    "print()\n",
    "plot_BarH_D_DF(F1S, D_DF)"
   ]
  },
  {
   "cell_type": "code",
   "execution_count": 99,
   "metadata": {},
   "outputs": [
    {
     "name": "stdout",
     "output_type": "stream",
     "text": [
      "coarse VS coarse _ of _ fine :\n"
     ]
    },
    {
     "data": {
      "text/html": [
       "<div>\n",
       "<style scoped>\n",
       "    .dataframe tbody tr th:only-of-type {\n",
       "        vertical-align: middle;\n",
       "    }\n",
       "\n",
       "    .dataframe tbody tr th {\n",
       "        vertical-align: top;\n",
       "    }\n",
       "\n",
       "    .dataframe thead th {\n",
       "        text-align: right;\n",
       "    }\n",
       "</style>\n",
       "<table border=\"1\" class=\"dataframe\">\n",
       "  <thead>\n",
       "    <tr style=\"text-align: right;\">\n",
       "      <th></th>\n",
       "      <th>C_Y_L</th>\n",
       "      <th>P.abs(Δ) = [C_P_L - C_of_F_P_L]</th>\n",
       "      <th>R.abs(Δ) = [C_R_L - C_of_F_R_L]</th>\n",
       "      <th>F1S.abs(Δ) = [C_F1S_L - C_of_F_F1S_L]</th>\n",
       "    </tr>\n",
       "  </thead>\n",
       "  <tbody>\n",
       "    <tr>\n",
       "      <th>0</th>\n",
       "      <td>aquatic_mammals</td>\n",
       "      <td>0.057792</td>\n",
       "      <td>0.096</td>\n",
       "      <td>0.009382</td>\n",
       "    </tr>\n",
       "    <tr>\n",
       "      <th>1</th>\n",
       "      <td>fish</td>\n",
       "      <td>0.009107</td>\n",
       "      <td>0.006</td>\n",
       "      <td>0.007791</td>\n",
       "    </tr>\n",
       "    <tr>\n",
       "      <th>2</th>\n",
       "      <td>flowers</td>\n",
       "      <td>0.113045</td>\n",
       "      <td>0.044</td>\n",
       "      <td>0.037268</td>\n",
       "    </tr>\n",
       "    <tr>\n",
       "      <th>3</th>\n",
       "      <td>food_containers</td>\n",
       "      <td>0.045580</td>\n",
       "      <td>0.028</td>\n",
       "      <td>0.014464</td>\n",
       "    </tr>\n",
       "    <tr>\n",
       "      <th>4</th>\n",
       "      <td>fruit_and_vegetables</td>\n",
       "      <td>0.054038</td>\n",
       "      <td>0.100</td>\n",
       "      <td>0.028996</td>\n",
       "    </tr>\n",
       "    <tr>\n",
       "      <th>5</th>\n",
       "      <td>household_electrical_devices</td>\n",
       "      <td>0.064486</td>\n",
       "      <td>0.026</td>\n",
       "      <td>0.044115</td>\n",
       "    </tr>\n",
       "    <tr>\n",
       "      <th>6</th>\n",
       "      <td>household_furniture</td>\n",
       "      <td>0.139122</td>\n",
       "      <td>0.142</td>\n",
       "      <td>0.043623</td>\n",
       "    </tr>\n",
       "    <tr>\n",
       "      <th>7</th>\n",
       "      <td>insects</td>\n",
       "      <td>0.016171</td>\n",
       "      <td>0.016</td>\n",
       "      <td>0.001722</td>\n",
       "    </tr>\n",
       "    <tr>\n",
       "      <th>8</th>\n",
       "      <td>large_carnivores</td>\n",
       "      <td>0.047110</td>\n",
       "      <td>0.052</td>\n",
       "      <td>0.014558</td>\n",
       "    </tr>\n",
       "    <tr>\n",
       "      <th>9</th>\n",
       "      <td>large_man-made_outdoor_things</td>\n",
       "      <td>0.080013</td>\n",
       "      <td>0.050</td>\n",
       "      <td>0.023702</td>\n",
       "    </tr>\n",
       "    <tr>\n",
       "      <th>10</th>\n",
       "      <td>large_natural_outdoor_scenes</td>\n",
       "      <td>0.089666</td>\n",
       "      <td>0.122</td>\n",
       "      <td>0.002841</td>\n",
       "    </tr>\n",
       "    <tr>\n",
       "      <th>11</th>\n",
       "      <td>large_omnivores_and_herbivores</td>\n",
       "      <td>0.059846</td>\n",
       "      <td>0.096</td>\n",
       "      <td>0.003810</td>\n",
       "    </tr>\n",
       "    <tr>\n",
       "      <th>12</th>\n",
       "      <td>medium_mammals</td>\n",
       "      <td>0.106682</td>\n",
       "      <td>0.050</td>\n",
       "      <td>0.020918</td>\n",
       "    </tr>\n",
       "    <tr>\n",
       "      <th>13</th>\n",
       "      <td>non-insect_invertebrates</td>\n",
       "      <td>0.009255</td>\n",
       "      <td>0.058</td>\n",
       "      <td>0.048801</td>\n",
       "    </tr>\n",
       "    <tr>\n",
       "      <th>14</th>\n",
       "      <td>people</td>\n",
       "      <td>0.140557</td>\n",
       "      <td>0.144</td>\n",
       "      <td>0.009801</td>\n",
       "    </tr>\n",
       "    <tr>\n",
       "      <th>15</th>\n",
       "      <td>reptiles</td>\n",
       "      <td>0.007578</td>\n",
       "      <td>0.018</td>\n",
       "      <td>0.010577</td>\n",
       "    </tr>\n",
       "    <tr>\n",
       "      <th>16</th>\n",
       "      <td>small_mammals</td>\n",
       "      <td>0.018415</td>\n",
       "      <td>0.062</td>\n",
       "      <td>0.031193</td>\n",
       "    </tr>\n",
       "    <tr>\n",
       "      <th>17</th>\n",
       "      <td>trees</td>\n",
       "      <td>0.052143</td>\n",
       "      <td>0.010</td>\n",
       "      <td>0.032186</td>\n",
       "    </tr>\n",
       "    <tr>\n",
       "      <th>18</th>\n",
       "      <td>vehicles_1</td>\n",
       "      <td>0.031687</td>\n",
       "      <td>0.062</td>\n",
       "      <td>0.019613</td>\n",
       "    </tr>\n",
       "    <tr>\n",
       "      <th>19</th>\n",
       "      <td>vehicles_2</td>\n",
       "      <td>0.025925</td>\n",
       "      <td>0.010</td>\n",
       "      <td>0.017778</td>\n",
       "    </tr>\n",
       "  </tbody>\n",
       "</table>\n",
       "</div>"
      ],
      "text/plain": [
       "                             C_Y_L  P.abs(Δ) = [C_P_L - C_of_F_P_L]  \\\n",
       "0                  aquatic_mammals                         0.057792   \n",
       "1                             fish                         0.009107   \n",
       "2                          flowers                         0.113045   \n",
       "3                  food_containers                         0.045580   \n",
       "4             fruit_and_vegetables                         0.054038   \n",
       "5     household_electrical_devices                         0.064486   \n",
       "6              household_furniture                         0.139122   \n",
       "7                          insects                         0.016171   \n",
       "8                 large_carnivores                         0.047110   \n",
       "9    large_man-made_outdoor_things                         0.080013   \n",
       "10    large_natural_outdoor_scenes                         0.089666   \n",
       "11  large_omnivores_and_herbivores                         0.059846   \n",
       "12                  medium_mammals                         0.106682   \n",
       "13        non-insect_invertebrates                         0.009255   \n",
       "14                          people                         0.140557   \n",
       "15                        reptiles                         0.007578   \n",
       "16                   small_mammals                         0.018415   \n",
       "17                           trees                         0.052143   \n",
       "18                      vehicles_1                         0.031687   \n",
       "19                      vehicles_2                         0.025925   \n",
       "\n",
       "    R.abs(Δ) = [C_R_L - C_of_F_R_L]  F1S.abs(Δ) = [C_F1S_L - C_of_F_F1S_L]  \n",
       "0                             0.096                               0.009382  \n",
       "1                             0.006                               0.007791  \n",
       "2                             0.044                               0.037268  \n",
       "3                             0.028                               0.014464  \n",
       "4                             0.100                               0.028996  \n",
       "5                             0.026                               0.044115  \n",
       "6                             0.142                               0.043623  \n",
       "7                             0.016                               0.001722  \n",
       "8                             0.052                               0.014558  \n",
       "9                             0.050                               0.023702  \n",
       "10                            0.122                               0.002841  \n",
       "11                            0.096                               0.003810  \n",
       "12                            0.050                               0.020918  \n",
       "13                            0.058                               0.048801  \n",
       "14                            0.144                               0.009801  \n",
       "15                            0.018                               0.010577  \n",
       "16                            0.062                               0.031193  \n",
       "17                            0.010                               0.032186  \n",
       "18                            0.062                               0.019613  \n",
       "19                            0.010                               0.017778  "
      ]
     },
     "execution_count": 99,
     "metadata": {},
     "output_type": "execute_result"
    }
   ],
   "source": [
    "print(C, \"VS\", C, \"_ of _\", F, ':')\n",
    "\n",
    "abs_txt = \".abs(Δ) = \"\n",
    "abs_D_DF_col_1 = 'P'   + abs_txt + '[' + D_DF_col_1 + ']'\n",
    "abs_D_DF_col_2 = 'R'   + abs_txt + '[' + D_DF_col_2 + ']'\n",
    "abs_D_DF_col_3 = 'F1S' + abs_txt + '[' + D_DF_col_3 + ']'\n",
    "\n",
    "#\n",
    "abs_D_DF = pd.DataFrame({\n",
    "    D_DF_col_0: C_Y_L,\n",
    "    abs_D_DF_col_1: abs(C_P_L - C_of_F_P_L),\n",
    "    abs_D_DF_col_2: abs(C_R_L - C_of_F_R_L),\n",
    "    abs_D_DF_col_3: abs(C_F1S_L - C_of_F_F1S_L)\n",
    "    })\n",
    "\n",
    "abs_D_DF"
   ]
  },
  {
   "cell_type": "code",
   "execution_count": 100,
   "metadata": {},
   "outputs": [],
   "source": [
    "# max"
   ]
  },
  {
   "cell_type": "code",
   "execution_count": 101,
   "metadata": {},
   "outputs": [],
   "source": [
    "def plot_BarH_abs_D_DF(M, abs_D_DF):    \n",
    "    s = 8 # size\n",
    "    DF_FS = (s, s) # Data Frame Figure Size = (H, W)\n",
    "    c = '' # colour\n",
    "    sort_cols = [D_DF_col_0, '']\n",
    "    \n",
    "    print(\"Metric: M =\", M)\n",
    "    if (M == P):\n",
    "        sort_cols[1] = [abs_D_DF_col_1] # Global\n",
    "        c = \"blue\"\n",
    "    elif (M == R):\n",
    "        sort_cols[1] = [abs_D_DF_col_2] # Global\n",
    "        c = \"orange\"\n",
    "    elif(M == F1S):\n",
    "        sort_cols[1] = [abs_D_DF_col_3] # Global\n",
    "        c = \"green\"\n",
    "    else:\n",
    "        print(\"Error: M\")\n",
    "    \n",
    "    #abs_D_DF.sort_values(by = sort_cols[0], ascending = False).plot.barh(x = sort_cols[0], y = sort_cols[1], legend = True, figsize = DF_FS, xlabel = \"abs(Delta)\", ylabel = C)\n",
    "    DF = abs_D_DF.sort_values(by = sort_cols[0], ascending = False)\n",
    "    DF.plot.barh(x = sort_cols[0], y = sort_cols[1], legend = True, figsize = DF_FS, xlabel = \"abs(Delta)\", ylabel = C, color = c)\n",
    "\n",
    "    plt.title(\"Metric: \" + M)\n",
    "    plt.show() # <AxesSubplot:>"
   ]
  },
  {
   "cell_type": "code",
   "execution_count": 102,
   "metadata": {},
   "outputs": [
    {
     "name": "stdout",
     "output_type": "stream",
     "text": [
      "coarse VS coarse _ of _ fine :\n",
      "\n",
      "Metric: M = precision\n"
     ]
    },
    {
     "data": {
      "image/png": "[encoded data removed]",
      "text/plain": [
       "<Figure size 576x576 with 1 Axes>"
      ]
     },
     "metadata": {
      "needs_background": "light"
     },
     "output_type": "display_data"
    }
   ],
   "source": [
    "print(C, \"VS\", C, \"_ of _\", F, ':')\n",
    "print()\n",
    "plot_BarH_abs_D_DF(P, abs_D_DF)"
   ]
  },
  {
   "cell_type": "code",
   "execution_count": 103,
   "metadata": {},
   "outputs": [
    {
     "name": "stdout",
     "output_type": "stream",
     "text": [
      "coarse VS coarse _ of _ fine :\n",
      "\n",
      "Metric: M = recall\n"
     ]
    },
    {
     "data": {
      "image/png": "[encoded data removed]",
      "text/plain": [
       "<Figure size 576x576 with 1 Axes>"
      ]
     },
     "metadata": {
      "needs_background": "light"
     },
     "output_type": "display_data"
    }
   ],
   "source": [
    "print(C, \"VS\", C, \"_ of _\", F, ':')\n",
    "print()\n",
    "plot_BarH_abs_D_DF(R, abs_D_DF)"
   ]
  },
  {
   "cell_type": "code",
   "execution_count": 104,
   "metadata": {},
   "outputs": [
    {
     "name": "stdout",
     "output_type": "stream",
     "text": [
      "coarse VS coarse _ of _ fine :\n",
      "\n",
      "Metric: M = f1-score\n"
     ]
    },
    {
     "data": {
      "image/png": "[encoded data removed]",
      "text/plain": [
       "<Figure size 576x576 with 1 Axes>"
      ]
     },
     "metadata": {
      "needs_background": "light"
     },
     "output_type": "display_data"
    }
   ],
   "source": [
    "print(C, \"VS\", C, \"_ of _\", F, ':')\n",
    "print()\n",
    "plot_BarH_abs_D_DF(F1S, abs_D_DF)"
   ]
  },
  {
   "cell_type": "code",
   "execution_count": 105,
   "metadata": {},
   "outputs": [],
   "source": [
    "def plot_BarsH_abs_D_DF(abs_D_DF, sort_by_col):\n",
    "    s = 8 # size\n",
    "    DF_FS = (s, s) # Data Frame Figure Size = (H, W)\n",
    "    \n",
    "    x_label = \"abs(Delta): Δ \"\n",
    "    #abs_D_DF.sort_values(by = sort_by_col, ascending = False).plot.barh(x = sort_cols[0], y = sort_cols[1], legend = True, figsize = DF_FS, xlabel = \"abs(Delta)\", ylabel = C)\n",
    "    DF = abs_D_DF.sort_values(by = sort_by_col, ascending = False)\n",
    "    DF.plot.barh(x = D_DF_col_0, legend = True, figsize = DF_FS, xlabel = x_label, ylabel = C)\n",
    "\n",
    "    plt.xlabel(\"abs(Delta), \" + \"Sort by Column: \" + sort_by_col)\n",
    "    plt.ylabel(C)\n",
    "    plt.title(\"Metrics: \" + P + ', ' + R + ', ' + F1S) # Global\n",
    "    plt.show() # <AxesSubplot:>"
   ]
  },
  {
   "cell_type": "code",
   "execution_count": 106,
   "metadata": {},
   "outputs": [
    {
     "data": {
      "image/png": "[encoded data removed]",
      "text/plain": [
       "<Figure size 576x576 with 1 Axes>"
      ]
     },
     "metadata": {
      "needs_background": "light"
     },
     "output_type": "display_data"
    }
   ],
   "source": [
    "plot_BarsH_abs_D_DF(abs_D_DF, D_DF_col_0) # C_Y_L"
   ]
  },
  {
   "cell_type": "code",
   "execution_count": 107,
   "metadata": {},
   "outputs": [
    {
     "data": {
      "image/png": "[encoded data removed]",
      "text/plain": [
       "<Figure size 576x576 with 1 Axes>"
      ]
     },
     "metadata": {
      "needs_background": "light"
     },
     "output_type": "display_data"
    }
   ],
   "source": [
    "plot_BarsH_abs_D_DF(abs_D_DF, abs_D_DF_col_1) # P"
   ]
  },
  {
   "cell_type": "code",
   "execution_count": 108,
   "metadata": {},
   "outputs": [
    {
     "data": {
      "image/png": "[encoded data removed]",
      "text/plain": [
       "<Figure size 576x576 with 1 Axes>"
      ]
     },
     "metadata": {
      "needs_background": "light"
     },
     "output_type": "display_data"
    }
   ],
   "source": [
    "plot_BarsH_abs_D_DF(abs_D_DF, abs_D_DF_col_2) # R"
   ]
  },
  {
   "cell_type": "code",
   "execution_count": 109,
   "metadata": {},
   "outputs": [
    {
     "data": {
      "image/png": "[encoded data removed]",
      "text/plain": [
       "<Figure size 576x576 with 1 Axes>"
      ]
     },
     "metadata": {
      "needs_background": "light"
     },
     "output_type": "display_data"
    }
   ],
   "source": [
    "plot_BarsH_abs_D_DF(abs_D_DF, abs_D_DF_col_3) # F1S"
   ]
  },
  {
   "cell_type": "code",
   "execution_count": 110,
   "metadata": {},
   "outputs": [],
   "source": [
    "# Предсказание всех узких классов каждого широкого класса\n",
    "#  нужно обобщить до предсказания широкого класса,\n",
    "#  и полученное агрегированное предсказание широкого класса\n",
    "#  сравнить с предсказанием широкого класса напрямую, без разбиения на узкие."
   ]
  },
  {
   "cell_type": "markdown",
   "metadata": {},
   "source": [
    "**Вывод:**\n",
    "- По **графикам** (столбчатым диаграммам) видно,\n",
    "<br> что **метрики предсказания** (`Precision`, `ReCall`~, `F1-Score`~)\n",
    "<br> для _этих_ **узких классов (обобщённых до их широких)**\n",
    "<br> _более всего_ **отличаются от** метрик их более широких:\n",
    " - `people`,\n",
    " - `household_furniture`;"
   ]
  },
  {
   "cell_type": "code",
   "execution_count": 111,
   "metadata": {},
   "outputs": [
    {
     "name": "stdout",
     "output_type": "stream",
     "text": [
      "{CF_Y_D}[people]              = ['baby', 'boy', 'girl', 'man', 'woman']\n",
      "\n",
      "{CF_Y_D}[household_furniture] = ['bed', 'chair', 'couch', 'table', 'wardrobe']\n"
     ]
    }
   ],
   "source": [
    "print(\"{CF_Y_D}[people]              =\", CF_Y_D[\"people\"])\n",
    "print()\n",
    "print(\"{CF_Y_D}[household_furniture] =\", CF_Y_D[\"household_furniture\"])"
   ]
  },
  {
   "cell_type": "code",
   "execution_count": 112,
   "metadata": {},
   "outputs": [],
   "source": [
    "# imgShow"
   ]
  },
  {
   "cell_type": "markdown",
   "metadata": {},
   "source": [
    "❔❓\n",
    "**Предположение о причине возможного отличия:**\n",
    "- _Возможно_, все перечисленные выше узкие классы, входящие в **широкие** `People` и `HouseHold_Furniture`,\n",
    "<br> имеют наиболее отличающиеся друг от друга значения **метрик** `Precision` и `ReCall`\n",
    "<br> _по сравнению с_ таковыми для аналогичных широких,\n",
    "<br> _т. к._:\n",
    " - `Люди` - несмотря на одинаковое анатомическое строение, не похожи друг на друга внешне \n",
    "<br> (из-за, _например_: возраста, роста, веса, пола, длины и цветов волос, глаз и кожи, а также - одежды);\n",
    " - `Домашняя Мебель` - имеет достаточно `1`-типные (хотя и разные всё-таки) форму и цвет,\n",
    "<br> но расположена в разной обстановке внутри комнаты дома,\n",
    "<br> и на фотографиях - показана с разных ракурсов."
   ]
  },
  {
   "cell_type": "markdown",
   "metadata": {},
   "source": [
    "## 0.5."
   ]
  },
  {
   "cell_type": "code",
   "execution_count": 113,
   "metadata": {},
   "outputs": [],
   "source": [
    "# 5. У вас должен получиться `.ipynb`-файл с объяснениями, оформленными в отдельных текстовых блоках."
   ]
  },
  {
   "cell_type": "markdown",
   "metadata": {},
   "source": [
    "+"
   ]
  },
  {
   "cell_type": "markdown",
   "metadata": {},
   "source": [
    "## 0.6."
   ]
  },
  {
   "cell_type": "code",
   "execution_count": 114,
   "metadata": {},
   "outputs": [],
   "source": [
    "# 6. После готовности блокнота `.ipynb` преобразуйте его в программу на `Питоне` (`.py`) так,\n",
    "#     чтобы после обучения модели она автоматически экспортировалась бы в файл\n",
    "#     (см., например, https://www.tensorflow.org/guide/keras/serialization_and_saving)."
   ]
  },
  {
   "cell_type": "markdown",
   "metadata": {},
   "source": [
    "**Файлы:**\n",
    "- `[cifar-100-python.tar]`;\n",
    "- `[IA_0_1.0.ipynb]`;\n",
    "- `[saved_model_C.keras]`;\n",
    "- `[saved_model_F.keras]`;\n",
    "- `[IA_0_1.0.py]`."
   ]
  },
  {
   "cell_type": "markdown",
   "metadata": {},
   "source": [
    "## 0.7."
   ]
  },
  {
   "cell_type": "code",
   "execution_count": 115,
   "metadata": {},
   "outputs": [],
   "source": [
    "# 7. Дополнительно:\n",
    "#  - Опишите конвейер, который бы запускал программу обучения, \n",
    "#     и при успешном формировании файла модели выгружал бы его как артефакт в репозиторий локально развёрнутого `GitLab`\n",
    "#     (это было задание модуля 4 по проектированию и развёртке).\n",
    "#  - Добавьте в ваш локальный репозиторий специальную ветку, в которой хранились бы только файлы с данными,\n",
    "#     чтобы при обновлении этой ветки инициировалось бы повторное обучение модели на новых файлах данных."
   ]
  },
  {
   "cell_type": "code",
   "execution_count": 116,
   "metadata": {},
   "outputs": [
    {
     "data": {
      "text/plain": [
       "'\\n# .gitlab-ci.yml\\n\\nstages:\\n    - train\\n    - deploy\\n \\nvariables:\\n    C_MODEL_NAME: \"C_model\"\\n    F_MODEL_NAME: \"F_model\"\\n    SCRIPT_PATH: \"main/cifar_100.py\"\\n\\ntrain_models:\\n    stage: train\\n    script:\\n        - python $SCRIPT_PATH\\n    artifacts:\\n        paths:\\n            - $C_MODEL_NAME.keras\\n            - $F_MODEL_NAME.keras\\n    only:\\n        - data\\n\\ndepoy_models:\\n    stage: deploy\\n    script:\\n        - mv $C_MODEL_NAME.keras $CI_PROJECT_DIR/artifacts/\\n        - mv $F_MODEL_NAME.keras $CI_PROJECT_DIR/artifacts/\\n    only:\\n        - main\\n\\n'"
      ]
     },
     "execution_count": 116,
     "metadata": {},
     "output_type": "execute_result"
    }
   ],
   "source": [
    "#\n",
    "'''\n",
    "# .gitlab-ci.yml\n",
    "\n",
    "stages:\n",
    "    - train\n",
    "    - deploy\n",
    " \n",
    "variables:\n",
    "    C_MODEL_NAME: \"C_model\"\n",
    "    F_MODEL_NAME: \"F_model\"\n",
    "    SCRIPT_PATH: \"main/cifar_100.py\"\n",
    "\n",
    "train_models:\n",
    "    stage: train\n",
    "    script:\n",
    "        - python $SCRIPT_PATH\n",
    "    artifacts:\n",
    "        paths:\n",
    "            - $C_MODEL_NAME.keras\n",
    "            - $F_MODEL_NAME.keras\n",
    "    only:\n",
    "        - data\n",
    "\n",
    "depoy_models:\n",
    "    stage: deploy\n",
    "    script:\n",
    "        - mv $C_MODEL_NAME.keras $CI_PROJECT_DIR/artifacts/\n",
    "        - mv $F_MODEL_NAME.keras $CI_PROJECT_DIR/artifacts/\n",
    "    only:\n",
    "        - main\n",
    "\n",
    "'''"
   ]
  },
  {
   "cell_type": "code",
   "execution_count": null,
   "metadata": {},
   "outputs": [],
   "source": []
  }
 ],
 "metadata": {
  "kernelspec": {
   "display_name": "Python 3",
   "language": "python",
   "name": "python3"
  },
  "language_info": {
   "codemirror_mode": {
    "name": "ipython",
    "version": 3
   },
   "file_extension": ".py",
   "mimetype": "text/x-python",
   "name": "python",
   "nbconvert_exporter": "python",
   "pygments_lexer": "ipython3",
   "version": "3.8.0"
  }
 },
 "nbformat": 4,
 "nbformat_minor": 4
}
